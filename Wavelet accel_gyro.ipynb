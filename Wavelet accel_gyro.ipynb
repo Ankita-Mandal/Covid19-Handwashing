{
 "cells": [
  {
   "cell_type": "code",
   "execution_count": 1,
   "metadata": {},
   "outputs": [],
   "source": [
    "import os\n",
    "import time\n",
    "import numpy as np\n",
    "import pandas as pd\n",
    "import scipy.io as sio\n",
    "from IPython.display import display\n",
    "import itertools as it\n",
    "\n",
    "import matplotlib.pyplot as plt\n",
    "import pywt\n",
    "import scipy.stats\n",
    "\n",
    "import datetime as dt\n",
    "from collections import defaultdict, Counter\n",
    "from sklearn.model_selection import StratifiedKFold\n",
    "from sklearn.model_selection import KFold \n",
    "\n",
    "from sklearn.ensemble import GradientBoostingClassifier\n",
    "from sklearn.ensemble import RandomForestClassifier\n",
    "from sklearn.linear_model import LogisticRegression\n",
    "from sklearn.neighbors import KNeighborsClassifier\n",
    "from sklearn.tree import DecisionTreeClassifier\n",
    "from sklearn.svm import SVC\n",
    "from sklearn.neural_network import MLPClassifier\n",
    "from sklearn.naive_bayes import GaussianNB\n",
    "from sklearn.ensemble import AdaBoostClassifier\n",
    "from sklearn.gaussian_process import GaussianProcessClassifier"
   ]
  },
  {
   "cell_type": "code",
   "execution_count": 4,
   "metadata": {},
   "outputs": [],
   "source": [
    "data1=pd.read_csv('Data/Accelerometer/Accel Data 01.csv')\n",
    "data2=pd.read_csv('Data/Accelerometer/Accel Data 02.csv')\n",
    "data3=pd.read_csv('Data/Accelerometer/Accel Data 03.csv')\n",
    "data4=pd.read_csv('Data/Accelerometer/Accel Data 04.csv')\n",
    "data5=pd.read_csv('Data/Accelerometer/Accel Data 05.csv')\n",
    "data6=pd.read_csv('Data/Accelerometer/Accel Data 06.csv')\n",
    "\n",
    "data1g=pd.read_csv('Data/Gyroscope/Gyro Data 01.csv')\n",
    "data2g=pd.read_csv('Data/Gyroscope/Gyro Data 02.csv')\n",
    "data3g=pd.read_csv('Data/Gyroscope/Gyro Data 03.csv')\n",
    "data4g=pd.read_csv('Data/Gyroscope/Gyro Data 04.csv')\n",
    "data5g=pd.read_csv('Data/Gyroscope/Gyro Data 05.csv')\n",
    "data6g=pd.read_csv('Data/Gyroscope/Gyro Data 06.csv')\n",
    "\n",
    "# data1m=pd.read_csv('Mag Data 01.csv')\n",
    "# data2m=pd.read_csv('Mag Data 02.csv')\n",
    "# data3m=pd.read_csv('Mag Data 03.csv')\n",
    "# data4m=pd.read_csv('Mag Data 04.csv')\n",
    "# data5m=pd.read_csv('Mag Data 05.csv')\n",
    "# data6m=pd.read_csv('Mag Data 06.csv')\n"
   ]
  },
  {
   "cell_type": "code",
   "execution_count": 5,
   "metadata": {},
   "outputs": [],
   "source": [
    "data_cols = ['time', 'accelx', 'accely','accelz', 'absolute_accel']\n",
    "data1.columns = data_cols\n",
    "data2.columns = data_cols\n",
    "data3.columns = data_cols\n",
    "data4.columns = data_cols\n",
    "data5.columns = data_cols\n",
    "data6.columns = data_cols\n",
    "\n",
    "data_colsg = ['time', 'gyrox', 'gyroy','gyroz', 'absolute_gyro']\n",
    "data1g.columns = data_colsg\n",
    "data2g.columns = data_colsg\n",
    "data3g.columns = data_colsg\n",
    "data4g.columns = data_colsg\n",
    "data5g.columns = data_colsg\n",
    "data6g.columns = data_colsg\n",
    "\n",
    "# data1m.columns = data_cols\n",
    "# data2m.columns = data_cols\n",
    "# data3m.columns = data_cols\n",
    "# data4m.columns = data_cols\n",
    "# data5m.columns = data_cols\n",
    "# data6m.columns = data_cols"
   ]
  },
  {
   "cell_type": "code",
   "execution_count": 6,
   "metadata": {},
   "outputs": [],
   "source": [
    "#STEP 1 for all data\n",
    "step11 = data1[data1.time<=20.0]\n",
    "step21 = data2[data2.time<=20.0]\n",
    "step31 = data3[data3.time<=20.0]\n",
    "step41 = data4[data4.time<=20.0]\n",
    "step51 = data5[data5.time<=20.0]\n",
    "step61 = data6[data6.time<=20.0]\n",
    "\n",
    "step11g = data1g[data1g.time<=20.0]\n",
    "step21g = data2g[data2g.time<=20.0]\n",
    "step31g = data3g[data3g.time<=20.0]\n",
    "step41g = data4g[data4g.time<=20.0]\n",
    "step51g = data5g[data5g.time<=20.0]\n",
    "step61g = data6g[data6g.time<=20.0]\n",
    "\n",
    "# step11m = data1m[data1m.time<=20.0]\n",
    "# step21m = data2m[data2m.time<=20.0]\n",
    "# step31m = data3m[data3m.time<=20.0]\n",
    "# step41m = data4m[data4m.time<=20.0]\n",
    "# step51m = data5m[data5m.time<=20.0]\n",
    "# step61m = data6m[data6m.time<=20.0]"
   ]
  },
  {
   "cell_type": "code",
   "execution_count": 7,
   "metadata": {},
   "outputs": [],
   "source": [
    "#STEP 2\n",
    "step12 = data1[(data1.time>20.0) & (data1.time<=40.0)]\n",
    "step22 = data2[(data2.time>20.0) & (data2.time<=40.0)]\n",
    "step32 = data3[(data3.time>20.0) & (data3.time<=40.0)]\n",
    "step42 = data4[(data4.time>20.0) & (data4.time<=40.0)]\n",
    "step52 = data5[(data5.time>20.0) & (data5.time<=40.0)]\n",
    "step62 = data6[(data6.time>20.0) & (data6.time<=40.0)]\n",
    "\n",
    "step12g = data1g[(data1g.time>20.0) & (data1g.time<=40.0)]\n",
    "step22g = data2g[(data2g.time>20.0) & (data2g.time<=40.0)]\n",
    "step32g = data3g[(data3g.time>20.0) & (data3g.time<=40.0)]\n",
    "step42g = data4g[(data4g.time>20.0) & (data4g.time<=40.0)]\n",
    "step52g = data5g[(data5g.time>20.0) & (data5g.time<=40.0)]\n",
    "step62g = data6g[(data6g.time>20.0) & (data6g.time<=40.0)]\n",
    "\n",
    "# step12m = data1m[(data1m.time>20.0) & (data1m.time<=40.0)]\n",
    "# step22m = data2m[(data2m.time>20.0) & (data2m.time<=40.0)]\n",
    "# step32m = data3m[(data3m.time>20.0) & (data3m.time<=40.0)]\n",
    "# step42m = data4m[(data4m.time>20.0) & (data4m.time<=40.0)]\n",
    "# step52m = data5m[(data5m.time>20.0) & (data5m.time<=40.0)]\n",
    "# step62m = data6m[(data6m.time>20.0) & (data6m.time<=40.0)]"
   ]
  },
  {
   "cell_type": "code",
   "execution_count": 8,
   "metadata": {},
   "outputs": [],
   "source": [
    "#STEP 3\n",
    "step13 = data1[(data1.time>40.0) & (data1.time<=60.0)]\n",
    "step23 = data2[(data2.time>40.0) & (data2.time<=60.0)]\n",
    "step33 = data3[(data3.time>40.0) & (data3.time<=60.0)]\n",
    "step43 = data4[(data4.time>40.0) & (data4.time<=60.0)]\n",
    "step53 = data5[(data5.time>40.0) & (data5.time<=60.0)]\n",
    "step63 = data6[(data6.time>40.0) & (data6.time<=60.0)]\n",
    "\n",
    "#STEP 3\n",
    "step13g = data1g[(data1g.time>40.0) & (data1g.time<=60.0)]\n",
    "step23g = data2g[(data2g.time>40.0) & (data2g.time<=60.0)]\n",
    "step33g = data3g[(data3g.time>40.0) & (data3g.time<=60.0)]\n",
    "step43g = data4g[(data4g.time>40.0) & (data4g.time<=60.0)]\n",
    "step53g = data5g[(data5g.time>40.0) & (data5g.time<=60.0)]\n",
    "step63g = data6g[(data6g.time>40.0) & (data6g.time<=60.0)]\n",
    "\n",
    "# step13m = data1m[(data1m.time>40.0) & (data1m.time<=60.0)]\n",
    "# step23m = data2m[(data2m.time>40.0) & (data2m.time<=60.0)]\n",
    "# step33m = data3m[(data3m.time>40.0) & (data3m.time<=60.0)]\n",
    "# step43m = data4m[(data4m.time>40.0) & (data4m.time<=60.0)]\n",
    "# step53m = data5m[(data5m.time>40.0) & (data5m.time<=60.0)]\n",
    "# step63m = data6m[(data6m.time>40.0) & (data6m.time<=60.0)]"
   ]
  },
  {
   "cell_type": "code",
   "execution_count": 9,
   "metadata": {},
   "outputs": [],
   "source": [
    "#STEP 4\n",
    "step14 = data1[(data1.time>60.0) & (data1.time<=80.0)]\n",
    "step24 = data2[(data2.time>60.0) & (data2.time<=80.0)]\n",
    "step34 = data3[(data3.time>60.0) & (data3.time<=80.0)]\n",
    "step44 = data4[(data4.time>60.0) & (data4.time<=80.0)]\n",
    "step54 = data5[(data5.time>60.0) & (data5.time<=80.0)]\n",
    "step64 = data6[(data6.time>60.0) & (data6.time<=80.0)]\n",
    "\n",
    "step14g = data1g[(data1g.time>60.0) & (data1g.time<=80.0)]\n",
    "step24g = data2g[(data2g.time>60.0) & (data2g.time<=80.0)]\n",
    "step34g = data3g[(data3g.time>60.0) & (data3g.time<=80.0)]\n",
    "step44g = data4g[(data4g.time>60.0) & (data4g.time<=80.0)]\n",
    "step54g = data5g[(data5g.time>60.0) & (data5g.time<=80.0)]\n",
    "step64g = data6g[(data6g.time>60.0) & (data6g.time<=80.0)]\n",
    "\n",
    "# step14m = data1m[(data1m.time>60.0) & (data1m.time<=80.0)]\n",
    "# step24m = data2m[(data2m.time>60.0) & (data2m.time<=80.0)]\n",
    "# step34m = data3m[(data3m.time>60.0) & (data3m.time<=80.0)]\n",
    "# step44m = data4m[(data4m.time>60.0) & (data4m.time<=80.0)]\n",
    "# step54m = data5m[(data5m.time>60.0) & (data5m.time<=80.0)]\n",
    "# step64m = data6m[(data6m.time>60.0) & (data6m.time<=80.0)]"
   ]
  },
  {
   "cell_type": "code",
   "execution_count": 10,
   "metadata": {},
   "outputs": [],
   "source": [
    "#STEP 5\n",
    "step15 = data1[(data1.time>80.0) & (data1.time<=100.0)]\n",
    "step25 = data2[(data2.time>80.0) & (data2.time<=100.0)]\n",
    "step35 = data3[(data3.time>80.0) & (data3.time<=100.0)]\n",
    "step45 = data4[(data4.time>80.0) & (data4.time<=100.0)]\n",
    "step55 = data5[(data5.time>80.0) & (data5.time<=100.0)]\n",
    "step65 = data6[(data6.time>80.0) & (data6.time<=100.0)]\n",
    "\n",
    "step15g = data1g[(data1g.time>80.0) & (data1g.time<=100.0)]\n",
    "step25g = data2g[(data2g.time>80.0) & (data2g.time<=100.0)]\n",
    "step35g = data3g[(data3g.time>80.0) & (data3g.time<=100.0)]\n",
    "step45g = data4g[(data4g.time>80.0) & (data4g.time<=100.0)]\n",
    "step55g = data5g[(data5g.time>80.0) & (data5g.time<=100.0)]\n",
    "step65g = data6g[(data6g.time>80.0) & (data6g.time<=100.0)]\n",
    "\n",
    "# step15m = data1m[(data1m.time>80.0) & (data1m.time<=100.0)]\n",
    "# step25m = data2m[(data2m.time>80.0) & (data2m.time<=100.0)]\n",
    "# step35m = data3m[(data3m.time>80.0) & (data3m.time<=100.0)]\n",
    "# step45m = data4m[(data4m.time>80.0) & (data4m.time<=100.0)]\n",
    "# step55m = data5m[(data5m.time>80.0) & (data5m.time<=100.0)]\n",
    "# step65m = data6m[(data6m.time>80.0) & (data6m.time<=100.0)]"
   ]
  },
  {
   "cell_type": "code",
   "execution_count": 11,
   "metadata": {},
   "outputs": [],
   "source": [
    "#STEP 6\n",
    "step16 = data1[(data1.time>100.0) & (data1.time<=120.0)]\n",
    "step26 = data2[(data2.time>100.0) & (data2.time<=120.0)]\n",
    "step36 = data3[(data3.time>100.0) & (data3.time<=120.0)]\n",
    "step46 = data4[(data4.time>100.0) & (data4.time<=120.0)]\n",
    "step56 = data5[(data5.time>100.0) & (data5.time<=120.0)]\n",
    "step66 = data6[(data6.time>100.0) & (data6.time<=120.0)]\n",
    "\n",
    "step16g = data1g[(data1g.time>100.0) & (data1g.time<=120.0)]\n",
    "step26g = data2g[(data2g.time>100.0) & (data2g.time<=120.0)]\n",
    "step36g = data3g[(data3g.time>100.0) & (data3g.time<=120.0)]\n",
    "step46g = data4g[(data4g.time>100.0) & (data4g.time<=120.0)]\n",
    "step56g = data5g[(data5g.time>100.0) & (data5g.time<=120.0)]\n",
    "step66g = data6g[(data6g.time>100.0) & (data6g.time<=120.0)]\n",
    "\n",
    "# step16m = data1m[(data1m.time>100.0) & (data1m.time<=120.0)]\n",
    "# step26m = data2m[(data2m.time>100.0) & (data2m.time<=120.0)]\n",
    "# step36m = data3m[(data3m.time>100.0) & (data3m.time<=120.0)]\n",
    "# step46m = data4m[(data4m.time>100.0) & (data4m.time<=120.0)]\n",
    "# step56m = data5m[(data5m.time>100.0) & (data5m.time<=120.0)]\n",
    "# step66m = data6m[(data6m.time>100.0) & (data6m.time<=120.0)]"
   ]
  },
  {
   "cell_type": "code",
   "execution_count": 12,
   "metadata": {},
   "outputs": [],
   "source": [
    "#windowing \n",
    "\n",
    "def moving_window(acceld, length, step=1):\n",
    "    streams = it.tee(acceld, length)\n",
    "    return zip(*[it.islice(stream, i, None, step*length) for stream, i in zip(streams, it.count(step=step))])\n",
    "\n",
    "\n",
    "# len(accelx1_) =129 = length in overlap\n",
    "\n",
    "def overlap(acceld_,length):\n",
    "    newd=[]\n",
    "    wd=[]\n",
    "    for i in range ((length-1)):\n",
    "        newd=np.concatenate((acceld_[i], acceld_[i+1]))        \n",
    "        i=i+1\n",
    "        wd.append(newd)\n",
    "        \n",
    "    return wd\n",
    "\n",
    "def final_window(step):\n",
    "#     step=stepd.accelx\n",
    "    step_= list(moving_window(step, 64))\n",
    "    step_=np.asarray(step_)\n",
    "    l = len(step_)\n",
    "    wstep=[]\n",
    "    wstep=overlap(step_,l)\n",
    "    wstep=np.asarray(wstep)\n",
    "    return wstep"
   ]
  },
  {
   "cell_type": "code",
   "execution_count": 13,
   "metadata": {},
   "outputs": [
    {
     "data": {
      "text/plain": [
       "(767, 128)"
      ]
     },
     "execution_count": 13,
     "metadata": {},
     "output_type": "execute_result"
    }
   ],
   "source": [
    "## STEP 1 x axis\n",
    "wstep11x=[]\n",
    "wstep11x=final_window(step11.accelx)\n",
    "\n",
    "wstep21x=[]\n",
    "wstep21x=final_window(step21.accelx)\n",
    "\n",
    "wstep31x=[]\n",
    "wstep31x=final_window(step31.accelx)\n",
    "\n",
    "wstep41x=[]\n",
    "wstep41x=final_window(step41.accelx)\n",
    "\n",
    "wstep51x=[]\n",
    "wstep51x=final_window(step51.accelx)\n",
    "\n",
    "wstep61x=[]\n",
    "wstep61x=final_window(step61.accelx)\n",
    "\n",
    "#############################################\n",
    "\n",
    "wstep11x=np.asarray(wstep11x)\n",
    "wstep21x=np.asarray(wstep21x)\n",
    "wstep31x=np.asarray(wstep31x)\n",
    "wstep41x=np.asarray(wstep41x)\n",
    "wstep51x=np.asarray(wstep51x)\n",
    "wstep61x=np.asarray(wstep61x)\n",
    "wstep1x = []\n",
    "wstep1x=np.concatenate((wstep11x, wstep21x))\n",
    "wstep1x=np.concatenate((wstep1x, wstep31x))\n",
    "wstep1x=np.concatenate((wstep1x, wstep41x))\n",
    "wstep1x=np.concatenate((wstep1x, wstep51x))\n",
    "wstep1x=np.concatenate((wstep1x, wstep61x))\n",
    "\n",
    "## STEP 1 y axis\n",
    "wstep11y=[]\n",
    "wstep11y=final_window(step11.accely)\n",
    "\n",
    "wstep21y=[]\n",
    "wstep21y=final_window(step21.accely)\n",
    "\n",
    "wstep31y=[]\n",
    "wstep31y=final_window(step31.accely)\n",
    "\n",
    "wstep41y=[]\n",
    "wstep41y=final_window(step41.accely)\n",
    "\n",
    "wstep51y=[]\n",
    "wstep51y=final_window(step51.accely)\n",
    "\n",
    "wstep61y=[]\n",
    "wstep61y=final_window(step61.accely)\n",
    "\n",
    "################################################\n",
    "\n",
    "wstep11y=np.asarray(wstep11y)\n",
    "wstep21y=np.asarray(wstep21y)\n",
    "wstep31y=np.asarray(wstep31y)\n",
    "wstep41y=np.asarray(wstep41y)\n",
    "wstep51y=np.asarray(wstep51y)\n",
    "wstep61y=np.asarray(wstep61y)\n",
    "wstep1y = []\n",
    "wstep1y=np.concatenate((wstep11y, wstep21y))\n",
    "wstep1y=np.concatenate((wstep1y, wstep31y))\n",
    "wstep1y=np.concatenate((wstep1y, wstep41y))\n",
    "wstep1y=np.concatenate((wstep1y, wstep51y))\n",
    "wstep1y=np.concatenate((wstep1y, wstep61y))\n",
    "\n",
    "## STEP 1 z axis\n",
    "wstep11z=[]\n",
    "wstep11z=final_window(step11.accelz)\n",
    "\n",
    "wstep21z=[]\n",
    "wstep21z=final_window(step21.accelz)\n",
    "\n",
    "wstep31z=[]\n",
    "wstep31z=final_window(step31.accelz)\n",
    "\n",
    "wstep41z=[]\n",
    "wstep41z=final_window(step41.accelz)\n",
    "\n",
    "wstep51z=[]\n",
    "wstep51z=final_window(step51.accelz)\n",
    "\n",
    "wstep61z=[]\n",
    "wstep61z=final_window(step61.accelz)\n",
    "\n",
    "################################################\n",
    "\n",
    "wstep11z=np.asarray(wstep11z)\n",
    "wstep21z=np.asarray(wstep21z)\n",
    "wstep31z=np.asarray(wstep31z)\n",
    "wstep41z=np.asarray(wstep41z)\n",
    "wstep51z=np.asarray(wstep51z)\n",
    "wstep61z=np.asarray(wstep61z)\n",
    "wstep1z = []\n",
    "wstep1z=np.concatenate((wstep11z, wstep21z))\n",
    "wstep1z=np.concatenate((wstep1z, wstep31z))\n",
    "wstep1z=np.concatenate((wstep1z, wstep41z))\n",
    "wstep1z=np.concatenate((wstep1z, wstep51z))\n",
    "wstep1z=np.concatenate((wstep1z, wstep61z))\n",
    "wstep1z.shape"
   ]
  },
  {
   "cell_type": "code",
   "execution_count": 14,
   "metadata": {},
   "outputs": [
    {
     "data": {
      "text/plain": [
       "(754, 128)"
      ]
     },
     "execution_count": 14,
     "metadata": {},
     "output_type": "execute_result"
    }
   ],
   "source": [
    "## STEP 1 x axis gyroscope\n",
    "wstep11xg=[]\n",
    "wstep11xg=final_window(step11g.gyrox)\n",
    "\n",
    "wstep21xg=[]\n",
    "wstep21xg=final_window(step21g.gyrox)\n",
    "\n",
    "wstep31xg=[]\n",
    "wstep31xg=final_window(step31g.gyrox)\n",
    "\n",
    "wstep41xg=[]\n",
    "wstep41xg=final_window(step41g.gyrox)\n",
    "\n",
    "wstep51xg=[]\n",
    "wstep51xg=final_window(step51g.gyrox)\n",
    "\n",
    "wstep61xg=[]\n",
    "wstep61xg=final_window(step61g.gyrox)\n",
    "\n",
    "#############################################\n",
    "\n",
    "wstep11xg=np.asarray(wstep11xg)\n",
    "wstep21xg=np.asarray(wstep21xg)\n",
    "wstep31xg=np.asarray(wstep31xg)\n",
    "wstep41xg=np.asarray(wstep41xg)\n",
    "wstep51xg=np.asarray(wstep51xg)\n",
    "wstep61xg=np.asarray(wstep61xg)\n",
    "wstep1xg = []\n",
    "wstep1xg=np.concatenate((wstep11xg, wstep21xg))\n",
    "wstep1xg=np.concatenate((wstep1xg, wstep31xg))\n",
    "wstep1xg=np.concatenate((wstep1xg, wstep41xg))\n",
    "wstep1xg=np.concatenate((wstep1xg, wstep51xg))\n",
    "wstep1xg=np.concatenate((wstep1xg, wstep61xg))\n",
    "\n",
    "## STEP 1 y axis\n",
    "wstep11yg=[]\n",
    "wstep11yg=final_window(step11g.gyroy)\n",
    "\n",
    "wstep21yg=[]\n",
    "wstep21yg=final_window(step21g.gyroy)\n",
    "\n",
    "wstep31yg=[]\n",
    "wstep31yg=final_window(step31g.gyroy)\n",
    "\n",
    "wstep41yg=[]\n",
    "wstep41yg=final_window(step41g.gyroy)\n",
    "\n",
    "wstep51yg=[]\n",
    "wstep51yg=final_window(step51g.gyroy)\n",
    "\n",
    "wstep61yg=[]\n",
    "wstep61yg=final_window(step61g.gyroy)\n",
    "\n",
    "################################################\n",
    "\n",
    "wstep11yg=np.asarray(wstep11yg)\n",
    "wstep21yg=np.asarray(wstep21yg)\n",
    "wstep31yg=np.asarray(wstep31yg)\n",
    "wstep41yg=np.asarray(wstep41yg)\n",
    "wstep51yg=np.asarray(wstep51yg)\n",
    "wstep61yg=np.asarray(wstep61yg)\n",
    "wstep1yg = []\n",
    "wstep1yg=np.concatenate((wstep11yg, wstep21yg))\n",
    "wstep1yg=np.concatenate((wstep1yg, wstep31yg))\n",
    "wstep1yg=np.concatenate((wstep1yg, wstep41yg))\n",
    "wstep1yg=np.concatenate((wstep1yg, wstep51yg))\n",
    "wstep1yg=np.concatenate((wstep1yg, wstep61yg))\n",
    "\n",
    "## STEP 1 z axis\n",
    "wstep11zg=[]\n",
    "wstep11zg=final_window(step11g.gyroz)\n",
    "\n",
    "wstep21zg=[]\n",
    "wstep21zg=final_window(step21g.gyroz)\n",
    "\n",
    "wstep31zg=[]\n",
    "wstep31zg=final_window(step31g.gyroz)\n",
    "\n",
    "wstep41zg=[]\n",
    "wstep41zg=final_window(step41g.gyroz)\n",
    "\n",
    "wstep51zg=[]\n",
    "wstep51zg=final_window(step51g.gyroz)\n",
    "\n",
    "wstep61zg=[]\n",
    "wstep61zg=final_window(step61g.gyroz)\n",
    "\n",
    "################################################\n",
    "\n",
    "wstep11zg=np.asarray(wstep11zg)\n",
    "wstep21zg=np.asarray(wstep21zg)\n",
    "wstep31zg=np.asarray(wstep31zg)\n",
    "wstep41zg=np.asarray(wstep41zg)\n",
    "wstep51zg=np.asarray(wstep51zg)\n",
    "wstep61zg=np.asarray(wstep61zg)\n",
    "wstep1zg = []\n",
    "wstep1zg=np.concatenate((wstep11zg, wstep21zg))\n",
    "wstep1zg=np.concatenate((wstep1zg, wstep31zg))\n",
    "wstep1zg=np.concatenate((wstep1zg, wstep41zg))\n",
    "wstep1zg=np.concatenate((wstep1zg, wstep51zg))\n",
    "wstep1zg=np.concatenate((wstep1zg, wstep61zg))\n",
    "wstep1zg.shape"
   ]
  },
  {
   "cell_type": "code",
   "execution_count": 15,
   "metadata": {},
   "outputs": [],
   "source": [
    "# ## STEP 1 x axis Magnetometer\n",
    "# wstep11xm=[]\n",
    "# wstep11xm=final_window(step11m.accelx)\n",
    "\n",
    "# wstep21xm=[]\n",
    "# wstep21xm=final_window(step21m.accelx)\n",
    "\n",
    "# wstep31xm=[]\n",
    "# wstep31xm=final_window(step31m.accelx)\n",
    "\n",
    "# wstep41xm=[]\n",
    "# wstep41xm=final_window(step41m.accelx)\n",
    "\n",
    "# wstep51xm=[]\n",
    "# wstep51xm=final_window(step51m.accelx)\n",
    "\n",
    "# wstep61xm=[]\n",
    "# wstep61xm=final_window(step61m.accelx)\n",
    "\n",
    "# #############################################\n",
    "\n",
    "# wstep11xm=np.asarray(wstep11xm)\n",
    "# wstep21xm=np.asarray(wstep21xm)\n",
    "# wstep31xm=np.asarray(wstep31xm)\n",
    "# wstep41xm=np.asarray(wstep41xm)\n",
    "# wstep51xm=np.asarray(wstep51xm)\n",
    "# wstep61xm=np.asarray(wstep61xm)\n",
    "# wstep1xm = []\n",
    "# wstep1xm=np.concatenate((wstep11xm, wstep21xm))\n",
    "# wstep1xm=np.concatenate((wstep1xm, wstep31xm))\n",
    "# wstep1xm=np.concatenate((wstep1xm, wstep41xm))\n",
    "# wstep1xm=np.concatenate((wstep1xm, wstep51xm))\n",
    "# wstep1xm=np.concatenate((wstep1xm, wstep61xm))\n",
    "\n",
    "# ## STEP 1 y axis\n",
    "# wstep11ym=[]\n",
    "# wstep11ym=final_window(step11m.accely)\n",
    "\n",
    "# wstep21ym=[]\n",
    "# wstep21ym=final_window(step21m.accely)\n",
    "\n",
    "# wstep31ym=[]\n",
    "# wstep31ym=final_window(step31m.accely)\n",
    "\n",
    "# wstep41ym=[]\n",
    "# wstep41ym=final_window(step41m.accely)\n",
    "\n",
    "# wstep51ym=[]\n",
    "# wstep51ym=final_window(step51m.accely)\n",
    "\n",
    "# wstep61ym=[]\n",
    "# wstep61ym=final_window(step61m.accely)\n",
    "\n",
    "# ################################################\n",
    "\n",
    "# wstep11ym=np.asarray(wstep11ym)\n",
    "# wstep21ym=np.asarray(wstep21ym)\n",
    "# wstep31ym=np.asarray(wstep31ym)\n",
    "# wstep41ym=np.asarray(wstep41ym)\n",
    "# wstep51ym=np.asarray(wstep51ym)\n",
    "# wstep61ym=np.asarray(wstep61ym)\n",
    "# wstep1ym = []\n",
    "# wstep1ym=np.concatenate((wstep11ym, wstep21ym))\n",
    "# wstep1ym=np.concatenate((wstep1ym, wstep31ym))\n",
    "# wstep1ym=np.concatenate((wstep1ym, wstep41ym))\n",
    "# wstep1ym=np.concatenate((wstep1ym, wstep51ym))\n",
    "# wstep1ym=np.concatenate((wstep1ym, wstep61ym))\n",
    "\n",
    "# ## STEP 1 z axis\n",
    "# wstep11zm=[]\n",
    "# wstep11zm=final_window(step11m.accelz)\n",
    "\n",
    "# wstep21zm=[]\n",
    "# wstep21zm=final_window(step21m.accelz)\n",
    "\n",
    "# wstep31zm=[]\n",
    "# wstep31zm=final_window(step31m.accelz)\n",
    "\n",
    "# wstep41zm=[]\n",
    "# wstep41zm=final_window(step41m.accelz)\n",
    "\n",
    "# wstep51zm=[]\n",
    "# wstep51zm=final_window(step51m.accelz)\n",
    "\n",
    "# wstep61zm=[]\n",
    "# wstep61zm=final_window(step61m.accelz)\n",
    "\n",
    "# ################################################\n",
    "\n",
    "# wstep11zm=np.asarray(wstep11zm)\n",
    "# wstep21zm=np.asarray(wstep21zm)\n",
    "# wstep31zm=np.asarray(wstep31zm)\n",
    "# wstep41zm=np.asarray(wstep41zm)\n",
    "# wstep51zm=np.asarray(wstep51zm)\n",
    "# wstep61zm=np.asarray(wstep61zm)\n",
    "# wstep1zm = []\n",
    "# wstep1zm=np.concatenate((wstep11zm, wstep21zm))\n",
    "# wstep1zm=np.concatenate((wstep1zm, wstep31zm))\n",
    "# wstep1zm=np.concatenate((wstep1zm, wstep41zm))\n",
    "# wstep1zm=np.concatenate((wstep1zm, wstep51zm))\n",
    "# wstep1zm=np.concatenate((wstep1zm, wstep61zm))\n",
    "# wstep1zm.shape"
   ]
  },
  {
   "cell_type": "code",
   "execution_count": 16,
   "metadata": {},
   "outputs": [
    {
     "data": {
      "text/plain": [
       "(765, 128)"
      ]
     },
     "execution_count": 16,
     "metadata": {},
     "output_type": "execute_result"
    }
   ],
   "source": [
    "## STEP 2 x axis\n",
    "wstep12x=[]\n",
    "wstep12x=final_window(step12.accelx)\n",
    "wstep12x.shape\n",
    "\n",
    "wstep22x=[]\n",
    "wstep22x=final_window(step22.accelx)\n",
    "\n",
    "wstep32x=[]\n",
    "wstep32x=final_window(step32.accelx)\n",
    "\n",
    "wstep42x=[]\n",
    "wstep42x=final_window(step42.accelx)\n",
    "\n",
    "wstep52x=[]\n",
    "wstep52x=final_window(step52.accelx)\n",
    "\n",
    "wstep62x=[]\n",
    "wstep62x=final_window(step62.accelx)\n",
    "\n",
    "#############################################\n",
    "\n",
    "wstep12x=np.asarray(wstep12x)\n",
    "wstep22x=np.asarray(wstep22x)\n",
    "wstep32x=np.asarray(wstep32x)\n",
    "wstep42x=np.asarray(wstep42x)\n",
    "wstep52x=np.asarray(wstep52x)\n",
    "wstep62x=np.asarray(wstep62x)\n",
    "wstep2x = []\n",
    "wstep2x=np.concatenate((wstep12x, wstep22x))\n",
    "wstep2x=np.concatenate((wstep2x, wstep32x))\n",
    "wstep2x=np.concatenate((wstep2x, wstep42x))\n",
    "wstep2x=np.concatenate((wstep2x, wstep52x))\n",
    "wstep2x=np.concatenate((wstep2x, wstep62x))\n",
    "wstep2x.shape\n",
    "\n",
    "## STEP 2 y axis\n",
    "wstep12y=[]\n",
    "wstep12y=final_window(step12.accely)\n",
    "wstep12y.shape\n",
    "\n",
    "wstep22y=[]\n",
    "wstep22y=final_window(step22.accely)\n",
    "\n",
    "wstep32y=[]\n",
    "wstep32y=final_window(step32.accely)\n",
    "\n",
    "wstep42y=[]\n",
    "wstep42y=final_window(step42.accely)\n",
    "\n",
    "wstep52y=[]\n",
    "wstep52y=final_window(step52.accely)\n",
    "\n",
    "wstep62y=[]\n",
    "wstep62y=final_window(step62.accely)\n",
    "\n",
    "################################################\n",
    "\n",
    "wstep12y=np.asarray(wstep12y)\n",
    "wstep22y=np.asarray(wstep22y)\n",
    "wstep32y=np.asarray(wstep32y)\n",
    "wstep42y=np.asarray(wstep42y)\n",
    "wstep52y=np.asarray(wstep52y)\n",
    "wstep62y=np.asarray(wstep62y)\n",
    "wstep2y = []\n",
    "wstep2y=np.concatenate((wstep12y, wstep22y))\n",
    "wstep2y=np.concatenate((wstep2y, wstep32y))\n",
    "wstep2y=np.concatenate((wstep2y, wstep42y))\n",
    "wstep2y=np.concatenate((wstep2y, wstep52y))\n",
    "wstep2y=np.concatenate((wstep2y, wstep62y))\n",
    "wstep2y.shape\n",
    "\n",
    "## STEP 2 z axis\n",
    "wstep12z=[]\n",
    "wstep12z=final_window(step12.accelz)\n",
    "wstep12z.shape\n",
    "\n",
    "wstep22z=[]\n",
    "wstep22z=final_window(step22.accelz)\n",
    "\n",
    "wstep32z=[]\n",
    "wstep32z=final_window(step32.accelz)\n",
    "\n",
    "wstep42z=[]\n",
    "wstep42z=final_window(step42.accelz)\n",
    "\n",
    "wstep52z=[]\n",
    "wstep52z=final_window(step52.accelz)\n",
    "\n",
    "wstep62z=[]\n",
    "wstep62z=final_window(step62.accelz)\n",
    "\n",
    "################################################\n",
    "\n",
    "wstep12z=np.asarray(wstep12z)\n",
    "wstep22z=np.asarray(wstep22z)\n",
    "wstep32z=np.asarray(wstep32z)\n",
    "wstep42z=np.asarray(wstep42z)\n",
    "wstep52z=np.asarray(wstep52z)\n",
    "wstep62z=np.asarray(wstep62z)\n",
    "wstep2z = []\n",
    "wstep2z=np.concatenate((wstep12z, wstep22z))\n",
    "wstep2z=np.concatenate((wstep2z, wstep32z))\n",
    "wstep2z=np.concatenate((wstep2z, wstep42z))\n",
    "wstep2z=np.concatenate((wstep2z, wstep52z))\n",
    "wstep2z=np.concatenate((wstep2z, wstep62z))\n",
    "wstep2z.shape"
   ]
  },
  {
   "cell_type": "code",
   "execution_count": 17,
   "metadata": {},
   "outputs": [
    {
     "data": {
      "text/plain": [
       "(756, 128)"
      ]
     },
     "execution_count": 17,
     "metadata": {},
     "output_type": "execute_result"
    }
   ],
   "source": [
    "## STEP 2 x axis gyroscope\n",
    "wstep12xg=[]\n",
    "wstep12xg=final_window(step12g.gyrox)\n",
    "\n",
    "wstep22xg=[]\n",
    "wstep22xg=final_window(step22g.gyrox)\n",
    "\n",
    "wstep32xg=[]\n",
    "wstep32xg=final_window(step32g.gyrox)\n",
    "\n",
    "wstep42xg=[]\n",
    "wstep42xg=final_window(step42g.gyrox)\n",
    "\n",
    "wstep52xg=[]\n",
    "wstep52xg=final_window(step52g.gyrox)\n",
    "\n",
    "wstep62xg=[]\n",
    "wstep62xg=final_window(step62g.gyrox)\n",
    "\n",
    "#############################################\n",
    "\n",
    "wstep12xg=np.asarray(wstep12xg)\n",
    "wstep22xg=np.asarray(wstep22xg)\n",
    "wstep32xg=np.asarray(wstep32xg)\n",
    "wstep42xg=np.asarray(wstep42xg)\n",
    "wstep52xg=np.asarray(wstep52xg)\n",
    "wstep62xg=np.asarray(wstep62xg)\n",
    "wstep2xg = []\n",
    "wstep2xg=np.concatenate((wstep12xg, wstep22xg))\n",
    "wstep2xg=np.concatenate((wstep2xg, wstep32xg))\n",
    "wstep2xg=np.concatenate((wstep2xg, wstep42xg))\n",
    "wstep2xg=np.concatenate((wstep2xg, wstep52xg))\n",
    "wstep2xg=np.concatenate((wstep2xg, wstep62xg))\n",
    "\n",
    "## STEP 2 y axis\n",
    "wstep12yg=[]\n",
    "wstep12yg=final_window(step12g.gyroy)\n",
    "\n",
    "wstep22yg=[]\n",
    "wstep22yg=final_window(step22g.gyroy)\n",
    "\n",
    "wstep32yg=[]\n",
    "wstep32yg=final_window(step32g.gyroy)\n",
    "\n",
    "wstep42yg=[]\n",
    "wstep42yg=final_window(step42g.gyroy)\n",
    "\n",
    "wstep52yg=[]\n",
    "wstep52yg=final_window(step52g.gyroy)\n",
    "\n",
    "wstep62yg=[]\n",
    "wstep62yg=final_window(step62g.gyroy)\n",
    "\n",
    "################################################\n",
    "\n",
    "wstep12yg=np.asarray(wstep12yg)\n",
    "wstep22yg=np.asarray(wstep22yg)\n",
    "wstep32yg=np.asarray(wstep32yg)\n",
    "wstep42yg=np.asarray(wstep42yg)\n",
    "wstep52yg=np.asarray(wstep52yg)\n",
    "wstep62yg=np.asarray(wstep62yg)\n",
    "wstep2yg = []\n",
    "wstep2yg=np.concatenate((wstep12yg, wstep22yg))\n",
    "wstep2yg=np.concatenate((wstep2yg, wstep32yg))\n",
    "wstep2yg=np.concatenate((wstep2yg, wstep42yg))\n",
    "wstep2yg=np.concatenate((wstep2yg, wstep52yg))\n",
    "wstep2yg=np.concatenate((wstep2yg, wstep62yg))\n",
    "\n",
    "## STEP 2 z axis\n",
    "wstep12zg=[]\n",
    "wstep12zg=final_window(step12g.gyroz)\n",
    "\n",
    "wstep22zg=[]\n",
    "wstep22zg=final_window(step22g.gyroz)\n",
    "\n",
    "wstep32zg=[]\n",
    "wstep32zg=final_window(step32g.gyroz)\n",
    "\n",
    "wstep42zg=[]\n",
    "wstep42zg=final_window(step42g.gyroz)\n",
    "\n",
    "wstep52zg=[]\n",
    "wstep52zg=final_window(step52g.gyroz)\n",
    "\n",
    "wstep62zg=[]\n",
    "wstep62zg=final_window(step62g.gyroz)\n",
    "\n",
    "################################################\n",
    "\n",
    "wstep12zg=np.asarray(wstep12zg)\n",
    "wstep22zg=np.asarray(wstep22zg)\n",
    "wstep32zg=np.asarray(wstep32zg)\n",
    "wstep42zg=np.asarray(wstep42zg)\n",
    "wstep52zg=np.asarray(wstep52zg)\n",
    "wstep62zg=np.asarray(wstep62zg)\n",
    "wstep2zg = []\n",
    "wstep2zg=np.concatenate((wstep12zg, wstep22zg))\n",
    "wstep2zg=np.concatenate((wstep2zg, wstep32zg))\n",
    "wstep2zg=np.concatenate((wstep2zg, wstep42zg))\n",
    "wstep2zg=np.concatenate((wstep2zg, wstep52zg))\n",
    "wstep2zg=np.concatenate((wstep2zg, wstep62zg))\n",
    "wstep2zg.shape"
   ]
  },
  {
   "cell_type": "code",
   "execution_count": 18,
   "metadata": {},
   "outputs": [
    {
     "data": {
      "text/plain": [
       "(765, 128)"
      ]
     },
     "execution_count": 18,
     "metadata": {},
     "output_type": "execute_result"
    }
   ],
   "source": [
    "## STEP 3 x axis\n",
    "wstep13x=[]\n",
    "wstep13x=final_window(step13.accelx)\n",
    "wstep13x.shape\n",
    "\n",
    "wstep23x=[]\n",
    "wstep23x=final_window(step23.accelx)\n",
    "\n",
    "wstep33x=[]\n",
    "wstep33x=final_window(step33.accelx)\n",
    "\n",
    "wstep43x=[]\n",
    "wstep43x=final_window(step43.accelx)\n",
    "\n",
    "wstep53x=[]\n",
    "wstep53x=final_window(step53.accelx)\n",
    "\n",
    "wstep63x=[]\n",
    "wstep63x=final_window(step63.accelx)\n",
    "\n",
    "#############################################\n",
    "\n",
    "wstep13x=np.asarray(wstep13x)\n",
    "wstep23x=np.asarray(wstep23x)\n",
    "wstep33x=np.asarray(wstep33x)\n",
    "wstep43x=np.asarray(wstep43x)\n",
    "wstep53x=np.asarray(wstep53x)\n",
    "wstep63x=np.asarray(wstep63x)\n",
    "wstep3x = []\n",
    "wstep3x=np.concatenate((wstep13x, wstep23x))\n",
    "wstep3x=np.concatenate((wstep3x, wstep33x))\n",
    "wstep3x=np.concatenate((wstep3x, wstep43x))\n",
    "wstep3x=np.concatenate((wstep3x, wstep53x))\n",
    "wstep3x=np.concatenate((wstep3x, wstep63x))\n",
    "wstep3x.shape\n",
    "\n",
    "## STEP 3 y axis\n",
    "wstep13y=[]\n",
    "wstep13y=final_window(step13.accely)\n",
    "wstep13y.shape\n",
    "\n",
    "wstep23y=[]\n",
    "wstep23y=final_window(step23.accely)\n",
    "\n",
    "wstep33y=[]\n",
    "wstep33y=final_window(step33.accely)\n",
    "\n",
    "wstep43y=[]\n",
    "wstep43y=final_window(step43.accely)\n",
    "\n",
    "wstep53y=[]\n",
    "wstep53y=final_window(step53.accely)\n",
    "\n",
    "wstep63y=[]\n",
    "wstep63y=final_window(step63.accely)\n",
    "\n",
    "################################################\n",
    "\n",
    "wstep13y=np.asarray(wstep13y)\n",
    "wstep23y=np.asarray(wstep23y)\n",
    "wstep33y=np.asarray(wstep33y)\n",
    "wstep43y=np.asarray(wstep43y)\n",
    "wstep53y=np.asarray(wstep53y)\n",
    "wstep63y=np.asarray(wstep63y)\n",
    "wstep3y = []\n",
    "wstep3y=np.concatenate((wstep13y, wstep23y))\n",
    "wstep3y=np.concatenate((wstep3y, wstep33y))\n",
    "wstep3y=np.concatenate((wstep3y, wstep43y))\n",
    "wstep3y=np.concatenate((wstep3y, wstep53y))\n",
    "wstep3y=np.concatenate((wstep3y, wstep63y))\n",
    "wstep3y.shape\n",
    "\n",
    "## STEP 3 z axis\n",
    "wstep13z=[]\n",
    "wstep13z=final_window(step13.accelz)\n",
    "wstep13z.shape\n",
    "\n",
    "wstep23z=[]\n",
    "wstep23z=final_window(step23.accelz)\n",
    "\n",
    "wstep33z=[]\n",
    "wstep33z=final_window(step33.accelz)\n",
    "\n",
    "wstep43z=[]\n",
    "wstep43z=final_window(step43.accelz)\n",
    "\n",
    "wstep53z=[]\n",
    "wstep53z=final_window(step53.accelz)\n",
    "\n",
    "wstep63z=[]\n",
    "wstep63z=final_window(step63.accelz)\n",
    "\n",
    "################################################\n",
    "\n",
    "wstep13z=np.asarray(wstep13z)\n",
    "wstep23z=np.asarray(wstep23z)\n",
    "wstep33z=np.asarray(wstep33z)\n",
    "wstep43z=np.asarray(wstep43z)\n",
    "wstep53z=np.asarray(wstep53z)\n",
    "wstep63z=np.asarray(wstep63z)\n",
    "wstep3z = []\n",
    "wstep3z=np.concatenate((wstep13z, wstep23z))\n",
    "wstep3z=np.concatenate((wstep3z, wstep33z))\n",
    "wstep3z=np.concatenate((wstep3z, wstep43z))\n",
    "wstep3z=np.concatenate((wstep3z, wstep53z))\n",
    "wstep3z=np.concatenate((wstep3z, wstep63z))\n",
    "wstep3z.shape"
   ]
  },
  {
   "cell_type": "code",
   "execution_count": 19,
   "metadata": {},
   "outputs": [
    {
     "data": {
      "text/plain": [
       "(756, 128)"
      ]
     },
     "execution_count": 19,
     "metadata": {},
     "output_type": "execute_result"
    }
   ],
   "source": [
    "## STEP 3 x axis gyroscope\n",
    "wstep13xg=[]\n",
    "wstep13xg=final_window(step13g.gyrox)\n",
    "\n",
    "wstep23xg=[]\n",
    "wstep23xg=final_window(step23g.gyrox)\n",
    "\n",
    "wstep33xg=[]\n",
    "wstep33xg=final_window(step33g.gyrox)\n",
    "\n",
    "wstep43xg=[]\n",
    "wstep43xg=final_window(step43g.gyrox)\n",
    "\n",
    "wstep53xg=[]\n",
    "wstep53xg=final_window(step53g.gyrox)\n",
    "\n",
    "wstep63xg=[]\n",
    "wstep63xg=final_window(step63g.gyrox)\n",
    "\n",
    "#############################################\n",
    "\n",
    "wstep13xg=np.asarray(wstep13xg)\n",
    "wstep23xg=np.asarray(wstep23xg)\n",
    "wstep33xg=np.asarray(wstep33xg)\n",
    "wstep43xg=np.asarray(wstep43xg)\n",
    "wstep53xg=np.asarray(wstep53xg)\n",
    "wstep63xg=np.asarray(wstep63xg)\n",
    "wstep3xg = []\n",
    "wstep3xg=np.concatenate((wstep13xg, wstep23xg))\n",
    "wstep3xg=np.concatenate((wstep3xg, wstep33xg))\n",
    "wstep3xg=np.concatenate((wstep3xg, wstep43xg))\n",
    "wstep3xg=np.concatenate((wstep3xg, wstep53xg))\n",
    "wstep3xg=np.concatenate((wstep3xg, wstep63xg))\n",
    "\n",
    "## STEP 3 y axis\n",
    "wstep13yg=[]\n",
    "wstep13yg=final_window(step13g.gyroy)\n",
    "wstep13yg.shape\n",
    "\n",
    "wstep23yg=[]\n",
    "wstep23yg=final_window(step23g.gyroy)\n",
    "\n",
    "wstep33yg=[]\n",
    "wstep33yg=final_window(step33g.gyroy)\n",
    "\n",
    "wstep43yg=[]\n",
    "wstep43yg=final_window(step43g.gyroy)\n",
    "\n",
    "wstep53yg=[]\n",
    "wstep53yg=final_window(step53g.gyroy)\n",
    "\n",
    "wstep63yg=[]\n",
    "wstep63yg=final_window(step63g.gyroy)\n",
    "\n",
    "################################################\n",
    "\n",
    "wstep13yg=np.asarray(wstep13yg)\n",
    "wstep23yg=np.asarray(wstep23yg)\n",
    "wstep33yg=np.asarray(wstep33yg)\n",
    "wstep43yg=np.asarray(wstep43yg)\n",
    "wstep53yg=np.asarray(wstep53yg)\n",
    "wstep63yg=np.asarray(wstep63yg)\n",
    "wstep3yg = []\n",
    "wstep3yg=np.concatenate((wstep13yg, wstep23yg))\n",
    "wstep3yg=np.concatenate((wstep3yg, wstep33yg))\n",
    "wstep3yg=np.concatenate((wstep3yg, wstep43yg))\n",
    "wstep3yg=np.concatenate((wstep3yg, wstep53yg))\n",
    "wstep3yg=np.concatenate((wstep3yg, wstep63yg))\n",
    "wstep3y.shape\n",
    "\n",
    "## STEP 3 z axis\n",
    "wstep13zg=[]\n",
    "wstep13zg=final_window(step13g.gyroz)\n",
    "\n",
    "wstep23zg=[]\n",
    "wstep23zg=final_window(step23g.gyroz)\n",
    "\n",
    "wstep33zg=[]\n",
    "wstep33zg=final_window(step33g.gyroz)\n",
    "\n",
    "wstep43zg=[]\n",
    "wstep43zg=final_window(step43g.gyroz)\n",
    "\n",
    "wstep53zg=[]\n",
    "wstep53zg=final_window(step53g.gyroz)\n",
    "\n",
    "wstep63zg=[]\n",
    "wstep63zg=final_window(step63g.gyroz)\n",
    "\n",
    "################################################\n",
    "\n",
    "wstep13zg=np.asarray(wstep13zg)\n",
    "wstep23zg=np.asarray(wstep23zg)\n",
    "wstep33zg=np.asarray(wstep33zg)\n",
    "wstep43zg=np.asarray(wstep43zg)\n",
    "wstep53zg=np.asarray(wstep53zg)\n",
    "wstep63zg=np.asarray(wstep63zg)\n",
    "wstep3zg = []\n",
    "wstep3zg=np.concatenate((wstep13zg, wstep23zg))\n",
    "wstep3zg=np.concatenate((wstep3zg, wstep33zg))\n",
    "wstep3zg=np.concatenate((wstep3zg, wstep43zg))\n",
    "wstep3zg=np.concatenate((wstep3zg, wstep53zg))\n",
    "wstep3zg=np.concatenate((wstep3zg, wstep63zg))\n",
    "wstep3zg.shape"
   ]
  },
  {
   "cell_type": "code",
   "execution_count": 20,
   "metadata": {},
   "outputs": [
    {
     "data": {
      "text/plain": [
       "(765, 128)"
      ]
     },
     "execution_count": 20,
     "metadata": {},
     "output_type": "execute_result"
    }
   ],
   "source": [
    "## STEP 4 x axis\n",
    "wstep14x=[]\n",
    "wstep14x=final_window(step14.accelx)\n",
    "wstep14x.shape\n",
    "\n",
    "wstep24x=[]\n",
    "wstep24x=final_window(step24.accelx)\n",
    "\n",
    "wstep34x=[]\n",
    "wstep34x=final_window(step34.accelx)\n",
    "\n",
    "wstep44x=[]\n",
    "wstep44x=final_window(step44.accelx)\n",
    "\n",
    "wstep54x=[]\n",
    "wstep54x=final_window(step54.accelx)\n",
    "\n",
    "wstep64x=[]\n",
    "wstep64x=final_window(step64.accelx)\n",
    "\n",
    "#############################################\n",
    "\n",
    "wstep14x=np.asarray(wstep14x)\n",
    "wstep24x=np.asarray(wstep24x)\n",
    "wstep34x=np.asarray(wstep34x)\n",
    "wstep44x=np.asarray(wstep44x)\n",
    "wstep54x=np.asarray(wstep54x)\n",
    "wstep64x=np.asarray(wstep64x)\n",
    "wstep4x = []\n",
    "wstep4x=np.concatenate((wstep14x, wstep24x))\n",
    "wstep4x=np.concatenate((wstep4x, wstep34x))\n",
    "wstep4x=np.concatenate((wstep4x, wstep44x))\n",
    "wstep4x=np.concatenate((wstep4x, wstep54x))\n",
    "wstep4x=np.concatenate((wstep4x, wstep64x))\n",
    "wstep4x.shape\n",
    "\n",
    "## STEP 4 y axis\n",
    "wstep14y=[]\n",
    "wstep14y=final_window(step14.accely)\n",
    "wstep14y.shape\n",
    "\n",
    "wstep24y=[]\n",
    "wstep24y=final_window(step24.accely)\n",
    "\n",
    "wstep34y=[]\n",
    "wstep34y=final_window(step34.accely)\n",
    "\n",
    "wstep44y=[]\n",
    "wstep44y=final_window(step44.accely)\n",
    "\n",
    "wstep54y=[]\n",
    "wstep54y=final_window(step54.accely)\n",
    "\n",
    "wstep64y=[]\n",
    "wstep64y=final_window(step64.accely)\n",
    "\n",
    "################################################\n",
    "\n",
    "wstep14y=np.asarray(wstep14y)\n",
    "wstep24y=np.asarray(wstep24y)\n",
    "wstep34y=np.asarray(wstep34y)\n",
    "wstep44y=np.asarray(wstep44y)\n",
    "wstep54y=np.asarray(wstep54y)\n",
    "wstep64y=np.asarray(wstep64y)\n",
    "wstep4y = []\n",
    "wstep4y=np.concatenate((wstep14y, wstep24y))\n",
    "wstep4y=np.concatenate((wstep4y, wstep34y))\n",
    "wstep4y=np.concatenate((wstep4y, wstep44y))\n",
    "wstep4y=np.concatenate((wstep4y, wstep54y))\n",
    "wstep4y=np.concatenate((wstep4y, wstep64y))\n",
    "wstep4y.shape\n",
    "\n",
    "## STEP 4 z axis\n",
    "wstep14z=[]\n",
    "wstep14z=final_window(step14.accelz)\n",
    "wstep14z.shape\n",
    "\n",
    "wstep24z=[]\n",
    "wstep24z=final_window(step24.accelz)\n",
    "\n",
    "wstep34z=[]\n",
    "wstep34z=final_window(step34.accelz)\n",
    "\n",
    "wstep44z=[]\n",
    "wstep44z=final_window(step44.accelz)\n",
    "\n",
    "wstep54z=[]\n",
    "wstep54z=final_window(step54.accelz)\n",
    "\n",
    "wstep64z=[]\n",
    "wstep64z=final_window(step64.accelz)\n",
    "\n",
    "################################################\n",
    "\n",
    "wstep14z=np.asarray(wstep14z)\n",
    "wstep24z=np.asarray(wstep24z)\n",
    "wstep34z=np.asarray(wstep34z)\n",
    "wstep44z=np.asarray(wstep44z)\n",
    "wstep54z=np.asarray(wstep54z)\n",
    "wstep64z=np.asarray(wstep64z)\n",
    "wstep4z = []\n",
    "wstep4z=np.concatenate((wstep14z, wstep24z))\n",
    "wstep4z=np.concatenate((wstep4z, wstep34z))\n",
    "wstep4z=np.concatenate((wstep4z, wstep44z))\n",
    "wstep4z=np.concatenate((wstep4z, wstep54z))\n",
    "wstep4z=np.concatenate((wstep4z, wstep64z))\n",
    "wstep4z.shape"
   ]
  },
  {
   "cell_type": "code",
   "execution_count": 21,
   "metadata": {},
   "outputs": [
    {
     "data": {
      "text/plain": [
       "(756, 128)"
      ]
     },
     "execution_count": 21,
     "metadata": {},
     "output_type": "execute_result"
    }
   ],
   "source": [
    "## STEP 4 x axis gyroscope\n",
    "wstep14xg=[]\n",
    "wstep14xg=final_window(step14g.gyrox)\n",
    "wstep14xg.shape\n",
    "\n",
    "wstep24xg=[]\n",
    "wstep24xg=final_window(step24g.gyrox)\n",
    "\n",
    "wstep34xg=[]\n",
    "wstep34xg=final_window(step34g.gyrox)\n",
    "\n",
    "wstep44xg=[]\n",
    "wstep44xg=final_window(step44g.gyrox)\n",
    "\n",
    "wstep54xg=[]\n",
    "wstep54xg=final_window(step54g.gyrox)\n",
    "\n",
    "wstep64xg=[]\n",
    "wstep64xg=final_window(step64g.gyrox)\n",
    "\n",
    "#############################################\n",
    "\n",
    "wstep14xg=np.asarray(wstep14xg)\n",
    "wstep24xg=np.asarray(wstep24xg)\n",
    "wstep34xg=np.asarray(wstep34xg)\n",
    "wstep44xg=np.asarray(wstep44xg)\n",
    "wstep54xg=np.asarray(wstep54xg)\n",
    "wstep64xg=np.asarray(wstep64xg)\n",
    "wstep4xg = []\n",
    "wstep4xg=np.concatenate((wstep14xg, wstep24xg))\n",
    "wstep4xg=np.concatenate((wstep4xg, wstep34xg))\n",
    "wstep4xg=np.concatenate((wstep4xg, wstep44xg))\n",
    "wstep4xg=np.concatenate((wstep4xg, wstep54xg))\n",
    "wstep4xg=np.concatenate((wstep4xg, wstep64xg))\n",
    "wstep4xg.shape\n",
    "\n",
    "## STEP 4 y axis\n",
    "wstep14yg=[]\n",
    "wstep14yg=final_window(step14g.gyroy)\n",
    "wstep14yg.shape\n",
    "\n",
    "wstep24yg=[]\n",
    "wstep24yg=final_window(step24g.gyroy)\n",
    "\n",
    "wstep34yg=[]\n",
    "wstep34yg=final_window(step34g.gyroy)\n",
    "\n",
    "wstep44yg=[]\n",
    "wstep44yg=final_window(step44g.gyroy)\n",
    "\n",
    "wstep54yg=[]\n",
    "wstep54yg=final_window(step54g.gyroy)\n",
    "\n",
    "wstep64yg=[]\n",
    "wstep64yg=final_window(step64g.gyroy)\n",
    "\n",
    "################################################\n",
    "\n",
    "wstep14yg=np.asarray(wstep14yg)\n",
    "wstep24yg=np.asarray(wstep24yg)\n",
    "wstep34yg=np.asarray(wstep34yg)\n",
    "wstep44yg=np.asarray(wstep44yg)\n",
    "wstep54yg=np.asarray(wstep54yg)\n",
    "wstep64yg=np.asarray(wstep64yg)\n",
    "wstep4yg = []\n",
    "wstep4yg=np.concatenate((wstep14yg, wstep24yg))\n",
    "wstep4yg=np.concatenate((wstep4yg, wstep34yg))\n",
    "wstep4yg=np.concatenate((wstep4yg, wstep44yg))\n",
    "wstep4yg=np.concatenate((wstep4yg, wstep54yg))\n",
    "wstep4yg=np.concatenate((wstep4yg, wstep64yg))\n",
    "wstep4yg.shape\n",
    "\n",
    "## STEP 4 z axis\n",
    "wstep14zg=[]\n",
    "wstep14zg=final_window(step14g.gyroz)\n",
    "wstep14zg.shape\n",
    "\n",
    "wstep24zg=[]\n",
    "wstep24zg=final_window(step24g.gyroz)\n",
    "\n",
    "wstep34zg=[]\n",
    "wstep34zg=final_window(step34g.gyroz)\n",
    "\n",
    "wstep44zg=[]\n",
    "wstep44zg=final_window(step44g.gyroz)\n",
    "\n",
    "wstep54zg=[]\n",
    "wstep54zg=final_window(step54g.gyroz)\n",
    "\n",
    "wstep64zg=[]\n",
    "wstep64zg=final_window(step64g.gyroz)\n",
    "\n",
    "################################################\n",
    "\n",
    "wstep14zg=np.asarray(wstep14zg)\n",
    "wstep24zg=np.asarray(wstep24zg)\n",
    "wstep34zg=np.asarray(wstep34zg)\n",
    "wstep44zg=np.asarray(wstep44zg)\n",
    "wstep54zg=np.asarray(wstep54zg)\n",
    "wstep64zg=np.asarray(wstep64zg)\n",
    "wstep4zg = []\n",
    "wstep4zg=np.concatenate((wstep14zg, wstep24zg))\n",
    "wstep4zg=np.concatenate((wstep4zg, wstep34zg))\n",
    "wstep4zg=np.concatenate((wstep4zg, wstep44zg))\n",
    "wstep4zg=np.concatenate((wstep4zg, wstep54zg))\n",
    "wstep4zg=np.concatenate((wstep4zg, wstep64zg))\n",
    "wstep4zg.shape"
   ]
  },
  {
   "cell_type": "code",
   "execution_count": 22,
   "metadata": {},
   "outputs": [
    {
     "data": {
      "text/plain": [
       "(765, 128)"
      ]
     },
     "execution_count": 22,
     "metadata": {},
     "output_type": "execute_result"
    }
   ],
   "source": [
    "## STEP 5 x axis\n",
    "wstep15x=[]\n",
    "wstep15x=final_window(step15.accelx)\n",
    "wstep15x.shape\n",
    "\n",
    "wstep25x=[]\n",
    "wstep25x=final_window(step25.accelx)\n",
    "\n",
    "wstep35x=[]\n",
    "wstep35x=final_window(step35.accelx)\n",
    "\n",
    "wstep45x=[]\n",
    "wstep45x=final_window(step45.accelx)\n",
    "\n",
    "wstep55x=[]\n",
    "wstep55x=final_window(step55.accelx)\n",
    "\n",
    "wstep65x=[]\n",
    "wstep65x=final_window(step65.accelx)\n",
    "\n",
    "#############################################\n",
    "\n",
    "wstep15x=np.asarray(wstep15x)\n",
    "wstep25x=np.asarray(wstep25x)\n",
    "wstep35x=np.asarray(wstep35x)\n",
    "wstep45x=np.asarray(wstep45x)\n",
    "wstep55x=np.asarray(wstep55x)\n",
    "wstep65x=np.asarray(wstep65x)\n",
    "wstep5x = []\n",
    "wstep5x=np.concatenate((wstep15x, wstep25x))\n",
    "wstep5x=np.concatenate((wstep5x, wstep35x))\n",
    "wstep5x=np.concatenate((wstep5x, wstep45x))\n",
    "wstep5x=np.concatenate((wstep5x, wstep55x))\n",
    "wstep5x=np.concatenate((wstep5x, wstep65x))\n",
    "wstep5x.shape\n",
    "\n",
    "## STEP 5 y axis\n",
    "wstep15y=[]\n",
    "wstep15y=final_window(step15.accely)\n",
    "wstep15y.shape\n",
    "\n",
    "wstep25y=[]\n",
    "wstep25y=final_window(step25.accely)\n",
    "\n",
    "wstep35y=[]\n",
    "wstep35y=final_window(step35.accely)\n",
    "\n",
    "wstep45y=[]\n",
    "wstep45y=final_window(step45.accely)\n",
    "\n",
    "wstep55y=[]\n",
    "wstep55y=final_window(step55.accely)\n",
    "\n",
    "wstep65y=[]\n",
    "wstep65y=final_window(step65.accely)\n",
    "\n",
    "################################################\n",
    "\n",
    "wstep15y=np.asarray(wstep15y)\n",
    "wstep25y=np.asarray(wstep25y)\n",
    "wstep35y=np.asarray(wstep35y)\n",
    "wstep45y=np.asarray(wstep45y)\n",
    "wstep55y=np.asarray(wstep55y)\n",
    "wstep65y=np.asarray(wstep65y)\n",
    "wstep5y = []\n",
    "wstep5y=np.concatenate((wstep15y, wstep25y))\n",
    "wstep5y=np.concatenate((wstep5y, wstep35y))\n",
    "wstep5y=np.concatenate((wstep5y, wstep45y))\n",
    "wstep5y=np.concatenate((wstep5y, wstep55y))\n",
    "wstep5y=np.concatenate((wstep5y, wstep65y))\n",
    "wstep5y.shape\n",
    "\n",
    "## STEP 5 z axis\n",
    "wstep15z=[]\n",
    "wstep15z=final_window(step15.accelz)\n",
    "wstep15z.shape\n",
    "\n",
    "wstep25z=[]\n",
    "wstep25z=final_window(step25.accelz)\n",
    "\n",
    "wstep35z=[]\n",
    "wstep35z=final_window(step35.accelz)\n",
    "\n",
    "wstep45z=[]\n",
    "wstep45z=final_window(step45.accelz)\n",
    "\n",
    "wstep55z=[]\n",
    "wstep55z=final_window(step55.accelz)\n",
    "\n",
    "wstep65z=[]\n",
    "wstep65z=final_window(step65.accelz)\n",
    "\n",
    "################################################\n",
    "\n",
    "wstep15z=np.asarray(wstep15z)\n",
    "wstep25z=np.asarray(wstep25z)\n",
    "wstep35z=np.asarray(wstep35z)\n",
    "wstep45z=np.asarray(wstep45z)\n",
    "wstep55z=np.asarray(wstep55z)\n",
    "wstep65z=np.asarray(wstep65z)\n",
    "wstep5z = []\n",
    "wstep5z=np.concatenate((wstep15z, wstep25z))\n",
    "wstep5z=np.concatenate((wstep5z, wstep35z))\n",
    "wstep5z=np.concatenate((wstep5z, wstep45z))\n",
    "wstep5z=np.concatenate((wstep5z, wstep55z))\n",
    "wstep5z=np.concatenate((wstep5z, wstep65z))\n",
    "wstep5z.shape"
   ]
  },
  {
   "cell_type": "code",
   "execution_count": 23,
   "metadata": {},
   "outputs": [
    {
     "data": {
      "text/plain": [
       "(756, 128)"
      ]
     },
     "execution_count": 23,
     "metadata": {},
     "output_type": "execute_result"
    }
   ],
   "source": [
    "## STEP 5 x axis gyroscope\n",
    "wstep15xg=[]\n",
    "wstep15xg=final_window(step15g.gyrox)\n",
    "wstep15xg.shape\n",
    "\n",
    "wstep25xg=[]\n",
    "wstep25xg=final_window(step25g.gyrox)\n",
    "\n",
    "wstep35xg=[]\n",
    "wstep35xg=final_window(step35g.gyrox)\n",
    "\n",
    "wstep45xg=[]\n",
    "wstep45xg=final_window(step45g.gyrox)\n",
    "\n",
    "wstep55xg=[]\n",
    "wstep55xg=final_window(step55g.gyrox)\n",
    "\n",
    "wstep65xg=[]\n",
    "wstep65xg=final_window(step65g.gyrox)\n",
    "\n",
    "#############################################\n",
    "\n",
    "wstep15xg=np.asarray(wstep15xg)\n",
    "wstep25xg=np.asarray(wstep25xg)\n",
    "wstep35xg=np.asarray(wstep35xg)\n",
    "wstep45xg=np.asarray(wstep45xg)\n",
    "wstep55xg=np.asarray(wstep55xg)\n",
    "wstep65xg=np.asarray(wstep65xg)\n",
    "wstep5xg = []\n",
    "wstep5xg=np.concatenate((wstep15xg, wstep25xg))\n",
    "wstep5xg=np.concatenate((wstep5xg, wstep35xg))\n",
    "wstep5xg=np.concatenate((wstep5xg, wstep45xg))\n",
    "wstep5xg=np.concatenate((wstep5xg, wstep55xg))\n",
    "wstep5xg=np.concatenate((wstep5xg, wstep65xg))\n",
    "wstep5xg.shape\n",
    "\n",
    "## STEP 5 y axis\n",
    "wstep15yg=[]\n",
    "wstep15yg=final_window(step15g.gyroy)\n",
    "wstep15yg.shape\n",
    "\n",
    "wstep25yg=[]\n",
    "wstep25yg=final_window(step25g.gyroy)\n",
    "\n",
    "wstep35yg=[]\n",
    "wstep35yg=final_window(step35g.gyroy)\n",
    "\n",
    "wstep45yg=[]\n",
    "wstep45yg=final_window(step45g.gyroy)\n",
    "\n",
    "wstep55yg=[]\n",
    "wstep55yg=final_window(step55g.gyroy)\n",
    "\n",
    "wstep65yg=[]\n",
    "wstep65yg=final_window(step65g.gyroy)\n",
    "\n",
    "################################################\n",
    "\n",
    "wstep15yg=np.asarray(wstep15yg)\n",
    "wstep25yg=np.asarray(wstep25yg)\n",
    "wstep35yg=np.asarray(wstep35yg)\n",
    "wstep45yg=np.asarray(wstep45yg)\n",
    "wstep55yg=np.asarray(wstep55yg)\n",
    "wstep65yg=np.asarray(wstep65yg)\n",
    "wstep5yg = []\n",
    "wstep5yg=np.concatenate((wstep15yg, wstep25yg))\n",
    "wstep5yg=np.concatenate((wstep5yg, wstep35yg))\n",
    "wstep5yg=np.concatenate((wstep5yg, wstep45yg))\n",
    "wstep5yg=np.concatenate((wstep5yg, wstep55yg))\n",
    "wstep5yg=np.concatenate((wstep5yg, wstep65yg))\n",
    "wstep5yg.shape\n",
    "\n",
    "## STEP 5 z axis\n",
    "wstep15zg=[]\n",
    "wstep15zg=final_window(step15g.gyroz)\n",
    "wstep15zg.shape\n",
    "\n",
    "wstep25zg=[]\n",
    "wstep25zg=final_window(step25g.gyroz)\n",
    "\n",
    "wstep35zg=[]\n",
    "wstep35zg=final_window(step35g.gyroz)\n",
    "\n",
    "wstep45zg=[]\n",
    "wstep45zg=final_window(step45g.gyroz)\n",
    "\n",
    "wstep55zg=[]\n",
    "wstep55zg=final_window(step55g.gyroz)\n",
    "\n",
    "wstep65zg=[]\n",
    "wstep65zg=final_window(step65g.gyroz)\n",
    "\n",
    "################################################\n",
    "\n",
    "wstep15zg=np.asarray(wstep15zg)\n",
    "wstep25zg=np.asarray(wstep25zg)\n",
    "wstep35zg=np.asarray(wstep35zg)\n",
    "wstep45zg=np.asarray(wstep45zg)\n",
    "wstep55zg=np.asarray(wstep55zg)\n",
    "wstep65zg=np.asarray(wstep65zg)\n",
    "wstep5zg = []\n",
    "wstep5zg=np.concatenate((wstep15zg, wstep25zg))\n",
    "wstep5zg=np.concatenate((wstep5zg, wstep35zg))\n",
    "wstep5zg=np.concatenate((wstep5zg, wstep45zg))\n",
    "wstep5zg=np.concatenate((wstep5zg, wstep55zg))\n",
    "wstep5zg=np.concatenate((wstep5zg, wstep65zg))\n",
    "wstep5zg.shape"
   ]
  },
  {
   "cell_type": "code",
   "execution_count": 24,
   "metadata": {},
   "outputs": [
    {
     "data": {
      "text/plain": [
       "(766, 128)"
      ]
     },
     "execution_count": 24,
     "metadata": {},
     "output_type": "execute_result"
    }
   ],
   "source": [
    "## STEP 6 x axis\n",
    "wstep16x=[]\n",
    "wstep16x=final_window(step16.accelx)\n",
    "wstep16x.shape\n",
    "\n",
    "wstep26x=[]\n",
    "wstep26x=final_window(step26.accelx)\n",
    "\n",
    "wstep36x=[]\n",
    "wstep36x=final_window(step36.accelx)\n",
    "\n",
    "wstep46x=[]\n",
    "wstep46x=final_window(step46.accelx)\n",
    "\n",
    "wstep56x=[]\n",
    "wstep56x=final_window(step56.accelx)\n",
    "\n",
    "wstep66x=[]\n",
    "wstep66x=final_window(step66.accelx)\n",
    "\n",
    "#############################################\n",
    "\n",
    "wstep16x=np.asarray(wstep16x)\n",
    "wstep26x=np.asarray(wstep26x)\n",
    "wstep36x=np.asarray(wstep36x)\n",
    "wstep46x=np.asarray(wstep46x)\n",
    "wstep56x=np.asarray(wstep56x)\n",
    "wstep66x=np.asarray(wstep66x)\n",
    "wstep6x = []\n",
    "wstep6x=np.concatenate((wstep16x, wstep26x))\n",
    "wstep6x=np.concatenate((wstep6x, wstep36x))\n",
    "wstep6x=np.concatenate((wstep6x, wstep46x))\n",
    "wstep6x=np.concatenate((wstep6x, wstep56x))\n",
    "wstep6x=np.concatenate((wstep6x, wstep66x))\n",
    "wstep6x.shape\n",
    "\n",
    "## STEP 6 y axis\n",
    "wstep16y=[]\n",
    "wstep16y=final_window(step16.accely)\n",
    "wstep16y.shape\n",
    "\n",
    "wstep26y=[]\n",
    "wstep26y=final_window(step26.accely)\n",
    "\n",
    "wstep36y=[]\n",
    "wstep36y=final_window(step36.accely)\n",
    "\n",
    "wstep46y=[]\n",
    "wstep46y=final_window(step46.accely)\n",
    "\n",
    "wstep56y=[]\n",
    "wstep56y=final_window(step56.accely)\n",
    "\n",
    "wstep66y=[]\n",
    "wstep66y=final_window(step66.accely)\n",
    "\n",
    "################################################\n",
    "\n",
    "wstep16y=np.asarray(wstep16y)\n",
    "wstep26y=np.asarray(wstep26y)\n",
    "wstep36y=np.asarray(wstep36y)\n",
    "wstep46y=np.asarray(wstep46y)\n",
    "wstep56y=np.asarray(wstep56y)\n",
    "wstep66y=np.asarray(wstep66y)\n",
    "wstep6y = []\n",
    "wstep6y=np.concatenate((wstep16y, wstep26y))\n",
    "wstep6y=np.concatenate((wstep6y, wstep36y))\n",
    "wstep6y=np.concatenate((wstep6y, wstep46y))\n",
    "wstep6y=np.concatenate((wstep6y, wstep56y))\n",
    "wstep6y=np.concatenate((wstep6y, wstep66y))\n",
    "wstep6y.shape\n",
    "\n",
    "## STEP 6 z axis\n",
    "wstep16z=[]\n",
    "wstep16z=final_window(step16.accelz)\n",
    "wstep16z.shape\n",
    "\n",
    "wstep26z=[]\n",
    "wstep26z=final_window(step26.accelz)\n",
    "\n",
    "wstep36z=[]\n",
    "wstep36z=final_window(step36.accelz)\n",
    "\n",
    "wstep46z=[]\n",
    "wstep46z=final_window(step46.accelz)\n",
    "\n",
    "wstep56z=[]\n",
    "wstep56z=final_window(step56.accelz)\n",
    "\n",
    "wstep66z=[]\n",
    "wstep66z=final_window(step66.accelz)\n",
    "\n",
    "################################################\n",
    "\n",
    "wstep16z=np.asarray(wstep16z)\n",
    "wstep26z=np.asarray(wstep26z)\n",
    "wstep36z=np.asarray(wstep36z)\n",
    "wstep46z=np.asarray(wstep46z)\n",
    "wstep56z=np.asarray(wstep56z)\n",
    "wstep66z=np.asarray(wstep66z)\n",
    "wstep6z = []\n",
    "wstep6z=np.concatenate((wstep16z, wstep26z))\n",
    "wstep6z=np.concatenate((wstep6z, wstep36z))\n",
    "wstep6z=np.concatenate((wstep6z, wstep46z))\n",
    "wstep6z=np.concatenate((wstep6z, wstep56z))\n",
    "wstep6z=np.concatenate((wstep6z, wstep66z))\n",
    "wstep6z.shape"
   ]
  },
  {
   "cell_type": "code",
   "execution_count": 25,
   "metadata": {},
   "outputs": [
    {
     "data": {
      "text/plain": [
       "(756, 128)"
      ]
     },
     "execution_count": 25,
     "metadata": {},
     "output_type": "execute_result"
    }
   ],
   "source": [
    "## STEP 5 x axis gyroscope\n",
    "wstep16xg=[]\n",
    "wstep16xg=final_window(step16g.gyrox)\n",
    "wstep16xg.shape\n",
    "\n",
    "wstep26xg=[]\n",
    "wstep26xg=final_window(step26g.gyrox)\n",
    "\n",
    "wstep36xg=[]\n",
    "wstep36xg=final_window(step36g.gyrox)\n",
    "\n",
    "wstep46xg=[]\n",
    "wstep46xg=final_window(step46g.gyrox)\n",
    "\n",
    "wstep56xg=[]\n",
    "wstep56xg=final_window(step56g.gyrox)\n",
    "\n",
    "wstep66xg=[]\n",
    "wstep66xg=final_window(step66g.gyrox)\n",
    "\n",
    "#############################################\n",
    "\n",
    "wstep16xg=np.asarray(wstep16xg)\n",
    "wstep26xg=np.asarray(wstep26xg)\n",
    "wstep36xg=np.asarray(wstep36xg)\n",
    "wstep46xg=np.asarray(wstep46xg)\n",
    "wstep56xg=np.asarray(wstep56xg)\n",
    "wstep66xg=np.asarray(wstep66xg)\n",
    "wstep6xg = []\n",
    "wstep6xg=np.concatenate((wstep16xg, wstep26xg))\n",
    "wstep6xg=np.concatenate((wstep6xg, wstep36xg))\n",
    "wstep6xg=np.concatenate((wstep6xg, wstep46xg))\n",
    "wstep6xg=np.concatenate((wstep6xg, wstep56xg))\n",
    "wstep6xg=np.concatenate((wstep6xg, wstep66xg))\n",
    "wstep6xg.shape\n",
    "\n",
    "## STEP 5 y axis\n",
    "wstep16yg=[]\n",
    "wstep16yg=final_window(step16g.gyroy)\n",
    "wstep16yg.shape\n",
    "\n",
    "wstep26yg=[]\n",
    "wstep26yg=final_window(step26g.gyroy)\n",
    "\n",
    "wstep36yg=[]\n",
    "wstep36yg=final_window(step36g.gyroy)\n",
    "\n",
    "wstep46yg=[]\n",
    "wstep46yg=final_window(step46g.gyroy)\n",
    "\n",
    "wstep56yg=[]\n",
    "wstep56yg=final_window(step56g.gyroy)\n",
    "\n",
    "wstep66yg=[]\n",
    "wstep66yg=final_window(step66g.gyroy)\n",
    "\n",
    "################################################\n",
    "\n",
    "wstep16yg=np.asarray(wstep16yg)\n",
    "wstep26yg=np.asarray(wstep26yg)\n",
    "wstep36yg=np.asarray(wstep36yg)\n",
    "wstep46yg=np.asarray(wstep46yg)\n",
    "wstep56yg=np.asarray(wstep56yg)\n",
    "wstep66yg=np.asarray(wstep66yg)\n",
    "wstep6yg = []\n",
    "wstep6yg=np.concatenate((wstep16yg, wstep26yg))\n",
    "wstep6yg=np.concatenate((wstep6yg, wstep36yg))\n",
    "wstep6yg=np.concatenate((wstep6yg, wstep46yg))\n",
    "wstep6yg=np.concatenate((wstep6yg, wstep56yg))\n",
    "wstep6yg=np.concatenate((wstep6yg, wstep66yg))\n",
    "wstep6yg.shape\n",
    "\n",
    "## STEP 5 z axis\n",
    "wstep16zg=[]\n",
    "wstep16zg=final_window(step16g.gyroz)\n",
    "wstep16zg.shape\n",
    "\n",
    "wstep26zg=[]\n",
    "wstep26zg=final_window(step26g.gyroz)\n",
    "\n",
    "wstep36zg=[]\n",
    "wstep36zg=final_window(step36g.gyroz)\n",
    "\n",
    "wstep46zg=[]\n",
    "wstep46zg=final_window(step46g.gyroz)\n",
    "\n",
    "wstep56zg=[]\n",
    "wstep56zg=final_window(step56g.gyroz)\n",
    "\n",
    "wstep66zg=[]\n",
    "wstep66zg=final_window(step66g.gyroz)\n",
    "\n",
    "################################################\n",
    "\n",
    "wstep16zg=np.asarray(wstep16zg)\n",
    "wstep26zg=np.asarray(wstep26zg)\n",
    "wstep36zg=np.asarray(wstep36zg)\n",
    "wstep46zg=np.asarray(wstep46zg)\n",
    "wstep56zg=np.asarray(wstep56zg)\n",
    "wstep66zg=np.asarray(wstep66zg)\n",
    "wstep6zg = []\n",
    "wstep6zg=np.concatenate((wstep16zg, wstep26zg))\n",
    "wstep6zg=np.concatenate((wstep6zg, wstep36zg))\n",
    "wstep6zg=np.concatenate((wstep6zg, wstep46zg))\n",
    "wstep6zg=np.concatenate((wstep6zg, wstep56zg))\n",
    "wstep6zg=np.concatenate((wstep6zg, wstep66zg))\n",
    "wstep6zg.shape"
   ]
  },
  {
   "cell_type": "code",
   "execution_count": 28,
   "metadata": {},
   "outputs": [],
   "source": [
    "activities_description = {\n",
    "    1: 'Step1',\n",
    "    2: 'Step2',\n",
    "    3: 'Step3',\n",
    "    4: 'Step4',\n",
    "    5: 'Step5',\n",
    "    6: 'Step6'\n",
    "}\n"
   ]
  },
  {
   "cell_type": "code",
   "execution_count": 29,
   "metadata": {},
   "outputs": [],
   "source": [
    "def randomize(dataset, labels):\n",
    "    permutation = np.random.permutation(labels.shape[0])\n",
    "    shuffled_dataset = dataset[permutation, :, :]\n",
    "    shuffled_labels = labels[permutation]\n",
    "    return shuffled_dataset, shuffled_labels\n",
    "\n",
    "def randomize_data(dataset):\n",
    "    permutation = np.random.permutation(dataset.shape[0])\n",
    "    shuffled_dataset = dataset[permutation, :, :]\n",
    "    return shuffled_dataset"
   ]
  },
  {
   "cell_type": "code",
   "execution_count": 30,
   "metadata": {},
   "outputs": [
    {
     "data": {
      "text/plain": [
       "(754, 128)"
      ]
     },
     "execution_count": 30,
     "metadata": {},
     "output_type": "execute_result"
    }
   ],
   "source": [
    "wstep1x_r=[]\n",
    "wstep1x_r = wstep1x[0:340]\n",
    "wstep1x_r=np.concatenate((wstep1x_r,wstep1x[346:490]))\n",
    "wstep1x_r=np.concatenate((wstep1x_r,wstep1x[497:767]))\n",
    "wstep1x_r.shape"
   ]
  },
  {
   "cell_type": "code",
   "execution_count": 31,
   "metadata": {},
   "outputs": [
    {
     "data": {
      "text/plain": [
       "(754, 128)"
      ]
     },
     "execution_count": 31,
     "metadata": {},
     "output_type": "execute_result"
    }
   ],
   "source": [
    "wstep1y_r=[]\n",
    "wstep1y_r = wstep1y[0:340]\n",
    "wstep1y_r=np.concatenate((wstep1y_r,wstep1y[346:490]))\n",
    "wstep1y_r=np.concatenate((wstep1y_r,wstep1y[497:767]))\n",
    "wstep1y_r.shape"
   ]
  },
  {
   "cell_type": "code",
   "execution_count": 32,
   "metadata": {},
   "outputs": [
    {
     "data": {
      "text/plain": [
       "(754, 128)"
      ]
     },
     "execution_count": 32,
     "metadata": {},
     "output_type": "execute_result"
    }
   ],
   "source": [
    "wstep1z_r=[]\n",
    "wstep1z_r = wstep1z[0:340]\n",
    "wstep1z_r=np.concatenate((wstep1z_r,wstep1z[346:490]))\n",
    "wstep1z_r=np.concatenate((wstep1z_r,wstep1z[497:767]))\n",
    "wstep1z_r.shape"
   ]
  },
  {
   "cell_type": "code",
   "execution_count": 33,
   "metadata": {},
   "outputs": [
    {
     "data": {
      "text/plain": [
       "(6, 754, 128)"
      ]
     },
     "execution_count": 33,
     "metadata": {},
     "output_type": "execute_result"
    }
   ],
   "source": [
    "step1=np.stack((wstep1x_r,wstep1y_r,wstep1z_r,wstep1xg,wstep1yg,wstep1zg))\n",
    "step1.shape"
   ]
  },
  {
   "cell_type": "code",
   "execution_count": 34,
   "metadata": {},
   "outputs": [
    {
     "data": {
      "text/plain": [
       "(754, 128, 6)"
      ]
     },
     "execution_count": 34,
     "metadata": {},
     "output_type": "execute_result"
    }
   ],
   "source": [
    "step1_t=step1.transpose(1,2,0)\n",
    "step1_t.shape"
   ]
  },
  {
   "cell_type": "code",
   "execution_count": 35,
   "metadata": {},
   "outputs": [
    {
     "data": {
      "text/plain": [
       "(756, 128)"
      ]
     },
     "execution_count": 35,
     "metadata": {},
     "output_type": "execute_result"
    }
   ],
   "source": [
    "wstep2x_r=[]\n",
    "wstep2x_r = wstep2x[0:340]\n",
    "wstep2x_r=np.concatenate((wstep2x_r,wstep2x[344:490]))\n",
    "wstep2x_r=np.concatenate((wstep2x_r,wstep2x[495:767]))\n",
    "wstep2x_r.shape"
   ]
  },
  {
   "cell_type": "code",
   "execution_count": 36,
   "metadata": {},
   "outputs": [
    {
     "data": {
      "text/plain": [
       "(756, 128)"
      ]
     },
     "execution_count": 36,
     "metadata": {},
     "output_type": "execute_result"
    }
   ],
   "source": [
    "wstep2y_r=[]\n",
    "wstep2y_r = wstep2y[0:340]\n",
    "wstep2y_r=np.concatenate((wstep2y_r,wstep2y[344:490]))\n",
    "wstep2y_r=np.concatenate((wstep2y_r,wstep2y[495:767]))\n",
    "wstep2y_r.shape"
   ]
  },
  {
   "cell_type": "code",
   "execution_count": 37,
   "metadata": {},
   "outputs": [
    {
     "data": {
      "text/plain": [
       "(756, 128)"
      ]
     },
     "execution_count": 37,
     "metadata": {},
     "output_type": "execute_result"
    }
   ],
   "source": [
    "wstep2z_r=[]\n",
    "wstep2z_r = wstep2z[0:340]\n",
    "wstep2z_r=np.concatenate((wstep2z_r,wstep2z[344:490]))\n",
    "wstep2z_r=np.concatenate((wstep2z_r,wstep2z[495:767]))\n",
    "wstep2z_r.shape"
   ]
  },
  {
   "cell_type": "code",
   "execution_count": 38,
   "metadata": {},
   "outputs": [
    {
     "data": {
      "text/plain": [
       "(756, 128, 6)"
      ]
     },
     "execution_count": 38,
     "metadata": {},
     "output_type": "execute_result"
    }
   ],
   "source": [
    "step2=np.stack((wstep2x_r,wstep2y_r,wstep2z_r,wstep2xg,wstep2yg,wstep2zg))\n",
    "step2_t=step2.transpose(1,2,0)\n",
    "step2_t.shape"
   ]
  },
  {
   "cell_type": "code",
   "execution_count": 39,
   "metadata": {},
   "outputs": [
    {
     "data": {
      "text/plain": [
       "(756, 128, 6)"
      ]
     },
     "execution_count": 39,
     "metadata": {},
     "output_type": "execute_result"
    }
   ],
   "source": [
    "wstep3x_r=[]\n",
    "wstep3x_r = wstep3x[0:340]\n",
    "wstep3x_r=np.concatenate((wstep3x_r,wstep3x[344:490]))\n",
    "wstep3x_r=np.concatenate((wstep3x_r,wstep3x[495:767]))\n",
    "wstep3x_r.shape\n",
    "\n",
    "wstep3y_r=[]\n",
    "wstep3y_r = wstep3y[0:340]\n",
    "wstep3y_r=np.concatenate((wstep3y_r,wstep3y[344:490]))\n",
    "wstep3y_r=np.concatenate((wstep3y_r,wstep3y[495:767]))\n",
    "wstep3y_r.shape\n",
    "\n",
    "wstep3z_r=[]\n",
    "wstep3z_r = wstep3z[0:340]\n",
    "wstep3z_r=np.concatenate((wstep3z_r,wstep3z[344:490]))\n",
    "wstep3z_r=np.concatenate((wstep3z_r,wstep3z[495:767]))\n",
    "wstep3z_r.shape\n",
    "\n",
    "step3=np.stack((wstep3x_r,wstep3y_r,wstep3z_r,wstep3xg,wstep3yg,wstep3zg))\n",
    "step3_t=step3.transpose(1,2,0)\n",
    "step3_t.shape"
   ]
  },
  {
   "cell_type": "code",
   "execution_count": 40,
   "metadata": {},
   "outputs": [
    {
     "data": {
      "text/plain": [
       "(756, 128, 6)"
      ]
     },
     "execution_count": 40,
     "metadata": {},
     "output_type": "execute_result"
    }
   ],
   "source": [
    "wstep4x_r=[]\n",
    "wstep4x_r = wstep4x[0:340]\n",
    "wstep4x_r=np.concatenate((wstep4x_r,wstep4x[344:490]))\n",
    "wstep4x_r=np.concatenate((wstep4x_r,wstep4x[495:767]))\n",
    "wstep4x_r.shape\n",
    "\n",
    "wstep4y_r=[]\n",
    "wstep4y_r = wstep4y[0:340]\n",
    "wstep4y_r=np.concatenate((wstep4y_r,wstep4y[344:490]))\n",
    "wstep4y_r=np.concatenate((wstep4y_r,wstep4y[495:767]))\n",
    "wstep4y_r.shape\n",
    "\n",
    "wstep4z_r=[]\n",
    "wstep4z_r = wstep4z[0:340]\n",
    "wstep4z_r=np.concatenate((wstep4z_r,wstep4z[344:490]))\n",
    "wstep4z_r=np.concatenate((wstep4z_r,wstep4z[495:767]))\n",
    "wstep4z_r.shape\n",
    "\n",
    "step4=np.stack((wstep4x_r,wstep4y_r,wstep4z_r,wstep4xg,wstep4yg,wstep4zg))\n",
    "step4_t=step4.transpose(1,2,0)\n",
    "step4_t.shape"
   ]
  },
  {
   "cell_type": "code",
   "execution_count": 41,
   "metadata": {},
   "outputs": [
    {
     "data": {
      "text/plain": [
       "(756, 128, 6)"
      ]
     },
     "execution_count": 41,
     "metadata": {},
     "output_type": "execute_result"
    }
   ],
   "source": [
    "wstep5x_r=[]\n",
    "wstep5x_r = wstep5x[0:340]\n",
    "wstep5x_r=np.concatenate((wstep5x_r,wstep5x[344:490]))\n",
    "wstep5x_r=np.concatenate((wstep5x_r,wstep5x[495:767]))\n",
    "wstep5x_r.shape\n",
    "\n",
    "wstep5y_r=[]\n",
    "wstep5y_r = wstep5y[0:340]\n",
    "wstep5y_r=np.concatenate((wstep5y_r,wstep5y[344:490]))\n",
    "wstep5y_r=np.concatenate((wstep5y_r,wstep5y[495:767]))\n",
    "wstep5y_r.shape\n",
    "\n",
    "wstep5z_r=[]\n",
    "wstep5z_r = wstep5z[0:340]\n",
    "wstep5z_r=np.concatenate((wstep5z_r,wstep5z[344:490]))\n",
    "wstep5z_r=np.concatenate((wstep5z_r,wstep5z[495:767]))\n",
    "wstep5z_r.shape\n",
    "\n",
    "step5=np.stack((wstep5x_r,wstep5y_r,wstep5z_r,wstep5xg,wstep5yg,wstep5zg))\n",
    "step5_t=step5.transpose(1,2,0)\n",
    "step5_t.shape"
   ]
  },
  {
   "cell_type": "code",
   "execution_count": 42,
   "metadata": {},
   "outputs": [
    {
     "data": {
      "text/plain": [
       "(756, 128, 6)"
      ]
     },
     "execution_count": 42,
     "metadata": {},
     "output_type": "execute_result"
    }
   ],
   "source": [
    "wstep6x_r=[]\n",
    "wstep6x_r = wstep6x[0:340]\n",
    "wstep6x_r=np.concatenate((wstep6x_r,wstep6x[344:490]))\n",
    "wstep6x_r=np.concatenate((wstep6x_r,wstep6x[496:767]))\n",
    "wstep6x_r.shape\n",
    "\n",
    "wstep6y_r=[]\n",
    "wstep6y_r = wstep6y[0:340]\n",
    "wstep6y_r=np.concatenate((wstep6y_r,wstep6y[344:490]))\n",
    "wstep6y_r=np.concatenate((wstep6y_r,wstep6y[496:767]))\n",
    "wstep6y_r.shape\n",
    "\n",
    "wstep6z_r=[]\n",
    "wstep6z_r = wstep6z[0:340]\n",
    "wstep6z_r=np.concatenate((wstep6z_r,wstep6z[344:490]))\n",
    "wstep6z_r=np.concatenate((wstep6z_r,wstep6z[496:767]))\n",
    "wstep6z_r.shape\n",
    "\n",
    "step6=np.stack((wstep6x_r,wstep6y_r,wstep6z_r,wstep6xg,wstep6yg,wstep6zg))\n",
    "step6_t=step6.transpose(1,2,0)\n",
    "step6_t.shape"
   ]
  },
  {
   "cell_type": "code",
   "execution_count": 43,
   "metadata": {},
   "outputs": [
    {
     "data": {
      "text/plain": [
       "(756, 128, 6)"
      ]
     },
     "execution_count": 43,
     "metadata": {},
     "output_type": "execute_result"
    }
   ],
   "source": [
    "step1_t = randomize_data(step1_t)\n",
    "step1_t.shape\n",
    "\n",
    "step2_t = randomize_data(step2_t)\n",
    "step2_t.shape\n",
    "\n",
    "step3_t = randomize_data(step3_t)\n",
    "step3_t.shape\n",
    "\n",
    "step4_t = randomize_data(step4_t)\n",
    "step4_t.shape\n",
    "\n",
    "step5_t = randomize_data(step5_t)\n",
    "step5_t.shape\n",
    "\n",
    "step6_t = randomize_data(step6_t)\n",
    "step6_t.shape"
   ]
  },
  {
   "cell_type": "code",
   "execution_count": 44,
   "metadata": {},
   "outputs": [],
   "source": [
    "# 70% of 754 = 527.8\n",
    "x_train1=step1_t[:528]\n",
    "x_test1=step1_t[528:]"
   ]
  },
  {
   "cell_type": "code",
   "execution_count": 45,
   "metadata": {},
   "outputs": [
    {
     "data": {
      "text/plain": [
       "(528, 128, 6)"
      ]
     },
     "execution_count": 45,
     "metadata": {},
     "output_type": "execute_result"
    }
   ],
   "source": [
    "x_train1.shape"
   ]
  },
  {
   "cell_type": "code",
   "execution_count": 46,
   "metadata": {},
   "outputs": [],
   "source": [
    "# 70% of 756 = 529.2\n",
    "x_train2=step2_t[:529]\n",
    "x_test2=step2_t[529:]\n",
    "\n",
    "x_train3=step3_t[:529]\n",
    "x_test3=step3_t[529:]\n",
    "\n",
    "x_train4=step4_t[:529]\n",
    "x_test4=step4_t[529:]\n",
    "\n",
    "x_train5=step5_t[:529]\n",
    "x_test5=step5_t[529:]\n",
    "\n",
    "x_train6=step6_t[:529]\n",
    "x_test6=step6_t[529:]"
   ]
  },
  {
   "cell_type": "code",
   "execution_count": 47,
   "metadata": {},
   "outputs": [
    {
     "data": {
      "text/plain": [
       "(227, 128, 6)"
      ]
     },
     "execution_count": 47,
     "metadata": {},
     "output_type": "execute_result"
    }
   ],
   "source": [
    "x_test2.shape"
   ]
  },
  {
   "cell_type": "code",
   "execution_count": 48,
   "metadata": {},
   "outputs": [
    {
     "data": {
      "text/plain": [
       "(3173, 128, 6)"
      ]
     },
     "execution_count": 48,
     "metadata": {},
     "output_type": "execute_result"
    }
   ],
   "source": [
    "x_train=[]\n",
    "x_train=np.concatenate((x_train1, x_train2))\n",
    "x_train=np.concatenate((x_train, x_train3))\n",
    "x_train=np.concatenate((x_train, x_train4))\n",
    "x_train=np.concatenate((x_train, x_train5))\n",
    "x_train=np.concatenate((x_train, x_train6))\n",
    "x_train.shape"
   ]
  },
  {
   "cell_type": "code",
   "execution_count": 49,
   "metadata": {},
   "outputs": [
    {
     "data": {
      "text/plain": [
       "(1361, 128, 6)"
      ]
     },
     "execution_count": 49,
     "metadata": {},
     "output_type": "execute_result"
    }
   ],
   "source": [
    "x_test=[]\n",
    "x_test=np.concatenate((x_test1, x_test2))\n",
    "x_test=np.concatenate((x_test, x_test3))\n",
    "x_test=np.concatenate((x_test, x_test4))\n",
    "x_test=np.concatenate((x_test, x_test5))\n",
    "x_test=np.concatenate((x_test, x_test6))\n",
    "x_test.shape"
   ]
  },
  {
   "cell_type": "code",
   "execution_count": 50,
   "metadata": {},
   "outputs": [],
   "source": [
    "y_train1=np.full((528), 1, dtype=int)\n",
    "y_train2=np.full((529), 2, dtype=int)\n",
    "y_train3=np.full((529), 3, dtype=int)\n",
    "y_train4=np.full((529), 4, dtype=int)\n",
    "y_train5=np.full((529), 5, dtype=int)\n",
    "y_train6=np.full((529), 6, dtype=int)\n",
    "\n",
    "y_test1=np.full((226), 1, dtype=int)\n",
    "y_test2=np.full((227), 2, dtype=int)\n",
    "y_test3=np.full((227), 3, dtype=int)\n",
    "y_test4=np.full((227), 4, dtype=int)\n",
    "y_test5=np.full((227), 5, dtype=int)\n",
    "y_test6=np.full((227), 6, dtype=int)"
   ]
  },
  {
   "cell_type": "code",
   "execution_count": 51,
   "metadata": {},
   "outputs": [
    {
     "data": {
      "text/plain": [
       "(3173,)"
      ]
     },
     "execution_count": 51,
     "metadata": {},
     "output_type": "execute_result"
    }
   ],
   "source": [
    "y_train=[]\n",
    "y_train=np.concatenate((y_train1, y_train2))\n",
    "y_train=np.concatenate((y_train, y_train3))\n",
    "y_train=np.concatenate((y_train, y_train4))\n",
    "y_train=np.concatenate((y_train, y_train5))\n",
    "y_train=np.concatenate((y_train, y_train6))\n",
    "y_train.shape"
   ]
  },
  {
   "cell_type": "code",
   "execution_count": 52,
   "metadata": {},
   "outputs": [
    {
     "data": {
      "text/plain": [
       "(1361,)"
      ]
     },
     "execution_count": 52,
     "metadata": {},
     "output_type": "execute_result"
    }
   ],
   "source": [
    "y_test=[]\n",
    "y_test=np.concatenate((y_test1, y_test2))\n",
    "y_test=np.concatenate((y_test, y_test3))\n",
    "y_test=np.concatenate((y_test, y_test4))\n",
    "y_test=np.concatenate((y_test, y_test5))\n",
    "y_test=np.concatenate((y_test, y_test6))\n",
    "y_test.shape"
   ]
  },
  {
   "cell_type": "code",
   "execution_count": 53,
   "metadata": {},
   "outputs": [],
   "source": [
    "dict_classifiers = {\n",
    "    \"Gradient Boosting Classifier\": GradientBoostingClassifier(),\n",
    "    \"Random Forest\": RandomForestClassifier(),\n",
    "    \"Logistic Regression\": LogisticRegression(),\n",
    "    \"Nearest Neighbors\": KNeighborsClassifier(),\n",
    "    \"Decision Tree\": DecisionTreeClassifier(),\n",
    "    \"Linear SVM\": SVC(),\n",
    "    \"Neural Net\": MLPClassifier(alpha = 1),\n",
    "    \"Naive Bayes\": GaussianNB(),   \n",
    "    \"AdaBoost\": AdaBoostClassifier(),\n",
    "    \"Gaussian Process\": GaussianProcessClassifier()\n",
    "}\n",
    "   \n",
    "def batch_classify(X_train, Y_train, X_test, Y_test, no_classifiers = 10, verbose = True):\n",
    "    \"\"\"\n",
    "    This method, takes as input the X, Y matrices of the Train and Test set.\n",
    "    And fits them on all of the Classifiers specified in the dict_classifier.\n",
    "    Usually, the SVM, Random Forest and Gradient Boosting Classifier take quiet some time to train. \n",
    "    So it is best to train them on a smaller dataset first and \n",
    "    decide whether you want to comment them out or not based on the test accuracy score.\n",
    "    \"\"\"\n",
    "    \n",
    "    dict_models = {}\n",
    "    for classifier_name, classifier in list(dict_classifiers.items())[:no_classifiers]:\n",
    "        t_start = time.clock()\n",
    "        classifier.fit(X_train, Y_train)\n",
    "        t_end = time.clock()\n",
    "        \n",
    "        t_diff = t_end - t_start\n",
    "        train_score = classifier.score(X_train, Y_train)\n",
    "        test_score = classifier.score(X_test, Y_test)\n",
    "        \n",
    "        dict_models[classifier_name] = {'model': classifier, 'train_score': train_score, 'test_score': test_score, 'train_time': t_diff}\n",
    "        if verbose:\n",
    "            print(\"trained {c} in {f:.2f} s\".format(c=classifier_name, f=t_diff))\n",
    "    return dict_models\n",
    "\n",
    "def get_train_test(df, y_col, x_cols, ratio):\n",
    "    \"\"\" \n",
    "    This method transforms a dataframe into a train and test set, for this you need to specify:\n",
    "    1. the ratio train : test (usually 0.7)\n",
    "    2. the column with the Y_values\n",
    "    \"\"\"\n",
    "    mask = np.random.rand(len(df)) < ratio\n",
    "    df_train = df[mask]\n",
    "    df_test = df[~mask]\n",
    "       \n",
    "    Y_train = df_train[y_col].values\n",
    "    Y_test = df_test[y_col].values\n",
    "    X_train = df_train[x_cols].values\n",
    "    X_test = df_test[x_cols].values\n",
    "    return df_train, df_test, X_train, Y_train, X_test, Y_test\n",
    "    \n",
    "def display_dict_models(dict_models, sort_by='test_score'):\n",
    "    cls = [key for key in dict_models.keys()]\n",
    "    test_s = [dict_models[key]['test_score'] for key in cls]\n",
    "    training_s = [dict_models[key]['train_score'] for key in cls]\n",
    "    training_t = [dict_models[key]['train_time'] for key in cls]\n",
    "    \n",
    "    df_ = pd.DataFrame(data=np.zeros(shape=(len(cls),4)), columns = ['classifier', 'train_score', 'test_score', 'train_time'])\n",
    "    for ii in range(0,len(cls)):\n",
    "        df_.loc[ii, 'classifier'] = cls[ii]\n",
    "        df_.loc[ii, 'train_score'] = training_s[ii]\n",
    "        df_.loc[ii, 'test_score'] = test_s[ii]\n",
    "        df_.loc[ii, 'train_time'] = training_t[ii]\n",
    "    \n",
    "    display(df_.sort_values(by=sort_by, ascending=False))\n",
    "    \n",
    "def calculate_entropy(list_values):\n",
    "    counter_values = Counter(list_values).most_common()\n",
    "    probabilities = [elem[1]/len(list_values) for elem in counter_values]\n",
    "    entropy=scipy.stats.entropy(probabilities)\n",
    "    return entropy\n",
    "\n",
    "def calculate_statistics(list_values):\n",
    "    n5 = np.nanpercentile(list_values, 5)\n",
    "    n25 = np.nanpercentile(list_values, 25)\n",
    "    n75 = np.nanpercentile(list_values, 75)\n",
    "    n95 = np.nanpercentile(list_values, 95)\n",
    "    median = np.nanpercentile(list_values, 50)\n",
    "    mean = np.nanmean(list_values)\n",
    "    std = np.nanstd(list_values)\n",
    "    var = np.nanvar(list_values)\n",
    "    rms = np.nanmean(np.sqrt(list_values**2))\n",
    "    return [n5, n25, n75, n95, median, mean, std, var, rms]\n",
    "\n",
    "def calculate_crossings(list_values):\n",
    "    zero_crossing_indices = np.nonzero(np.diff(np.array(list_values) > 0))[0]\n",
    "    no_zero_crossings = len(zero_crossing_indices)\n",
    "    mean_crossing_indices = np.nonzero(np.diff(np.array(list_values) > np.nanmean(list_values)))[0]\n",
    "    no_mean_crossings = len(mean_crossing_indices)\n",
    "    return [no_zero_crossings, no_mean_crossings]\n",
    "\n",
    "def get_features(list_values):\n",
    "    entropy = calculate_entropy(list_values)\n",
    "    crossings = calculate_crossings(list_values)\n",
    "    statistics = calculate_statistics(list_values)\n",
    "    return [entropy] + crossings + statistics\n",
    "\n",
    "def get_uci_har_features(dataset, labels, waveletname):\n",
    "    uci_har_features = []\n",
    "    for signal_no in range(0, len(dataset)):\n",
    "        features = []\n",
    "        for signal_comp in range(0,dataset.shape[2]):\n",
    "            signal = dataset[signal_no, :, signal_comp]\n",
    "            list_coeff = pywt.wavedec(signal, waveletname)\n",
    "            for coeff in list_coeff:\n",
    "                features += get_features(coeff)\n",
    "        uci_har_features.append(features)\n",
    "    X = np.array(uci_har_features)\n",
    "    Y = np.array(labels)\n",
    "    return X, Y"
   ]
  },
  {
   "cell_type": "code",
   "execution_count": 58,
   "metadata": {},
   "outputs": [
    {
     "name": "stdout",
     "output_type": "stream",
     "text": [
      "Train: [  53   54   55 ... 3170 3171 3172] Validation: [   0    1    2    3    4    5    6    7    8    9   10   11   12   13\n",
      "   14   15   16   17   18   19   20   21   22   23   24   25   26   27\n",
      "   28   29   30   31   32   33   34   35   36   37   38   39   40   41\n",
      "   42   43   44   45   46   47   48   49   50   51   52  528  529  530\n",
      "  531  532  533  534  535  536  537  538  539  540  541  542  543  544\n",
      "  545  546  547  548  549  550  551  552  553  554  555  556  557  558\n",
      "  559  560  561  562  563  564  565  566  567  568  569  570  571  572\n",
      "  573  574  575  576  577  578  579  580 1057 1058 1059 1060 1061 1062\n",
      " 1063 1064 1065 1066 1067 1068 1069 1070 1071 1072 1073 1074 1075 1076\n",
      " 1077 1078 1079 1080 1081 1082 1083 1084 1085 1086 1087 1088 1089 1090\n",
      " 1091 1092 1093 1094 1095 1096 1097 1098 1099 1100 1101 1102 1103 1104\n",
      " 1105 1106 1107 1108 1109 1586 1587 1588 1589 1590 1591 1592 1593 1594\n",
      " 1595 1596 1597 1598 1599 1600 1601 1602 1603 1604 1605 1606 1607 1608\n",
      " 1609 1610 1611 1612 1613 1614 1615 1616 1617 1618 1619 1620 1621 1622\n",
      " 1623 1624 1625 1626 1627 1628 1629 1630 1631 1632 1633 1634 1635 1636\n",
      " 1637 1638 2115 2116 2117 2118 2119 2120 2121 2122 2123 2124 2125 2126\n",
      " 2127 2128 2129 2130 2131 2132 2133 2134 2135 2136 2137 2138 2139 2140\n",
      " 2141 2142 2143 2144 2145 2146 2147 2148 2149 2150 2151 2152 2153 2154\n",
      " 2155 2156 2157 2158 2159 2160 2161 2162 2163 2164 2165 2166 2167 2644\n",
      " 2645 2646 2647 2648 2649 2650 2651 2652 2653 2654 2655 2656 2657 2658\n",
      " 2659 2660 2661 2662 2663 2664 2665 2666 2667 2668 2669 2670 2671 2672\n",
      " 2673 2674 2675 2676 2677 2678 2679 2680 2681 2682 2683 2684 2685 2686\n",
      " 2687 2688 2689 2690 2691 2692 2693 2694 2695 2696]\n"
     ]
    },
    {
     "name": "stderr",
     "output_type": "stream",
     "text": [
      "C:\\Users\\ankit\\Anaconda3\\lib\\site-packages\\ipykernel_launcher.py:25: DeprecationWarning: time.clock has been deprecated in Python 3.3 and will be removed from Python 3.8: use time.perf_counter or time.process_time instead\n",
      "C:\\Users\\ankit\\Anaconda3\\lib\\site-packages\\ipykernel_launcher.py:27: DeprecationWarning: time.clock has been deprecated in Python 3.3 and will be removed from Python 3.8: use time.perf_counter or time.process_time instead\n"
     ]
    },
    {
     "name": "stdout",
     "output_type": "stream",
     "text": [
      "trained Gradient Boosting Classifier in 77.09 s\n"
     ]
    },
    {
     "name": "stderr",
     "output_type": "stream",
     "text": [
      "C:\\Users\\ankit\\Anaconda3\\lib\\site-packages\\ipykernel_launcher.py:25: DeprecationWarning: time.clock has been deprecated in Python 3.3 and will be removed from Python 3.8: use time.perf_counter or time.process_time instead\n",
      "C:\\Users\\ankit\\Anaconda3\\lib\\site-packages\\sklearn\\ensemble\\forest.py:245: FutureWarning: The default value of n_estimators will change from 10 in version 0.20 to 100 in 0.22.\n",
      "  \"10 in version 0.20 to 100 in 0.22.\", FutureWarning)\n",
      "C:\\Users\\ankit\\Anaconda3\\lib\\site-packages\\ipykernel_launcher.py:27: DeprecationWarning: time.clock has been deprecated in Python 3.3 and will be removed from Python 3.8: use time.perf_counter or time.process_time instead\n",
      "C:\\Users\\ankit\\Anaconda3\\lib\\site-packages\\ipykernel_launcher.py:25: DeprecationWarning: time.clock has been deprecated in Python 3.3 and will be removed from Python 3.8: use time.perf_counter or time.process_time instead\n"
     ]
    },
    {
     "name": "stdout",
     "output_type": "stream",
     "text": [
      "trained Random Forest in 0.53 s\n"
     ]
    },
    {
     "name": "stderr",
     "output_type": "stream",
     "text": [
      "C:\\Users\\ankit\\Anaconda3\\lib\\site-packages\\sklearn\\linear_model\\logistic.py:432: FutureWarning: Default solver will be changed to 'lbfgs' in 0.22. Specify a solver to silence this warning.\n",
      "  FutureWarning)\n",
      "C:\\Users\\ankit\\Anaconda3\\lib\\site-packages\\sklearn\\linear_model\\logistic.py:469: FutureWarning: Default multi_class will be changed to 'auto' in 0.22. Specify the multi_class option to silence this warning.\n",
      "  \"this warning.\", FutureWarning)\n",
      "C:\\Users\\ankit\\Anaconda3\\lib\\site-packages\\ipykernel_launcher.py:27: DeprecationWarning: time.clock has been deprecated in Python 3.3 and will be removed from Python 3.8: use time.perf_counter or time.process_time instead\n"
     ]
    },
    {
     "name": "stdout",
     "output_type": "stream",
     "text": [
      "trained Logistic Regression in 18.60 s\n"
     ]
    },
    {
     "name": "stderr",
     "output_type": "stream",
     "text": [
      "C:\\Users\\ankit\\Anaconda3\\lib\\site-packages\\ipykernel_launcher.py:25: DeprecationWarning: time.clock has been deprecated in Python 3.3 and will be removed from Python 3.8: use time.perf_counter or time.process_time instead\n",
      "C:\\Users\\ankit\\Anaconda3\\lib\\site-packages\\ipykernel_launcher.py:27: DeprecationWarning: time.clock has been deprecated in Python 3.3 and will be removed from Python 3.8: use time.perf_counter or time.process_time instead\n"
     ]
    },
    {
     "name": "stdout",
     "output_type": "stream",
     "text": [
      "trained Nearest Neighbors in 0.20 s\n"
     ]
    },
    {
     "name": "stderr",
     "output_type": "stream",
     "text": [
      "C:\\Users\\ankit\\Anaconda3\\lib\\site-packages\\ipykernel_launcher.py:25: DeprecationWarning: time.clock has been deprecated in Python 3.3 and will be removed from Python 3.8: use time.perf_counter or time.process_time instead\n",
      "C:\\Users\\ankit\\Anaconda3\\lib\\site-packages\\ipykernel_launcher.py:27: DeprecationWarning: time.clock has been deprecated in Python 3.3 and will be removed from Python 3.8: use time.perf_counter or time.process_time instead\n",
      "C:\\Users\\ankit\\Anaconda3\\lib\\site-packages\\ipykernel_launcher.py:25: DeprecationWarning: time.clock has been deprecated in Python 3.3 and will be removed from Python 3.8: use time.perf_counter or time.process_time instead\n"
     ]
    },
    {
     "name": "stdout",
     "output_type": "stream",
     "text": [
      "trained Decision Tree in 3.17 s\n"
     ]
    },
    {
     "name": "stderr",
     "output_type": "stream",
     "text": [
      "C:\\Users\\ankit\\Anaconda3\\lib\\site-packages\\sklearn\\svm\\base.py:193: FutureWarning: The default value of gamma will change from 'auto' to 'scale' in version 0.22 to account better for unscaled features. Set gamma explicitly to 'auto' or 'scale' to avoid this warning.\n",
      "  \"avoid this warning.\", FutureWarning)\n",
      "C:\\Users\\ankit\\Anaconda3\\lib\\site-packages\\ipykernel_launcher.py:27: DeprecationWarning: time.clock has been deprecated in Python 3.3 and will be removed from Python 3.8: use time.perf_counter or time.process_time instead\n"
     ]
    },
    {
     "name": "stdout",
     "output_type": "stream",
     "text": [
      "trained Linear SVM in 18.98 s\n"
     ]
    },
    {
     "name": "stderr",
     "output_type": "stream",
     "text": [
      "C:\\Users\\ankit\\Anaconda3\\lib\\site-packages\\ipykernel_launcher.py:25: DeprecationWarning: time.clock has been deprecated in Python 3.3 and will be removed from Python 3.8: use time.perf_counter or time.process_time instead\n",
      "C:\\Users\\ankit\\Anaconda3\\lib\\site-packages\\ipykernel_launcher.py:27: DeprecationWarning: time.clock has been deprecated in Python 3.3 and will be removed from Python 3.8: use time.perf_counter or time.process_time instead\n",
      "C:\\Users\\ankit\\Anaconda3\\lib\\site-packages\\ipykernel_launcher.py:25: DeprecationWarning: time.clock has been deprecated in Python 3.3 and will be removed from Python 3.8: use time.perf_counter or time.process_time instead\n",
      "C:\\Users\\ankit\\Anaconda3\\lib\\site-packages\\ipykernel_launcher.py:27: DeprecationWarning: time.clock has been deprecated in Python 3.3 and will be removed from Python 3.8: use time.perf_counter or time.process_time instead\n"
     ]
    },
    {
     "name": "stdout",
     "output_type": "stream",
     "text": [
      "trained Neural Net in 14.89 s\n",
      "trained Naive Bayes in 0.04 s\n"
     ]
    },
    {
     "name": "stderr",
     "output_type": "stream",
     "text": [
      "C:\\Users\\ankit\\Anaconda3\\lib\\site-packages\\ipykernel_launcher.py:25: DeprecationWarning: time.clock has been deprecated in Python 3.3 and will be removed from Python 3.8: use time.perf_counter or time.process_time instead\n",
      "C:\\Users\\ankit\\Anaconda3\\lib\\site-packages\\ipykernel_launcher.py:27: DeprecationWarning: time.clock has been deprecated in Python 3.3 and will be removed from Python 3.8: use time.perf_counter or time.process_time instead\n"
     ]
    },
    {
     "name": "stdout",
     "output_type": "stream",
     "text": [
      "trained AdaBoost in 10.74 s\n"
     ]
    },
    {
     "name": "stderr",
     "output_type": "stream",
     "text": [
      "C:\\Users\\ankit\\Anaconda3\\lib\\site-packages\\ipykernel_launcher.py:25: DeprecationWarning: time.clock has been deprecated in Python 3.3 and will be removed from Python 3.8: use time.perf_counter or time.process_time instead\n",
      "C:\\Users\\ankit\\Anaconda3\\lib\\site-packages\\ipykernel_launcher.py:27: DeprecationWarning: time.clock has been deprecated in Python 3.3 and will be removed from Python 3.8: use time.perf_counter or time.process_time instead\n"
     ]
    },
    {
     "name": "stdout",
     "output_type": "stream",
     "text": [
      "trained Gaussian Process in 127.27 s\n"
     ]
    },
    {
     "data": {
      "text/html": [
       "<div>\n",
       "<style scoped>\n",
       "    .dataframe tbody tr th:only-of-type {\n",
       "        vertical-align: middle;\n",
       "    }\n",
       "\n",
       "    .dataframe tbody tr th {\n",
       "        vertical-align: top;\n",
       "    }\n",
       "\n",
       "    .dataframe thead th {\n",
       "        text-align: right;\n",
       "    }\n",
       "</style>\n",
       "<table border=\"1\" class=\"dataframe\">\n",
       "  <thead>\n",
       "    <tr style=\"text-align: right;\">\n",
       "      <th></th>\n",
       "      <th>classifier</th>\n",
       "      <th>train_score</th>\n",
       "      <th>test_score</th>\n",
       "      <th>train_time</th>\n",
       "    </tr>\n",
       "  </thead>\n",
       "  <tbody>\n",
       "    <tr>\n",
       "      <td>0</td>\n",
       "      <td>Gradient Boosting Classifier</td>\n",
       "      <td>0.999299</td>\n",
       "      <td>0.899371</td>\n",
       "      <td>77.092289</td>\n",
       "    </tr>\n",
       "    <tr>\n",
       "      <td>2</td>\n",
       "      <td>Logistic Regression</td>\n",
       "      <td>0.881261</td>\n",
       "      <td>0.845912</td>\n",
       "      <td>18.600471</td>\n",
       "    </tr>\n",
       "    <tr>\n",
       "      <td>1</td>\n",
       "      <td>Random Forest</td>\n",
       "      <td>0.996848</td>\n",
       "      <td>0.839623</td>\n",
       "      <td>0.526744</td>\n",
       "    </tr>\n",
       "    <tr>\n",
       "      <td>6</td>\n",
       "      <td>Neural Net</td>\n",
       "      <td>0.903678</td>\n",
       "      <td>0.823899</td>\n",
       "      <td>14.893689</td>\n",
       "    </tr>\n",
       "    <tr>\n",
       "      <td>4</td>\n",
       "      <td>Decision Tree</td>\n",
       "      <td>1.000000</td>\n",
       "      <td>0.805031</td>\n",
       "      <td>3.171325</td>\n",
       "    </tr>\n",
       "    <tr>\n",
       "      <td>3</td>\n",
       "      <td>Nearest Neighbors</td>\n",
       "      <td>0.835727</td>\n",
       "      <td>0.764151</td>\n",
       "      <td>0.203067</td>\n",
       "    </tr>\n",
       "    <tr>\n",
       "      <td>8</td>\n",
       "      <td>AdaBoost</td>\n",
       "      <td>0.644483</td>\n",
       "      <td>0.616352</td>\n",
       "      <td>10.742435</td>\n",
       "    </tr>\n",
       "    <tr>\n",
       "      <td>5</td>\n",
       "      <td>Linear SVM</td>\n",
       "      <td>1.000000</td>\n",
       "      <td>0.591195</td>\n",
       "      <td>18.984929</td>\n",
       "    </tr>\n",
       "    <tr>\n",
       "      <td>7</td>\n",
       "      <td>Naive Bayes</td>\n",
       "      <td>0.589842</td>\n",
       "      <td>0.578616</td>\n",
       "      <td>0.037532</td>\n",
       "    </tr>\n",
       "    <tr>\n",
       "      <td>9</td>\n",
       "      <td>Gaussian Process</td>\n",
       "      <td>1.000000</td>\n",
       "      <td>0.166667</td>\n",
       "      <td>127.273995</td>\n",
       "    </tr>\n",
       "  </tbody>\n",
       "</table>\n",
       "</div>"
      ],
      "text/plain": [
       "                     classifier  train_score  test_score  train_time\n",
       "0  Gradient Boosting Classifier     0.999299    0.899371   77.092289\n",
       "2           Logistic Regression     0.881261    0.845912   18.600471\n",
       "1                 Random Forest     0.996848    0.839623    0.526744\n",
       "6                    Neural Net     0.903678    0.823899   14.893689\n",
       "4                 Decision Tree     1.000000    0.805031    3.171325\n",
       "3             Nearest Neighbors     0.835727    0.764151    0.203067\n",
       "8                      AdaBoost     0.644483    0.616352   10.742435\n",
       "5                    Linear SVM     1.000000    0.591195   18.984929\n",
       "7                   Naive Bayes     0.589842    0.578616    0.037532\n",
       "9              Gaussian Process     1.000000    0.166667  127.273995"
      ]
     },
     "metadata": {},
     "output_type": "display_data"
    },
    {
     "name": "stdout",
     "output_type": "stream",
     "text": [
      "Train: [   0    1    2 ... 3170 3171 3172] Validation: [  53   54   55   56   57   58   59   60   61   62   63   64   65   66\n",
      "   67   68   69   70   71   72   73   74   75   76   77   78   79   80\n",
      "   81   82   83   84   85   86   87   88   89   90   91   92   93   94\n",
      "   95   96   97   98   99  100  101  102  103  104  105  581  582  583\n",
      "  584  585  586  587  588  589  590  591  592  593  594  595  596  597\n",
      "  598  599  600  601  602  603  604  605  606  607  608  609  610  611\n",
      "  612  613  614  615  616  617  618  619  620  621  622  623  624  625\n",
      "  626  627  628  629  630  631  632  633 1110 1111 1112 1113 1114 1115\n",
      " 1116 1117 1118 1119 1120 1121 1122 1123 1124 1125 1126 1127 1128 1129\n",
      " 1130 1131 1132 1133 1134 1135 1136 1137 1138 1139 1140 1141 1142 1143\n",
      " 1144 1145 1146 1147 1148 1149 1150 1151 1152 1153 1154 1155 1156 1157\n",
      " 1158 1159 1160 1161 1162 1639 1640 1641 1642 1643 1644 1645 1646 1647\n",
      " 1648 1649 1650 1651 1652 1653 1654 1655 1656 1657 1658 1659 1660 1661\n",
      " 1662 1663 1664 1665 1666 1667 1668 1669 1670 1671 1672 1673 1674 1675\n",
      " 1676 1677 1678 1679 1680 1681 1682 1683 1684 1685 1686 1687 1688 1689\n",
      " 1690 1691 2168 2169 2170 2171 2172 2173 2174 2175 2176 2177 2178 2179\n",
      " 2180 2181 2182 2183 2184 2185 2186 2187 2188 2189 2190 2191 2192 2193\n",
      " 2194 2195 2196 2197 2198 2199 2200 2201 2202 2203 2204 2205 2206 2207\n",
      " 2208 2209 2210 2211 2212 2213 2214 2215 2216 2217 2218 2219 2220 2697\n",
      " 2698 2699 2700 2701 2702 2703 2704 2705 2706 2707 2708 2709 2710 2711\n",
      " 2712 2713 2714 2715 2716 2717 2718 2719 2720 2721 2722 2723 2724 2725\n",
      " 2726 2727 2728 2729 2730 2731 2732 2733 2734 2735 2736 2737 2738 2739\n",
      " 2740 2741 2742 2743 2744 2745 2746 2747 2748 2749]\n"
     ]
    },
    {
     "name": "stderr",
     "output_type": "stream",
     "text": [
      "C:\\Users\\ankit\\Anaconda3\\lib\\site-packages\\ipykernel_launcher.py:25: DeprecationWarning: time.clock has been deprecated in Python 3.3 and will be removed from Python 3.8: use time.perf_counter or time.process_time instead\n",
      "C:\\Users\\ankit\\Anaconda3\\lib\\site-packages\\ipykernel_launcher.py:27: DeprecationWarning: time.clock has been deprecated in Python 3.3 and will be removed from Python 3.8: use time.perf_counter or time.process_time instead\n",
      "C:\\Users\\ankit\\Anaconda3\\lib\\site-packages\\ipykernel_launcher.py:25: DeprecationWarning: time.clock has been deprecated in Python 3.3 and will be removed from Python 3.8: use time.perf_counter or time.process_time instead\n"
     ]
    },
    {
     "name": "stdout",
     "output_type": "stream",
     "text": [
      "trained Gradient Boosting Classifier in 86.31 s\n"
     ]
    },
    {
     "name": "stderr",
     "output_type": "stream",
     "text": [
      "C:\\Users\\ankit\\Anaconda3\\lib\\site-packages\\ipykernel_launcher.py:27: DeprecationWarning: time.clock has been deprecated in Python 3.3 and will be removed from Python 3.8: use time.perf_counter or time.process_time instead\n",
      "C:\\Users\\ankit\\Anaconda3\\lib\\site-packages\\ipykernel_launcher.py:25: DeprecationWarning: time.clock has been deprecated in Python 3.3 and will be removed from Python 3.8: use time.perf_counter or time.process_time instead\n",
      "C:\\Users\\ankit\\Anaconda3\\lib\\site-packages\\sklearn\\linear_model\\logistic.py:432: FutureWarning: Default solver will be changed to 'lbfgs' in 0.22. Specify a solver to silence this warning.\n",
      "  FutureWarning)\n",
      "C:\\Users\\ankit\\Anaconda3\\lib\\site-packages\\sklearn\\linear_model\\logistic.py:469: FutureWarning: Default multi_class will be changed to 'auto' in 0.22. Specify the multi_class option to silence this warning.\n",
      "  \"this warning.\", FutureWarning)\n"
     ]
    },
    {
     "name": "stdout",
     "output_type": "stream",
     "text": [
      "trained Random Forest in 0.58 s\n"
     ]
    },
    {
     "name": "stderr",
     "output_type": "stream",
     "text": [
      "C:\\Users\\ankit\\Anaconda3\\lib\\site-packages\\ipykernel_launcher.py:27: DeprecationWarning: time.clock has been deprecated in Python 3.3 and will be removed from Python 3.8: use time.perf_counter or time.process_time instead\n",
      "C:\\Users\\ankit\\Anaconda3\\lib\\site-packages\\ipykernel_launcher.py:25: DeprecationWarning: time.clock has been deprecated in Python 3.3 and will be removed from Python 3.8: use time.perf_counter or time.process_time instead\n",
      "C:\\Users\\ankit\\Anaconda3\\lib\\site-packages\\ipykernel_launcher.py:27: DeprecationWarning: time.clock has been deprecated in Python 3.3 and will be removed from Python 3.8: use time.perf_counter or time.process_time instead\n"
     ]
    },
    {
     "name": "stdout",
     "output_type": "stream",
     "text": [
      "trained Logistic Regression in 18.29 s\n",
      "trained Nearest Neighbors in 0.13 s\n"
     ]
    },
    {
     "name": "stderr",
     "output_type": "stream",
     "text": [
      "C:\\Users\\ankit\\Anaconda3\\lib\\site-packages\\ipykernel_launcher.py:25: DeprecationWarning: time.clock has been deprecated in Python 3.3 and will be removed from Python 3.8: use time.perf_counter or time.process_time instead\n",
      "C:\\Users\\ankit\\Anaconda3\\lib\\site-packages\\ipykernel_launcher.py:27: DeprecationWarning: time.clock has been deprecated in Python 3.3 and will be removed from Python 3.8: use time.perf_counter or time.process_time instead\n",
      "C:\\Users\\ankit\\Anaconda3\\lib\\site-packages\\ipykernel_launcher.py:25: DeprecationWarning: time.clock has been deprecated in Python 3.3 and will be removed from Python 3.8: use time.perf_counter or time.process_time instead\n",
      "C:\\Users\\ankit\\Anaconda3\\lib\\site-packages\\sklearn\\svm\\base.py:193: FutureWarning: The default value of gamma will change from 'auto' to 'scale' in version 0.22 to account better for unscaled features. Set gamma explicitly to 'auto' or 'scale' to avoid this warning.\n",
      "  \"avoid this warning.\", FutureWarning)\n"
     ]
    },
    {
     "name": "stdout",
     "output_type": "stream",
     "text": [
      "trained Decision Tree in 1.78 s\n"
     ]
    },
    {
     "name": "stderr",
     "output_type": "stream",
     "text": [
      "C:\\Users\\ankit\\Anaconda3\\lib\\site-packages\\ipykernel_launcher.py:27: DeprecationWarning: time.clock has been deprecated in Python 3.3 and will be removed from Python 3.8: use time.perf_counter or time.process_time instead\n"
     ]
    },
    {
     "name": "stdout",
     "output_type": "stream",
     "text": [
      "trained Linear SVM in 11.07 s\n"
     ]
    },
    {
     "name": "stderr",
     "output_type": "stream",
     "text": [
      "C:\\Users\\ankit\\Anaconda3\\lib\\site-packages\\ipykernel_launcher.py:25: DeprecationWarning: time.clock has been deprecated in Python 3.3 and will be removed from Python 3.8: use time.perf_counter or time.process_time instead\n",
      "C:\\Users\\ankit\\Anaconda3\\lib\\site-packages\\sklearn\\neural_network\\multilayer_perceptron.py:566: ConvergenceWarning: Stochastic Optimizer: Maximum iterations (200) reached and the optimization hasn't converged yet.\n",
      "  % self.max_iter, ConvergenceWarning)\n",
      "C:\\Users\\ankit\\Anaconda3\\lib\\site-packages\\ipykernel_launcher.py:27: DeprecationWarning: time.clock has been deprecated in Python 3.3 and will be removed from Python 3.8: use time.perf_counter or time.process_time instead\n",
      "C:\\Users\\ankit\\Anaconda3\\lib\\site-packages\\ipykernel_launcher.py:25: DeprecationWarning: time.clock has been deprecated in Python 3.3 and will be removed from Python 3.8: use time.perf_counter or time.process_time instead\n",
      "C:\\Users\\ankit\\Anaconda3\\lib\\site-packages\\ipykernel_launcher.py:27: DeprecationWarning: time.clock has been deprecated in Python 3.3 and will be removed from Python 3.8: use time.perf_counter or time.process_time instead\n"
     ]
    },
    {
     "name": "stdout",
     "output_type": "stream",
     "text": [
      "trained Neural Net in 14.81 s\n",
      "trained Naive Bayes in 0.04 s\n"
     ]
    },
    {
     "name": "stderr",
     "output_type": "stream",
     "text": [
      "C:\\Users\\ankit\\Anaconda3\\lib\\site-packages\\ipykernel_launcher.py:25: DeprecationWarning: time.clock has been deprecated in Python 3.3 and will be removed from Python 3.8: use time.perf_counter or time.process_time instead\n",
      "C:\\Users\\ankit\\Anaconda3\\lib\\site-packages\\ipykernel_launcher.py:27: DeprecationWarning: time.clock has been deprecated in Python 3.3 and will be removed from Python 3.8: use time.perf_counter or time.process_time instead\n"
     ]
    },
    {
     "name": "stdout",
     "output_type": "stream",
     "text": [
      "trained AdaBoost in 10.18 s\n"
     ]
    },
    {
     "name": "stderr",
     "output_type": "stream",
     "text": [
      "C:\\Users\\ankit\\Anaconda3\\lib\\site-packages\\ipykernel_launcher.py:25: DeprecationWarning: time.clock has been deprecated in Python 3.3 and will be removed from Python 3.8: use time.perf_counter or time.process_time instead\n",
      "C:\\Users\\ankit\\Anaconda3\\lib\\site-packages\\ipykernel_launcher.py:27: DeprecationWarning: time.clock has been deprecated in Python 3.3 and will be removed from Python 3.8: use time.perf_counter or time.process_time instead\n"
     ]
    },
    {
     "name": "stdout",
     "output_type": "stream",
     "text": [
      "trained Gaussian Process in 95.02 s\n"
     ]
    },
    {
     "data": {
      "text/html": [
       "<div>\n",
       "<style scoped>\n",
       "    .dataframe tbody tr th:only-of-type {\n",
       "        vertical-align: middle;\n",
       "    }\n",
       "\n",
       "    .dataframe tbody tr th {\n",
       "        vertical-align: top;\n",
       "    }\n",
       "\n",
       "    .dataframe thead th {\n",
       "        text-align: right;\n",
       "    }\n",
       "</style>\n",
       "<table border=\"1\" class=\"dataframe\">\n",
       "  <thead>\n",
       "    <tr style=\"text-align: right;\">\n",
       "      <th></th>\n",
       "      <th>classifier</th>\n",
       "      <th>train_score</th>\n",
       "      <th>test_score</th>\n",
       "      <th>train_time</th>\n",
       "    </tr>\n",
       "  </thead>\n",
       "  <tbody>\n",
       "    <tr>\n",
       "      <td>0</td>\n",
       "      <td>Gradient Boosting Classifier</td>\n",
       "      <td>0.999299</td>\n",
       "      <td>0.899371</td>\n",
       "      <td>86.314080</td>\n",
       "    </tr>\n",
       "    <tr>\n",
       "      <td>6</td>\n",
       "      <td>Neural Net</td>\n",
       "      <td>0.948511</td>\n",
       "      <td>0.836478</td>\n",
       "      <td>14.810203</td>\n",
       "    </tr>\n",
       "    <tr>\n",
       "      <td>2</td>\n",
       "      <td>Logistic Regression</td>\n",
       "      <td>0.884413</td>\n",
       "      <td>0.833333</td>\n",
       "      <td>18.291815</td>\n",
       "    </tr>\n",
       "    <tr>\n",
       "      <td>1</td>\n",
       "      <td>Random Forest</td>\n",
       "      <td>0.998249</td>\n",
       "      <td>0.827044</td>\n",
       "      <td>0.583461</td>\n",
       "    </tr>\n",
       "    <tr>\n",
       "      <td>3</td>\n",
       "      <td>Nearest Neighbors</td>\n",
       "      <td>0.837478</td>\n",
       "      <td>0.748428</td>\n",
       "      <td>0.133037</td>\n",
       "    </tr>\n",
       "    <tr>\n",
       "      <td>4</td>\n",
       "      <td>Decision Tree</td>\n",
       "      <td>1.000000</td>\n",
       "      <td>0.745283</td>\n",
       "      <td>1.782065</td>\n",
       "    </tr>\n",
       "    <tr>\n",
       "      <td>8</td>\n",
       "      <td>AdaBoost</td>\n",
       "      <td>0.617863</td>\n",
       "      <td>0.616352</td>\n",
       "      <td>10.182764</td>\n",
       "    </tr>\n",
       "    <tr>\n",
       "      <td>7</td>\n",
       "      <td>Naive Bayes</td>\n",
       "      <td>0.589492</td>\n",
       "      <td>0.550314</td>\n",
       "      <td>0.042584</td>\n",
       "    </tr>\n",
       "    <tr>\n",
       "      <td>5</td>\n",
       "      <td>Linear SVM</td>\n",
       "      <td>1.000000</td>\n",
       "      <td>0.540881</td>\n",
       "      <td>11.072661</td>\n",
       "    </tr>\n",
       "    <tr>\n",
       "      <td>9</td>\n",
       "      <td>Gaussian Process</td>\n",
       "      <td>1.000000</td>\n",
       "      <td>0.166667</td>\n",
       "      <td>95.020554</td>\n",
       "    </tr>\n",
       "  </tbody>\n",
       "</table>\n",
       "</div>"
      ],
      "text/plain": [
       "                     classifier  train_score  test_score  train_time\n",
       "0  Gradient Boosting Classifier     0.999299    0.899371   86.314080\n",
       "6                    Neural Net     0.948511    0.836478   14.810203\n",
       "2           Logistic Regression     0.884413    0.833333   18.291815\n",
       "1                 Random Forest     0.998249    0.827044    0.583461\n",
       "3             Nearest Neighbors     0.837478    0.748428    0.133037\n",
       "4                 Decision Tree     1.000000    0.745283    1.782065\n",
       "8                      AdaBoost     0.617863    0.616352   10.182764\n",
       "7                   Naive Bayes     0.589492    0.550314    0.042584\n",
       "5                    Linear SVM     1.000000    0.540881   11.072661\n",
       "9              Gaussian Process     1.000000    0.166667   95.020554"
      ]
     },
     "metadata": {},
     "output_type": "display_data"
    },
    {
     "name": "stdout",
     "output_type": "stream",
     "text": [
      "Train: [   0    1    2 ... 3170 3171 3172] Validation: [ 106  107  108  109  110  111  112  113  114  115  116  117  118  119\n",
      "  120  121  122  123  124  125  126  127  128  129  130  131  132  133\n",
      "  134  135  136  137  138  139  140  141  142  143  144  145  146  147\n",
      "  148  149  150  151  152  153  154  155  156  157  158  634  635  636\n",
      "  637  638  639  640  641  642  643  644  645  646  647  648  649  650\n",
      "  651  652  653  654  655  656  657  658  659  660  661  662  663  664\n",
      "  665  666  667  668  669  670  671  672  673  674  675  676  677  678\n",
      "  679  680  681  682  683  684  685  686 1163 1164 1165 1166 1167 1168\n",
      " 1169 1170 1171 1172 1173 1174 1175 1176 1177 1178 1179 1180 1181 1182\n",
      " 1183 1184 1185 1186 1187 1188 1189 1190 1191 1192 1193 1194 1195 1196\n",
      " 1197 1198 1199 1200 1201 1202 1203 1204 1205 1206 1207 1208 1209 1210\n",
      " 1211 1212 1213 1214 1215 1692 1693 1694 1695 1696 1697 1698 1699 1700\n",
      " 1701 1702 1703 1704 1705 1706 1707 1708 1709 1710 1711 1712 1713 1714\n",
      " 1715 1716 1717 1718 1719 1720 1721 1722 1723 1724 1725 1726 1727 1728\n",
      " 1729 1730 1731 1732 1733 1734 1735 1736 1737 1738 1739 1740 1741 1742\n",
      " 1743 1744 2221 2222 2223 2224 2225 2226 2227 2228 2229 2230 2231 2232\n",
      " 2233 2234 2235 2236 2237 2238 2239 2240 2241 2242 2243 2244 2245 2246\n",
      " 2247 2248 2249 2250 2251 2252 2253 2254 2255 2256 2257 2258 2259 2260\n",
      " 2261 2262 2263 2264 2265 2266 2267 2268 2269 2270 2271 2272 2273 2750\n",
      " 2751 2752 2753 2754 2755 2756 2757 2758 2759 2760 2761 2762 2763 2764\n",
      " 2765 2766 2767 2768 2769 2770 2771 2772 2773 2774 2775 2776 2777 2778\n",
      " 2779 2780 2781 2782 2783 2784 2785 2786 2787 2788 2789 2790 2791 2792\n",
      " 2793 2794 2795 2796 2797 2798 2799 2800 2801 2802]\n"
     ]
    },
    {
     "name": "stderr",
     "output_type": "stream",
     "text": [
      "C:\\Users\\ankit\\Anaconda3\\lib\\site-packages\\ipykernel_launcher.py:25: DeprecationWarning: time.clock has been deprecated in Python 3.3 and will be removed from Python 3.8: use time.perf_counter or time.process_time instead\n",
      "C:\\Users\\ankit\\Anaconda3\\lib\\site-packages\\ipykernel_launcher.py:27: DeprecationWarning: time.clock has been deprecated in Python 3.3 and will be removed from Python 3.8: use time.perf_counter or time.process_time instead\n",
      "C:\\Users\\ankit\\Anaconda3\\lib\\site-packages\\ipykernel_launcher.py:25: DeprecationWarning: time.clock has been deprecated in Python 3.3 and will be removed from Python 3.8: use time.perf_counter or time.process_time instead\n"
     ]
    },
    {
     "name": "stdout",
     "output_type": "stream",
     "text": [
      "trained Gradient Boosting Classifier in 75.37 s\n"
     ]
    },
    {
     "name": "stderr",
     "output_type": "stream",
     "text": [
      "C:\\Users\\ankit\\Anaconda3\\lib\\site-packages\\ipykernel_launcher.py:27: DeprecationWarning: time.clock has been deprecated in Python 3.3 and will be removed from Python 3.8: use time.perf_counter or time.process_time instead\n",
      "C:\\Users\\ankit\\Anaconda3\\lib\\site-packages\\ipykernel_launcher.py:25: DeprecationWarning: time.clock has been deprecated in Python 3.3 and will be removed from Python 3.8: use time.perf_counter or time.process_time instead\n",
      "C:\\Users\\ankit\\Anaconda3\\lib\\site-packages\\sklearn\\linear_model\\logistic.py:432: FutureWarning: Default solver will be changed to 'lbfgs' in 0.22. Specify a solver to silence this warning.\n",
      "  FutureWarning)\n",
      "C:\\Users\\ankit\\Anaconda3\\lib\\site-packages\\sklearn\\linear_model\\logistic.py:469: FutureWarning: Default multi_class will be changed to 'auto' in 0.22. Specify the multi_class option to silence this warning.\n",
      "  \"this warning.\", FutureWarning)\n"
     ]
    },
    {
     "name": "stdout",
     "output_type": "stream",
     "text": [
      "trained Random Forest in 0.54 s\n"
     ]
    },
    {
     "name": "stderr",
     "output_type": "stream",
     "text": [
      "C:\\Users\\ankit\\Anaconda3\\lib\\site-packages\\ipykernel_launcher.py:27: DeprecationWarning: time.clock has been deprecated in Python 3.3 and will be removed from Python 3.8: use time.perf_counter or time.process_time instead\n",
      "C:\\Users\\ankit\\Anaconda3\\lib\\site-packages\\ipykernel_launcher.py:25: DeprecationWarning: time.clock has been deprecated in Python 3.3 and will be removed from Python 3.8: use time.perf_counter or time.process_time instead\n",
      "C:\\Users\\ankit\\Anaconda3\\lib\\site-packages\\ipykernel_launcher.py:27: DeprecationWarning: time.clock has been deprecated in Python 3.3 and will be removed from Python 3.8: use time.perf_counter or time.process_time instead\n"
     ]
    },
    {
     "name": "stdout",
     "output_type": "stream",
     "text": [
      "trained Logistic Regression in 14.90 s\n",
      "trained Nearest Neighbors in 0.08 s\n"
     ]
    },
    {
     "name": "stderr",
     "output_type": "stream",
     "text": [
      "C:\\Users\\ankit\\Anaconda3\\lib\\site-packages\\ipykernel_launcher.py:25: DeprecationWarning: time.clock has been deprecated in Python 3.3 and will be removed from Python 3.8: use time.perf_counter or time.process_time instead\n",
      "C:\\Users\\ankit\\Anaconda3\\lib\\site-packages\\ipykernel_launcher.py:27: DeprecationWarning: time.clock has been deprecated in Python 3.3 and will be removed from Python 3.8: use time.perf_counter or time.process_time instead\n",
      "C:\\Users\\ankit\\Anaconda3\\lib\\site-packages\\ipykernel_launcher.py:25: DeprecationWarning: time.clock has been deprecated in Python 3.3 and will be removed from Python 3.8: use time.perf_counter or time.process_time instead\n",
      "C:\\Users\\ankit\\Anaconda3\\lib\\site-packages\\sklearn\\svm\\base.py:193: FutureWarning: The default value of gamma will change from 'auto' to 'scale' in version 0.22 to account better for unscaled features. Set gamma explicitly to 'auto' or 'scale' to avoid this warning.\n",
      "  \"avoid this warning.\", FutureWarning)\n"
     ]
    },
    {
     "name": "stdout",
     "output_type": "stream",
     "text": [
      "trained Decision Tree in 1.63 s\n"
     ]
    },
    {
     "name": "stderr",
     "output_type": "stream",
     "text": [
      "C:\\Users\\ankit\\Anaconda3\\lib\\site-packages\\ipykernel_launcher.py:27: DeprecationWarning: time.clock has been deprecated in Python 3.3 and will be removed from Python 3.8: use time.perf_counter or time.process_time instead\n"
     ]
    },
    {
     "name": "stdout",
     "output_type": "stream",
     "text": [
      "trained Linear SVM in 10.51 s\n"
     ]
    },
    {
     "name": "stderr",
     "output_type": "stream",
     "text": [
      "C:\\Users\\ankit\\Anaconda3\\lib\\site-packages\\ipykernel_launcher.py:25: DeprecationWarning: time.clock has been deprecated in Python 3.3 and will be removed from Python 3.8: use time.perf_counter or time.process_time instead\n",
      "C:\\Users\\ankit\\Anaconda3\\lib\\site-packages\\ipykernel_launcher.py:27: DeprecationWarning: time.clock has been deprecated in Python 3.3 and will be removed from Python 3.8: use time.perf_counter or time.process_time instead\n",
      "C:\\Users\\ankit\\Anaconda3\\lib\\site-packages\\ipykernel_launcher.py:25: DeprecationWarning: time.clock has been deprecated in Python 3.3 and will be removed from Python 3.8: use time.perf_counter or time.process_time instead\n",
      "C:\\Users\\ankit\\Anaconda3\\lib\\site-packages\\ipykernel_launcher.py:27: DeprecationWarning: time.clock has been deprecated in Python 3.3 and will be removed from Python 3.8: use time.perf_counter or time.process_time instead\n",
      "C:\\Users\\ankit\\Anaconda3\\lib\\site-packages\\ipykernel_launcher.py:25: DeprecationWarning: time.clock has been deprecated in Python 3.3 and will be removed from Python 3.8: use time.perf_counter or time.process_time instead\n"
     ]
    },
    {
     "name": "stdout",
     "output_type": "stream",
     "text": [
      "trained Neural Net in 9.26 s\n",
      "trained Naive Bayes in 0.03 s\n"
     ]
    },
    {
     "name": "stderr",
     "output_type": "stream",
     "text": [
      "C:\\Users\\ankit\\Anaconda3\\lib\\site-packages\\ipykernel_launcher.py:27: DeprecationWarning: time.clock has been deprecated in Python 3.3 and will be removed from Python 3.8: use time.perf_counter or time.process_time instead\n"
     ]
    },
    {
     "name": "stdout",
     "output_type": "stream",
     "text": [
      "trained AdaBoost in 8.71 s\n"
     ]
    },
    {
     "name": "stderr",
     "output_type": "stream",
     "text": [
      "C:\\Users\\ankit\\Anaconda3\\lib\\site-packages\\ipykernel_launcher.py:25: DeprecationWarning: time.clock has been deprecated in Python 3.3 and will be removed from Python 3.8: use time.perf_counter or time.process_time instead\n",
      "C:\\Users\\ankit\\Anaconda3\\lib\\site-packages\\ipykernel_launcher.py:27: DeprecationWarning: time.clock has been deprecated in Python 3.3 and will be removed from Python 3.8: use time.perf_counter or time.process_time instead\n"
     ]
    },
    {
     "name": "stdout",
     "output_type": "stream",
     "text": [
      "trained Gaussian Process in 89.79 s\n"
     ]
    },
    {
     "data": {
      "text/html": [
       "<div>\n",
       "<style scoped>\n",
       "    .dataframe tbody tr th:only-of-type {\n",
       "        vertical-align: middle;\n",
       "    }\n",
       "\n",
       "    .dataframe tbody tr th {\n",
       "        vertical-align: top;\n",
       "    }\n",
       "\n",
       "    .dataframe thead th {\n",
       "        text-align: right;\n",
       "    }\n",
       "</style>\n",
       "<table border=\"1\" class=\"dataframe\">\n",
       "  <thead>\n",
       "    <tr style=\"text-align: right;\">\n",
       "      <th></th>\n",
       "      <th>classifier</th>\n",
       "      <th>train_score</th>\n",
       "      <th>test_score</th>\n",
       "      <th>train_time</th>\n",
       "    </tr>\n",
       "  </thead>\n",
       "  <tbody>\n",
       "    <tr>\n",
       "      <td>0</td>\n",
       "      <td>Gradient Boosting Classifier</td>\n",
       "      <td>0.999299</td>\n",
       "      <td>0.861635</td>\n",
       "      <td>75.369701</td>\n",
       "    </tr>\n",
       "    <tr>\n",
       "      <td>1</td>\n",
       "      <td>Random Forest</td>\n",
       "      <td>0.997198</td>\n",
       "      <td>0.827044</td>\n",
       "      <td>0.543273</td>\n",
       "    </tr>\n",
       "    <tr>\n",
       "      <td>2</td>\n",
       "      <td>Logistic Regression</td>\n",
       "      <td>0.887566</td>\n",
       "      <td>0.817610</td>\n",
       "      <td>14.900609</td>\n",
       "    </tr>\n",
       "    <tr>\n",
       "      <td>3</td>\n",
       "      <td>Nearest Neighbors</td>\n",
       "      <td>0.832925</td>\n",
       "      <td>0.779874</td>\n",
       "      <td>0.079541</td>\n",
       "    </tr>\n",
       "    <tr>\n",
       "      <td>6</td>\n",
       "      <td>Neural Net</td>\n",
       "      <td>0.903327</td>\n",
       "      <td>0.779874</td>\n",
       "      <td>9.260928</td>\n",
       "    </tr>\n",
       "    <tr>\n",
       "      <td>4</td>\n",
       "      <td>Decision Tree</td>\n",
       "      <td>1.000000</td>\n",
       "      <td>0.767296</td>\n",
       "      <td>1.626439</td>\n",
       "    </tr>\n",
       "    <tr>\n",
       "      <td>8</td>\n",
       "      <td>AdaBoost</td>\n",
       "      <td>0.653940</td>\n",
       "      <td>0.622642</td>\n",
       "      <td>8.712844</td>\n",
       "    </tr>\n",
       "    <tr>\n",
       "      <td>5</td>\n",
       "      <td>Linear SVM</td>\n",
       "      <td>1.000000</td>\n",
       "      <td>0.591195</td>\n",
       "      <td>10.509760</td>\n",
       "    </tr>\n",
       "    <tr>\n",
       "      <td>7</td>\n",
       "      <td>Naive Bayes</td>\n",
       "      <td>0.586690</td>\n",
       "      <td>0.591195</td>\n",
       "      <td>0.030060</td>\n",
       "    </tr>\n",
       "    <tr>\n",
       "      <td>9</td>\n",
       "      <td>Gaussian Process</td>\n",
       "      <td>1.000000</td>\n",
       "      <td>0.166667</td>\n",
       "      <td>89.790276</td>\n",
       "    </tr>\n",
       "  </tbody>\n",
       "</table>\n",
       "</div>"
      ],
      "text/plain": [
       "                     classifier  train_score  test_score  train_time\n",
       "0  Gradient Boosting Classifier     0.999299    0.861635   75.369701\n",
       "1                 Random Forest     0.997198    0.827044    0.543273\n",
       "2           Logistic Regression     0.887566    0.817610   14.900609\n",
       "3             Nearest Neighbors     0.832925    0.779874    0.079541\n",
       "6                    Neural Net     0.903327    0.779874    9.260928\n",
       "4                 Decision Tree     1.000000    0.767296    1.626439\n",
       "8                      AdaBoost     0.653940    0.622642    8.712844\n",
       "5                    Linear SVM     1.000000    0.591195   10.509760\n",
       "7                   Naive Bayes     0.586690    0.591195    0.030060\n",
       "9              Gaussian Process     1.000000    0.166667   89.790276"
      ]
     },
     "metadata": {},
     "output_type": "display_data"
    },
    {
     "name": "stdout",
     "output_type": "stream",
     "text": [
      "Train: [   0    1    2 ... 3170 3171 3172] Validation: [ 159  160  161  162  163  164  165  166  167  168  169  170  171  172\n",
      "  173  174  175  176  177  178  179  180  181  182  183  184  185  186\n",
      "  187  188  189  190  191  192  193  194  195  196  197  198  199  200\n",
      "  201  202  203  204  205  206  207  208  209  210  211  687  688  689\n",
      "  690  691  692  693  694  695  696  697  698  699  700  701  702  703\n",
      "  704  705  706  707  708  709  710  711  712  713  714  715  716  717\n",
      "  718  719  720  721  722  723  724  725  726  727  728  729  730  731\n",
      "  732  733  734  735  736  737  738  739 1216 1217 1218 1219 1220 1221\n",
      " 1222 1223 1224 1225 1226 1227 1228 1229 1230 1231 1232 1233 1234 1235\n",
      " 1236 1237 1238 1239 1240 1241 1242 1243 1244 1245 1246 1247 1248 1249\n",
      " 1250 1251 1252 1253 1254 1255 1256 1257 1258 1259 1260 1261 1262 1263\n",
      " 1264 1265 1266 1267 1268 1745 1746 1747 1748 1749 1750 1751 1752 1753\n",
      " 1754 1755 1756 1757 1758 1759 1760 1761 1762 1763 1764 1765 1766 1767\n",
      " 1768 1769 1770 1771 1772 1773 1774 1775 1776 1777 1778 1779 1780 1781\n",
      " 1782 1783 1784 1785 1786 1787 1788 1789 1790 1791 1792 1793 1794 1795\n",
      " 1796 1797 2274 2275 2276 2277 2278 2279 2280 2281 2282 2283 2284 2285\n",
      " 2286 2287 2288 2289 2290 2291 2292 2293 2294 2295 2296 2297 2298 2299\n",
      " 2300 2301 2302 2303 2304 2305 2306 2307 2308 2309 2310 2311 2312 2313\n",
      " 2314 2315 2316 2317 2318 2319 2320 2321 2322 2323 2324 2325 2326 2803\n",
      " 2804 2805 2806 2807 2808 2809 2810 2811 2812 2813 2814 2815 2816 2817\n",
      " 2818 2819 2820 2821 2822 2823 2824 2825 2826 2827 2828 2829 2830 2831\n",
      " 2832 2833 2834 2835 2836 2837 2838 2839 2840 2841 2842 2843 2844 2845\n",
      " 2846 2847 2848 2849 2850 2851 2852 2853 2854 2855]\n"
     ]
    },
    {
     "name": "stderr",
     "output_type": "stream",
     "text": [
      "C:\\Users\\ankit\\Anaconda3\\lib\\site-packages\\ipykernel_launcher.py:25: DeprecationWarning: time.clock has been deprecated in Python 3.3 and will be removed from Python 3.8: use time.perf_counter or time.process_time instead\n",
      "C:\\Users\\ankit\\Anaconda3\\lib\\site-packages\\ipykernel_launcher.py:27: DeprecationWarning: time.clock has been deprecated in Python 3.3 and will be removed from Python 3.8: use time.perf_counter or time.process_time instead\n",
      "C:\\Users\\ankit\\Anaconda3\\lib\\site-packages\\ipykernel_launcher.py:25: DeprecationWarning: time.clock has been deprecated in Python 3.3 and will be removed from Python 3.8: use time.perf_counter or time.process_time instead\n"
     ]
    },
    {
     "name": "stdout",
     "output_type": "stream",
     "text": [
      "trained Gradient Boosting Classifier in 75.84 s\n"
     ]
    },
    {
     "name": "stderr",
     "output_type": "stream",
     "text": [
      "C:\\Users\\ankit\\Anaconda3\\lib\\site-packages\\ipykernel_launcher.py:27: DeprecationWarning: time.clock has been deprecated in Python 3.3 and will be removed from Python 3.8: use time.perf_counter or time.process_time instead\n",
      "C:\\Users\\ankit\\Anaconda3\\lib\\site-packages\\ipykernel_launcher.py:25: DeprecationWarning: time.clock has been deprecated in Python 3.3 and will be removed from Python 3.8: use time.perf_counter or time.process_time instead\n",
      "C:\\Users\\ankit\\Anaconda3\\lib\\site-packages\\sklearn\\linear_model\\logistic.py:432: FutureWarning: Default solver will be changed to 'lbfgs' in 0.22. Specify a solver to silence this warning.\n",
      "  FutureWarning)\n",
      "C:\\Users\\ankit\\Anaconda3\\lib\\site-packages\\sklearn\\linear_model\\logistic.py:469: FutureWarning: Default multi_class will be changed to 'auto' in 0.22. Specify the multi_class option to silence this warning.\n",
      "  \"this warning.\", FutureWarning)\n"
     ]
    },
    {
     "name": "stdout",
     "output_type": "stream",
     "text": [
      "trained Random Forest in 0.49 s\n"
     ]
    },
    {
     "name": "stderr",
     "output_type": "stream",
     "text": [
      "C:\\Users\\ankit\\Anaconda3\\lib\\site-packages\\ipykernel_launcher.py:27: DeprecationWarning: time.clock has been deprecated in Python 3.3 and will be removed from Python 3.8: use time.perf_counter or time.process_time instead\n",
      "C:\\Users\\ankit\\Anaconda3\\lib\\site-packages\\ipykernel_launcher.py:25: DeprecationWarning: time.clock has been deprecated in Python 3.3 and will be removed from Python 3.8: use time.perf_counter or time.process_time instead\n",
      "C:\\Users\\ankit\\Anaconda3\\lib\\site-packages\\ipykernel_launcher.py:27: DeprecationWarning: time.clock has been deprecated in Python 3.3 and will be removed from Python 3.8: use time.perf_counter or time.process_time instead\n"
     ]
    },
    {
     "name": "stdout",
     "output_type": "stream",
     "text": [
      "trained Logistic Regression in 15.09 s\n",
      "trained Nearest Neighbors in 0.08 s\n"
     ]
    },
    {
     "name": "stderr",
     "output_type": "stream",
     "text": [
      "C:\\Users\\ankit\\Anaconda3\\lib\\site-packages\\ipykernel_launcher.py:25: DeprecationWarning: time.clock has been deprecated in Python 3.3 and will be removed from Python 3.8: use time.perf_counter or time.process_time instead\n",
      "C:\\Users\\ankit\\Anaconda3\\lib\\site-packages\\ipykernel_launcher.py:27: DeprecationWarning: time.clock has been deprecated in Python 3.3 and will be removed from Python 3.8: use time.perf_counter or time.process_time instead\n",
      "C:\\Users\\ankit\\Anaconda3\\lib\\site-packages\\ipykernel_launcher.py:25: DeprecationWarning: time.clock has been deprecated in Python 3.3 and will be removed from Python 3.8: use time.perf_counter or time.process_time instead\n",
      "C:\\Users\\ankit\\Anaconda3\\lib\\site-packages\\sklearn\\svm\\base.py:193: FutureWarning: The default value of gamma will change from 'auto' to 'scale' in version 0.22 to account better for unscaled features. Set gamma explicitly to 'auto' or 'scale' to avoid this warning.\n",
      "  \"avoid this warning.\", FutureWarning)\n"
     ]
    },
    {
     "name": "stdout",
     "output_type": "stream",
     "text": [
      "trained Decision Tree in 1.76 s\n"
     ]
    },
    {
     "name": "stderr",
     "output_type": "stream",
     "text": [
      "C:\\Users\\ankit\\Anaconda3\\lib\\site-packages\\ipykernel_launcher.py:27: DeprecationWarning: time.clock has been deprecated in Python 3.3 and will be removed from Python 3.8: use time.perf_counter or time.process_time instead\n"
     ]
    },
    {
     "name": "stdout",
     "output_type": "stream",
     "text": [
      "trained Linear SVM in 10.97 s\n"
     ]
    },
    {
     "name": "stderr",
     "output_type": "stream",
     "text": [
      "C:\\Users\\ankit\\Anaconda3\\lib\\site-packages\\ipykernel_launcher.py:25: DeprecationWarning: time.clock has been deprecated in Python 3.3 and will be removed from Python 3.8: use time.perf_counter or time.process_time instead\n",
      "C:\\Users\\ankit\\Anaconda3\\lib\\site-packages\\ipykernel_launcher.py:27: DeprecationWarning: time.clock has been deprecated in Python 3.3 and will be removed from Python 3.8: use time.perf_counter or time.process_time instead\n",
      "C:\\Users\\ankit\\Anaconda3\\lib\\site-packages\\ipykernel_launcher.py:25: DeprecationWarning: time.clock has been deprecated in Python 3.3 and will be removed from Python 3.8: use time.perf_counter or time.process_time instead\n",
      "C:\\Users\\ankit\\Anaconda3\\lib\\site-packages\\ipykernel_launcher.py:27: DeprecationWarning: time.clock has been deprecated in Python 3.3 and will be removed from Python 3.8: use time.perf_counter or time.process_time instead\n",
      "C:\\Users\\ankit\\Anaconda3\\lib\\site-packages\\ipykernel_launcher.py:25: DeprecationWarning: time.clock has been deprecated in Python 3.3 and will be removed from Python 3.8: use time.perf_counter or time.process_time instead\n"
     ]
    },
    {
     "name": "stdout",
     "output_type": "stream",
     "text": [
      "trained Neural Net in 7.06 s\n",
      "trained Naive Bayes in 0.03 s\n"
     ]
    },
    {
     "name": "stderr",
     "output_type": "stream",
     "text": [
      "C:\\Users\\ankit\\Anaconda3\\lib\\site-packages\\ipykernel_launcher.py:27: DeprecationWarning: time.clock has been deprecated in Python 3.3 and will be removed from Python 3.8: use time.perf_counter or time.process_time instead\n"
     ]
    },
    {
     "name": "stdout",
     "output_type": "stream",
     "text": [
      "trained AdaBoost in 8.69 s\n"
     ]
    },
    {
     "name": "stderr",
     "output_type": "stream",
     "text": [
      "C:\\Users\\ankit\\Anaconda3\\lib\\site-packages\\ipykernel_launcher.py:25: DeprecationWarning: time.clock has been deprecated in Python 3.3 and will be removed from Python 3.8: use time.perf_counter or time.process_time instead\n",
      "C:\\Users\\ankit\\Anaconda3\\lib\\site-packages\\ipykernel_launcher.py:27: DeprecationWarning: time.clock has been deprecated in Python 3.3 and will be removed from Python 3.8: use time.perf_counter or time.process_time instead\n"
     ]
    },
    {
     "name": "stdout",
     "output_type": "stream",
     "text": [
      "trained Gaussian Process in 90.89 s\n"
     ]
    },
    {
     "data": {
      "text/html": [
       "<div>\n",
       "<style scoped>\n",
       "    .dataframe tbody tr th:only-of-type {\n",
       "        vertical-align: middle;\n",
       "    }\n",
       "\n",
       "    .dataframe tbody tr th {\n",
       "        vertical-align: top;\n",
       "    }\n",
       "\n",
       "    .dataframe thead th {\n",
       "        text-align: right;\n",
       "    }\n",
       "</style>\n",
       "<table border=\"1\" class=\"dataframe\">\n",
       "  <thead>\n",
       "    <tr style=\"text-align: right;\">\n",
       "      <th></th>\n",
       "      <th>classifier</th>\n",
       "      <th>train_score</th>\n",
       "      <th>test_score</th>\n",
       "      <th>train_time</th>\n",
       "    </tr>\n",
       "  </thead>\n",
       "  <tbody>\n",
       "    <tr>\n",
       "      <td>0</td>\n",
       "      <td>Gradient Boosting Classifier</td>\n",
       "      <td>0.999650</td>\n",
       "      <td>0.889937</td>\n",
       "      <td>75.841916</td>\n",
       "    </tr>\n",
       "    <tr>\n",
       "      <td>1</td>\n",
       "      <td>Random Forest</td>\n",
       "      <td>0.996147</td>\n",
       "      <td>0.830189</td>\n",
       "      <td>0.485229</td>\n",
       "    </tr>\n",
       "    <tr>\n",
       "      <td>2</td>\n",
       "      <td>Logistic Regression</td>\n",
       "      <td>0.885114</td>\n",
       "      <td>0.820755</td>\n",
       "      <td>15.089813</td>\n",
       "    </tr>\n",
       "    <tr>\n",
       "      <td>6</td>\n",
       "      <td>Neural Net</td>\n",
       "      <td>0.901926</td>\n",
       "      <td>0.820755</td>\n",
       "      <td>7.060044</td>\n",
       "    </tr>\n",
       "    <tr>\n",
       "      <td>4</td>\n",
       "      <td>Decision Tree</td>\n",
       "      <td>1.000000</td>\n",
       "      <td>0.779874</td>\n",
       "      <td>1.760986</td>\n",
       "    </tr>\n",
       "    <tr>\n",
       "      <td>3</td>\n",
       "      <td>Nearest Neighbors</td>\n",
       "      <td>0.833625</td>\n",
       "      <td>0.745283</td>\n",
       "      <td>0.076025</td>\n",
       "    </tr>\n",
       "    <tr>\n",
       "      <td>5</td>\n",
       "      <td>Linear SVM</td>\n",
       "      <td>1.000000</td>\n",
       "      <td>0.597484</td>\n",
       "      <td>10.974367</td>\n",
       "    </tr>\n",
       "    <tr>\n",
       "      <td>8</td>\n",
       "      <td>AdaBoost</td>\n",
       "      <td>0.623818</td>\n",
       "      <td>0.597484</td>\n",
       "      <td>8.694649</td>\n",
       "    </tr>\n",
       "    <tr>\n",
       "      <td>7</td>\n",
       "      <td>Naive Bayes</td>\n",
       "      <td>0.595447</td>\n",
       "      <td>0.594340</td>\n",
       "      <td>0.030831</td>\n",
       "    </tr>\n",
       "    <tr>\n",
       "      <td>9</td>\n",
       "      <td>Gaussian Process</td>\n",
       "      <td>1.000000</td>\n",
       "      <td>0.166667</td>\n",
       "      <td>90.892817</td>\n",
       "    </tr>\n",
       "  </tbody>\n",
       "</table>\n",
       "</div>"
      ],
      "text/plain": [
       "                     classifier  train_score  test_score  train_time\n",
       "0  Gradient Boosting Classifier     0.999650    0.889937   75.841916\n",
       "1                 Random Forest     0.996147    0.830189    0.485229\n",
       "2           Logistic Regression     0.885114    0.820755   15.089813\n",
       "6                    Neural Net     0.901926    0.820755    7.060044\n",
       "4                 Decision Tree     1.000000    0.779874    1.760986\n",
       "3             Nearest Neighbors     0.833625    0.745283    0.076025\n",
       "5                    Linear SVM     1.000000    0.597484   10.974367\n",
       "8                      AdaBoost     0.623818    0.597484    8.694649\n",
       "7                   Naive Bayes     0.595447    0.594340    0.030831\n",
       "9              Gaussian Process     1.000000    0.166667   90.892817"
      ]
     },
     "metadata": {},
     "output_type": "display_data"
    },
    {
     "name": "stdout",
     "output_type": "stream",
     "text": [
      "Train: [   0    1    2 ... 3170 3171 3172] Validation: [ 212  213  214  215  216  217  218  219  220  221  222  223  224  225\n",
      "  226  227  228  229  230  231  232  233  234  235  236  237  238  239\n",
      "  240  241  242  243  244  245  246  247  248  249  250  251  252  253\n",
      "  254  255  256  257  258  259  260  261  262  263  264  740  741  742\n",
      "  743  744  745  746  747  748  749  750  751  752  753  754  755  756\n",
      "  757  758  759  760  761  762  763  764  765  766  767  768  769  770\n",
      "  771  772  773  774  775  776  777  778  779  780  781  782  783  784\n",
      "  785  786  787  788  789  790  791  792 1269 1270 1271 1272 1273 1274\n",
      " 1275 1276 1277 1278 1279 1280 1281 1282 1283 1284 1285 1286 1287 1288\n",
      " 1289 1290 1291 1292 1293 1294 1295 1296 1297 1298 1299 1300 1301 1302\n",
      " 1303 1304 1305 1306 1307 1308 1309 1310 1311 1312 1313 1314 1315 1316\n",
      " 1317 1318 1319 1320 1321 1798 1799 1800 1801 1802 1803 1804 1805 1806\n",
      " 1807 1808 1809 1810 1811 1812 1813 1814 1815 1816 1817 1818 1819 1820\n",
      " 1821 1822 1823 1824 1825 1826 1827 1828 1829 1830 1831 1832 1833 1834\n",
      " 1835 1836 1837 1838 1839 1840 1841 1842 1843 1844 1845 1846 1847 1848\n",
      " 1849 1850 2327 2328 2329 2330 2331 2332 2333 2334 2335 2336 2337 2338\n",
      " 2339 2340 2341 2342 2343 2344 2345 2346 2347 2348 2349 2350 2351 2352\n",
      " 2353 2354 2355 2356 2357 2358 2359 2360 2361 2362 2363 2364 2365 2366\n",
      " 2367 2368 2369 2370 2371 2372 2373 2374 2375 2376 2377 2378 2379 2856\n",
      " 2857 2858 2859 2860 2861 2862 2863 2864 2865 2866 2867 2868 2869 2870\n",
      " 2871 2872 2873 2874 2875 2876 2877 2878 2879 2880 2881 2882 2883 2884\n",
      " 2885 2886 2887 2888 2889 2890 2891 2892 2893 2894 2895 2896 2897 2898\n",
      " 2899 2900 2901 2902 2903 2904 2905 2906 2907 2908]\n"
     ]
    },
    {
     "name": "stderr",
     "output_type": "stream",
     "text": [
      "C:\\Users\\ankit\\Anaconda3\\lib\\site-packages\\ipykernel_launcher.py:25: DeprecationWarning: time.clock has been deprecated in Python 3.3 and will be removed from Python 3.8: use time.perf_counter or time.process_time instead\n",
      "C:\\Users\\ankit\\Anaconda3\\lib\\site-packages\\ipykernel_launcher.py:27: DeprecationWarning: time.clock has been deprecated in Python 3.3 and will be removed from Python 3.8: use time.perf_counter or time.process_time instead\n",
      "C:\\Users\\ankit\\Anaconda3\\lib\\site-packages\\ipykernel_launcher.py:25: DeprecationWarning: time.clock has been deprecated in Python 3.3 and will be removed from Python 3.8: use time.perf_counter or time.process_time instead\n"
     ]
    },
    {
     "name": "stdout",
     "output_type": "stream",
     "text": [
      "trained Gradient Boosting Classifier in 91.42 s\n"
     ]
    },
    {
     "name": "stderr",
     "output_type": "stream",
     "text": [
      "C:\\Users\\ankit\\Anaconda3\\lib\\site-packages\\ipykernel_launcher.py:27: DeprecationWarning: time.clock has been deprecated in Python 3.3 and will be removed from Python 3.8: use time.perf_counter or time.process_time instead\n",
      "C:\\Users\\ankit\\Anaconda3\\lib\\site-packages\\ipykernel_launcher.py:25: DeprecationWarning: time.clock has been deprecated in Python 3.3 and will be removed from Python 3.8: use time.perf_counter or time.process_time instead\n",
      "C:\\Users\\ankit\\Anaconda3\\lib\\site-packages\\sklearn\\linear_model\\logistic.py:432: FutureWarning: Default solver will be changed to 'lbfgs' in 0.22. Specify a solver to silence this warning.\n",
      "  FutureWarning)\n",
      "C:\\Users\\ankit\\Anaconda3\\lib\\site-packages\\sklearn\\linear_model\\logistic.py:469: FutureWarning: Default multi_class will be changed to 'auto' in 0.22. Specify the multi_class option to silence this warning.\n",
      "  \"this warning.\", FutureWarning)\n"
     ]
    },
    {
     "name": "stdout",
     "output_type": "stream",
     "text": [
      "trained Random Forest in 0.53 s\n"
     ]
    },
    {
     "name": "stderr",
     "output_type": "stream",
     "text": [
      "C:\\Users\\ankit\\Anaconda3\\lib\\site-packages\\ipykernel_launcher.py:27: DeprecationWarning: time.clock has been deprecated in Python 3.3 and will be removed from Python 3.8: use time.perf_counter or time.process_time instead\n",
      "C:\\Users\\ankit\\Anaconda3\\lib\\site-packages\\ipykernel_launcher.py:25: DeprecationWarning: time.clock has been deprecated in Python 3.3 and will be removed from Python 3.8: use time.perf_counter or time.process_time instead\n",
      "C:\\Users\\ankit\\Anaconda3\\lib\\site-packages\\ipykernel_launcher.py:27: DeprecationWarning: time.clock has been deprecated in Python 3.3 and will be removed from Python 3.8: use time.perf_counter or time.process_time instead\n"
     ]
    },
    {
     "name": "stdout",
     "output_type": "stream",
     "text": [
      "trained Logistic Regression in 16.96 s\n",
      "trained Nearest Neighbors in 0.11 s\n"
     ]
    },
    {
     "name": "stderr",
     "output_type": "stream",
     "text": [
      "C:\\Users\\ankit\\Anaconda3\\lib\\site-packages\\ipykernel_launcher.py:25: DeprecationWarning: time.clock has been deprecated in Python 3.3 and will be removed from Python 3.8: use time.perf_counter or time.process_time instead\n",
      "C:\\Users\\ankit\\Anaconda3\\lib\\site-packages\\ipykernel_launcher.py:27: DeprecationWarning: time.clock has been deprecated in Python 3.3 and will be removed from Python 3.8: use time.perf_counter or time.process_time instead\n",
      "C:\\Users\\ankit\\Anaconda3\\lib\\site-packages\\ipykernel_launcher.py:25: DeprecationWarning: time.clock has been deprecated in Python 3.3 and will be removed from Python 3.8: use time.perf_counter or time.process_time instead\n",
      "C:\\Users\\ankit\\Anaconda3\\lib\\site-packages\\sklearn\\svm\\base.py:193: FutureWarning: The default value of gamma will change from 'auto' to 'scale' in version 0.22 to account better for unscaled features. Set gamma explicitly to 'auto' or 'scale' to avoid this warning.\n",
      "  \"avoid this warning.\", FutureWarning)\n"
     ]
    },
    {
     "name": "stdout",
     "output_type": "stream",
     "text": [
      "trained Decision Tree in 1.92 s\n"
     ]
    },
    {
     "name": "stderr",
     "output_type": "stream",
     "text": [
      "C:\\Users\\ankit\\Anaconda3\\lib\\site-packages\\ipykernel_launcher.py:27: DeprecationWarning: time.clock has been deprecated in Python 3.3 and will be removed from Python 3.8: use time.perf_counter or time.process_time instead\n"
     ]
    },
    {
     "name": "stdout",
     "output_type": "stream",
     "text": [
      "trained Linear SVM in 11.32 s\n"
     ]
    },
    {
     "name": "stderr",
     "output_type": "stream",
     "text": [
      "C:\\Users\\ankit\\Anaconda3\\lib\\site-packages\\ipykernel_launcher.py:25: DeprecationWarning: time.clock has been deprecated in Python 3.3 and will be removed from Python 3.8: use time.perf_counter or time.process_time instead\n",
      "C:\\Users\\ankit\\Anaconda3\\lib\\site-packages\\sklearn\\neural_network\\multilayer_perceptron.py:566: ConvergenceWarning: Stochastic Optimizer: Maximum iterations (200) reached and the optimization hasn't converged yet.\n",
      "  % self.max_iter, ConvergenceWarning)\n",
      "C:\\Users\\ankit\\Anaconda3\\lib\\site-packages\\ipykernel_launcher.py:27: DeprecationWarning: time.clock has been deprecated in Python 3.3 and will be removed from Python 3.8: use time.perf_counter or time.process_time instead\n",
      "C:\\Users\\ankit\\Anaconda3\\lib\\site-packages\\ipykernel_launcher.py:25: DeprecationWarning: time.clock has been deprecated in Python 3.3 and will be removed from Python 3.8: use time.perf_counter or time.process_time instead\n",
      "C:\\Users\\ankit\\Anaconda3\\lib\\site-packages\\ipykernel_launcher.py:27: DeprecationWarning: time.clock has been deprecated in Python 3.3 and will be removed from Python 3.8: use time.perf_counter or time.process_time instead\n",
      "C:\\Users\\ankit\\Anaconda3\\lib\\site-packages\\ipykernel_launcher.py:25: DeprecationWarning: time.clock has been deprecated in Python 3.3 and will be removed from Python 3.8: use time.perf_counter or time.process_time instead\n"
     ]
    },
    {
     "name": "stdout",
     "output_type": "stream",
     "text": [
      "trained Neural Net in 14.81 s\n",
      "trained Naive Bayes in 0.03 s\n"
     ]
    },
    {
     "name": "stderr",
     "output_type": "stream",
     "text": [
      "C:\\Users\\ankit\\Anaconda3\\lib\\site-packages\\ipykernel_launcher.py:27: DeprecationWarning: time.clock has been deprecated in Python 3.3 and will be removed from Python 3.8: use time.perf_counter or time.process_time instead\n"
     ]
    },
    {
     "name": "stdout",
     "output_type": "stream",
     "text": [
      "trained AdaBoost in 9.97 s\n"
     ]
    },
    {
     "name": "stderr",
     "output_type": "stream",
     "text": [
      "C:\\Users\\ankit\\Anaconda3\\lib\\site-packages\\ipykernel_launcher.py:25: DeprecationWarning: time.clock has been deprecated in Python 3.3 and will be removed from Python 3.8: use time.perf_counter or time.process_time instead\n",
      "C:\\Users\\ankit\\Anaconda3\\lib\\site-packages\\ipykernel_launcher.py:27: DeprecationWarning: time.clock has been deprecated in Python 3.3 and will be removed from Python 3.8: use time.perf_counter or time.process_time instead\n"
     ]
    },
    {
     "name": "stdout",
     "output_type": "stream",
     "text": [
      "trained Gaussian Process in 108.84 s\n"
     ]
    },
    {
     "data": {
      "text/html": [
       "<div>\n",
       "<style scoped>\n",
       "    .dataframe tbody tr th:only-of-type {\n",
       "        vertical-align: middle;\n",
       "    }\n",
       "\n",
       "    .dataframe tbody tr th {\n",
       "        vertical-align: top;\n",
       "    }\n",
       "\n",
       "    .dataframe thead th {\n",
       "        text-align: right;\n",
       "    }\n",
       "</style>\n",
       "<table border=\"1\" class=\"dataframe\">\n",
       "  <thead>\n",
       "    <tr style=\"text-align: right;\">\n",
       "      <th></th>\n",
       "      <th>classifier</th>\n",
       "      <th>train_score</th>\n",
       "      <th>test_score</th>\n",
       "      <th>train_time</th>\n",
       "    </tr>\n",
       "  </thead>\n",
       "  <tbody>\n",
       "    <tr>\n",
       "      <td>0</td>\n",
       "      <td>Gradient Boosting Classifier</td>\n",
       "      <td>0.998949</td>\n",
       "      <td>0.918239</td>\n",
       "      <td>91.421649</td>\n",
       "    </tr>\n",
       "    <tr>\n",
       "      <td>1</td>\n",
       "      <td>Random Forest</td>\n",
       "      <td>0.995447</td>\n",
       "      <td>0.836478</td>\n",
       "      <td>0.532202</td>\n",
       "    </tr>\n",
       "    <tr>\n",
       "      <td>2</td>\n",
       "      <td>Logistic Regression</td>\n",
       "      <td>0.884764</td>\n",
       "      <td>0.836478</td>\n",
       "      <td>16.960328</td>\n",
       "    </tr>\n",
       "    <tr>\n",
       "      <td>6</td>\n",
       "      <td>Neural Net</td>\n",
       "      <td>0.934501</td>\n",
       "      <td>0.836478</td>\n",
       "      <td>14.810323</td>\n",
       "    </tr>\n",
       "    <tr>\n",
       "      <td>4</td>\n",
       "      <td>Decision Tree</td>\n",
       "      <td>1.000000</td>\n",
       "      <td>0.776730</td>\n",
       "      <td>1.915189</td>\n",
       "    </tr>\n",
       "    <tr>\n",
       "      <td>3</td>\n",
       "      <td>Nearest Neighbors</td>\n",
       "      <td>0.834676</td>\n",
       "      <td>0.764151</td>\n",
       "      <td>0.110830</td>\n",
       "    </tr>\n",
       "    <tr>\n",
       "      <td>7</td>\n",
       "      <td>Naive Bayes</td>\n",
       "      <td>0.584588</td>\n",
       "      <td>0.600629</td>\n",
       "      <td>0.034271</td>\n",
       "    </tr>\n",
       "    <tr>\n",
       "      <td>8</td>\n",
       "      <td>AdaBoost</td>\n",
       "      <td>0.617863</td>\n",
       "      <td>0.594340</td>\n",
       "      <td>9.966521</td>\n",
       "    </tr>\n",
       "    <tr>\n",
       "      <td>5</td>\n",
       "      <td>Linear SVM</td>\n",
       "      <td>1.000000</td>\n",
       "      <td>0.588050</td>\n",
       "      <td>11.324923</td>\n",
       "    </tr>\n",
       "    <tr>\n",
       "      <td>9</td>\n",
       "      <td>Gaussian Process</td>\n",
       "      <td>1.000000</td>\n",
       "      <td>0.166667</td>\n",
       "      <td>108.844060</td>\n",
       "    </tr>\n",
       "  </tbody>\n",
       "</table>\n",
       "</div>"
      ],
      "text/plain": [
       "                     classifier  train_score  test_score  train_time\n",
       "0  Gradient Boosting Classifier     0.998949    0.918239   91.421649\n",
       "1                 Random Forest     0.995447    0.836478    0.532202\n",
       "2           Logistic Regression     0.884764    0.836478   16.960328\n",
       "6                    Neural Net     0.934501    0.836478   14.810323\n",
       "4                 Decision Tree     1.000000    0.776730    1.915189\n",
       "3             Nearest Neighbors     0.834676    0.764151    0.110830\n",
       "7                   Naive Bayes     0.584588    0.600629    0.034271\n",
       "8                      AdaBoost     0.617863    0.594340    9.966521\n",
       "5                    Linear SVM     1.000000    0.588050   11.324923\n",
       "9              Gaussian Process     1.000000    0.166667  108.844060"
      ]
     },
     "metadata": {},
     "output_type": "display_data"
    },
    {
     "name": "stdout",
     "output_type": "stream",
     "text": [
      "Train: [   0    1    2 ... 3170 3171 3172] Validation: [ 265  266  267  268  269  270  271  272  273  274  275  276  277  278\n",
      "  279  280  281  282  283  284  285  286  287  288  289  290  291  292\n",
      "  293  294  295  296  297  298  299  300  301  302  303  304  305  306\n",
      "  307  308  309  310  311  312  313  314  315  316  317  793  794  795\n",
      "  796  797  798  799  800  801  802  803  804  805  806  807  808  809\n",
      "  810  811  812  813  814  815  816  817  818  819  820  821  822  823\n",
      "  824  825  826  827  828  829  830  831  832  833  834  835  836  837\n",
      "  838  839  840  841  842  843  844  845 1322 1323 1324 1325 1326 1327\n",
      " 1328 1329 1330 1331 1332 1333 1334 1335 1336 1337 1338 1339 1340 1341\n",
      " 1342 1343 1344 1345 1346 1347 1348 1349 1350 1351 1352 1353 1354 1355\n",
      " 1356 1357 1358 1359 1360 1361 1362 1363 1364 1365 1366 1367 1368 1369\n",
      " 1370 1371 1372 1373 1374 1851 1852 1853 1854 1855 1856 1857 1858 1859\n",
      " 1860 1861 1862 1863 1864 1865 1866 1867 1868 1869 1870 1871 1872 1873\n",
      " 1874 1875 1876 1877 1878 1879 1880 1881 1882 1883 1884 1885 1886 1887\n",
      " 1888 1889 1890 1891 1892 1893 1894 1895 1896 1897 1898 1899 1900 1901\n",
      " 1902 1903 2380 2381 2382 2383 2384 2385 2386 2387 2388 2389 2390 2391\n",
      " 2392 2393 2394 2395 2396 2397 2398 2399 2400 2401 2402 2403 2404 2405\n",
      " 2406 2407 2408 2409 2410 2411 2412 2413 2414 2415 2416 2417 2418 2419\n",
      " 2420 2421 2422 2423 2424 2425 2426 2427 2428 2429 2430 2431 2432 2909\n",
      " 2910 2911 2912 2913 2914 2915 2916 2917 2918 2919 2920 2921 2922 2923\n",
      " 2924 2925 2926 2927 2928 2929 2930 2931 2932 2933 2934 2935 2936 2937\n",
      " 2938 2939 2940 2941 2942 2943 2944 2945 2946 2947 2948 2949 2950 2951\n",
      " 2952 2953 2954 2955 2956 2957 2958 2959 2960 2961]\n"
     ]
    },
    {
     "name": "stderr",
     "output_type": "stream",
     "text": [
      "C:\\Users\\ankit\\Anaconda3\\lib\\site-packages\\ipykernel_launcher.py:25: DeprecationWarning: time.clock has been deprecated in Python 3.3 and will be removed from Python 3.8: use time.perf_counter or time.process_time instead\n",
      "C:\\Users\\ankit\\Anaconda3\\lib\\site-packages\\ipykernel_launcher.py:27: DeprecationWarning: time.clock has been deprecated in Python 3.3 and will be removed from Python 3.8: use time.perf_counter or time.process_time instead\n",
      "C:\\Users\\ankit\\Anaconda3\\lib\\site-packages\\ipykernel_launcher.py:25: DeprecationWarning: time.clock has been deprecated in Python 3.3 and will be removed from Python 3.8: use time.perf_counter or time.process_time instead\n"
     ]
    },
    {
     "name": "stdout",
     "output_type": "stream",
     "text": [
      "trained Gradient Boosting Classifier in 96.83 s\n"
     ]
    },
    {
     "name": "stderr",
     "output_type": "stream",
     "text": [
      "C:\\Users\\ankit\\Anaconda3\\lib\\site-packages\\ipykernel_launcher.py:27: DeprecationWarning: time.clock has been deprecated in Python 3.3 and will be removed from Python 3.8: use time.perf_counter or time.process_time instead\n",
      "C:\\Users\\ankit\\Anaconda3\\lib\\site-packages\\ipykernel_launcher.py:25: DeprecationWarning: time.clock has been deprecated in Python 3.3 and will be removed from Python 3.8: use time.perf_counter or time.process_time instead\n",
      "C:\\Users\\ankit\\Anaconda3\\lib\\site-packages\\sklearn\\linear_model\\logistic.py:432: FutureWarning: Default solver will be changed to 'lbfgs' in 0.22. Specify a solver to silence this warning.\n",
      "  FutureWarning)\n",
      "C:\\Users\\ankit\\Anaconda3\\lib\\site-packages\\sklearn\\linear_model\\logistic.py:469: FutureWarning: Default multi_class will be changed to 'auto' in 0.22. Specify the multi_class option to silence this warning.\n",
      "  \"this warning.\", FutureWarning)\n"
     ]
    },
    {
     "name": "stdout",
     "output_type": "stream",
     "text": [
      "trained Random Forest in 0.75 s\n"
     ]
    },
    {
     "name": "stderr",
     "output_type": "stream",
     "text": [
      "C:\\Users\\ankit\\Anaconda3\\lib\\site-packages\\ipykernel_launcher.py:27: DeprecationWarning: time.clock has been deprecated in Python 3.3 and will be removed from Python 3.8: use time.perf_counter or time.process_time instead\n",
      "C:\\Users\\ankit\\Anaconda3\\lib\\site-packages\\ipykernel_launcher.py:25: DeprecationWarning: time.clock has been deprecated in Python 3.3 and will be removed from Python 3.8: use time.perf_counter or time.process_time instead\n",
      "C:\\Users\\ankit\\Anaconda3\\lib\\site-packages\\ipykernel_launcher.py:27: DeprecationWarning: time.clock has been deprecated in Python 3.3 and will be removed from Python 3.8: use time.perf_counter or time.process_time instead\n"
     ]
    },
    {
     "name": "stdout",
     "output_type": "stream",
     "text": [
      "trained Logistic Regression in 16.65 s\n",
      "trained Nearest Neighbors in 0.09 s\n"
     ]
    },
    {
     "name": "stderr",
     "output_type": "stream",
     "text": [
      "C:\\Users\\ankit\\Anaconda3\\lib\\site-packages\\ipykernel_launcher.py:25: DeprecationWarning: time.clock has been deprecated in Python 3.3 and will be removed from Python 3.8: use time.perf_counter or time.process_time instead\n",
      "C:\\Users\\ankit\\Anaconda3\\lib\\site-packages\\ipykernel_launcher.py:27: DeprecationWarning: time.clock has been deprecated in Python 3.3 and will be removed from Python 3.8: use time.perf_counter or time.process_time instead\n",
      "C:\\Users\\ankit\\Anaconda3\\lib\\site-packages\\ipykernel_launcher.py:25: DeprecationWarning: time.clock has been deprecated in Python 3.3 and will be removed from Python 3.8: use time.perf_counter or time.process_time instead\n",
      "C:\\Users\\ankit\\Anaconda3\\lib\\site-packages\\sklearn\\svm\\base.py:193: FutureWarning: The default value of gamma will change from 'auto' to 'scale' in version 0.22 to account better for unscaled features. Set gamma explicitly to 'auto' or 'scale' to avoid this warning.\n",
      "  \"avoid this warning.\", FutureWarning)\n"
     ]
    },
    {
     "name": "stdout",
     "output_type": "stream",
     "text": [
      "trained Decision Tree in 2.03 s\n"
     ]
    },
    {
     "name": "stderr",
     "output_type": "stream",
     "text": [
      "C:\\Users\\ankit\\Anaconda3\\lib\\site-packages\\ipykernel_launcher.py:27: DeprecationWarning: time.clock has been deprecated in Python 3.3 and will be removed from Python 3.8: use time.perf_counter or time.process_time instead\n"
     ]
    },
    {
     "name": "stdout",
     "output_type": "stream",
     "text": [
      "trained Linear SVM in 11.73 s\n"
     ]
    },
    {
     "name": "stderr",
     "output_type": "stream",
     "text": [
      "C:\\Users\\ankit\\Anaconda3\\lib\\site-packages\\ipykernel_launcher.py:25: DeprecationWarning: time.clock has been deprecated in Python 3.3 and will be removed from Python 3.8: use time.perf_counter or time.process_time instead\n",
      "C:\\Users\\ankit\\Anaconda3\\lib\\site-packages\\ipykernel_launcher.py:27: DeprecationWarning: time.clock has been deprecated in Python 3.3 and will be removed from Python 3.8: use time.perf_counter or time.process_time instead\n",
      "C:\\Users\\ankit\\Anaconda3\\lib\\site-packages\\ipykernel_launcher.py:25: DeprecationWarning: time.clock has been deprecated in Python 3.3 and will be removed from Python 3.8: use time.perf_counter or time.process_time instead\n",
      "C:\\Users\\ankit\\Anaconda3\\lib\\site-packages\\ipykernel_launcher.py:27: DeprecationWarning: time.clock has been deprecated in Python 3.3 and will be removed from Python 3.8: use time.perf_counter or time.process_time instead\n",
      "C:\\Users\\ankit\\Anaconda3\\lib\\site-packages\\ipykernel_launcher.py:25: DeprecationWarning: time.clock has been deprecated in Python 3.3 and will be removed from Python 3.8: use time.perf_counter or time.process_time instead\n"
     ]
    },
    {
     "name": "stdout",
     "output_type": "stream",
     "text": [
      "trained Neural Net in 7.94 s\n",
      "trained Naive Bayes in 0.03 s\n"
     ]
    },
    {
     "name": "stderr",
     "output_type": "stream",
     "text": [
      "C:\\Users\\ankit\\Anaconda3\\lib\\site-packages\\ipykernel_launcher.py:27: DeprecationWarning: time.clock has been deprecated in Python 3.3 and will be removed from Python 3.8: use time.perf_counter or time.process_time instead\n"
     ]
    },
    {
     "name": "stdout",
     "output_type": "stream",
     "text": [
      "trained AdaBoost in 11.04 s\n"
     ]
    },
    {
     "name": "stderr",
     "output_type": "stream",
     "text": [
      "C:\\Users\\ankit\\Anaconda3\\lib\\site-packages\\ipykernel_launcher.py:25: DeprecationWarning: time.clock has been deprecated in Python 3.3 and will be removed from Python 3.8: use time.perf_counter or time.process_time instead\n",
      "C:\\Users\\ankit\\Anaconda3\\lib\\site-packages\\ipykernel_launcher.py:27: DeprecationWarning: time.clock has been deprecated in Python 3.3 and will be removed from Python 3.8: use time.perf_counter or time.process_time instead\n"
     ]
    },
    {
     "name": "stdout",
     "output_type": "stream",
     "text": [
      "trained Gaussian Process in 105.51 s\n"
     ]
    },
    {
     "data": {
      "text/html": [
       "<div>\n",
       "<style scoped>\n",
       "    .dataframe tbody tr th:only-of-type {\n",
       "        vertical-align: middle;\n",
       "    }\n",
       "\n",
       "    .dataframe tbody tr th {\n",
       "        vertical-align: top;\n",
       "    }\n",
       "\n",
       "    .dataframe thead th {\n",
       "        text-align: right;\n",
       "    }\n",
       "</style>\n",
       "<table border=\"1\" class=\"dataframe\">\n",
       "  <thead>\n",
       "    <tr style=\"text-align: right;\">\n",
       "      <th></th>\n",
       "      <th>classifier</th>\n",
       "      <th>train_score</th>\n",
       "      <th>test_score</th>\n",
       "      <th>train_time</th>\n",
       "    </tr>\n",
       "  </thead>\n",
       "  <tbody>\n",
       "    <tr>\n",
       "      <td>0</td>\n",
       "      <td>Gradient Boosting Classifier</td>\n",
       "      <td>0.999650</td>\n",
       "      <td>0.899371</td>\n",
       "      <td>96.830829</td>\n",
       "    </tr>\n",
       "    <tr>\n",
       "      <td>1</td>\n",
       "      <td>Random Forest</td>\n",
       "      <td>0.995797</td>\n",
       "      <td>0.842767</td>\n",
       "      <td>0.752570</td>\n",
       "    </tr>\n",
       "    <tr>\n",
       "      <td>2</td>\n",
       "      <td>Logistic Regression</td>\n",
       "      <td>0.888266</td>\n",
       "      <td>0.820755</td>\n",
       "      <td>16.648137</td>\n",
       "    </tr>\n",
       "    <tr>\n",
       "      <td>6</td>\n",
       "      <td>Neural Net</td>\n",
       "      <td>0.927145</td>\n",
       "      <td>0.820755</td>\n",
       "      <td>7.939819</td>\n",
       "    </tr>\n",
       "    <tr>\n",
       "      <td>4</td>\n",
       "      <td>Decision Tree</td>\n",
       "      <td>1.000000</td>\n",
       "      <td>0.738994</td>\n",
       "      <td>2.025813</td>\n",
       "    </tr>\n",
       "    <tr>\n",
       "      <td>3</td>\n",
       "      <td>Nearest Neighbors</td>\n",
       "      <td>0.832224</td>\n",
       "      <td>0.716981</td>\n",
       "      <td>0.088609</td>\n",
       "    </tr>\n",
       "    <tr>\n",
       "      <td>5</td>\n",
       "      <td>Linear SVM</td>\n",
       "      <td>1.000000</td>\n",
       "      <td>0.600629</td>\n",
       "      <td>11.726785</td>\n",
       "    </tr>\n",
       "    <tr>\n",
       "      <td>7</td>\n",
       "      <td>Naive Bayes</td>\n",
       "      <td>0.587391</td>\n",
       "      <td>0.575472</td>\n",
       "      <td>0.032092</td>\n",
       "    </tr>\n",
       "    <tr>\n",
       "      <td>8</td>\n",
       "      <td>AdaBoost</td>\n",
       "      <td>0.585639</td>\n",
       "      <td>0.553459</td>\n",
       "      <td>11.044580</td>\n",
       "    </tr>\n",
       "    <tr>\n",
       "      <td>9</td>\n",
       "      <td>Gaussian Process</td>\n",
       "      <td>1.000000</td>\n",
       "      <td>0.166667</td>\n",
       "      <td>105.511987</td>\n",
       "    </tr>\n",
       "  </tbody>\n",
       "</table>\n",
       "</div>"
      ],
      "text/plain": [
       "                     classifier  train_score  test_score  train_time\n",
       "0  Gradient Boosting Classifier     0.999650    0.899371   96.830829\n",
       "1                 Random Forest     0.995797    0.842767    0.752570\n",
       "2           Logistic Regression     0.888266    0.820755   16.648137\n",
       "6                    Neural Net     0.927145    0.820755    7.939819\n",
       "4                 Decision Tree     1.000000    0.738994    2.025813\n",
       "3             Nearest Neighbors     0.832224    0.716981    0.088609\n",
       "5                    Linear SVM     1.000000    0.600629   11.726785\n",
       "7                   Naive Bayes     0.587391    0.575472    0.032092\n",
       "8                      AdaBoost     0.585639    0.553459   11.044580\n",
       "9              Gaussian Process     1.000000    0.166667  105.511987"
      ]
     },
     "metadata": {},
     "output_type": "display_data"
    },
    {
     "name": "stdout",
     "output_type": "stream",
     "text": [
      "Train: [   0    1    2 ... 3170 3171 3172] Validation: [ 318  319  320  321  322  323  324  325  326  327  328  329  330  331\n",
      "  332  333  334  335  336  337  338  339  340  341  342  343  344  345\n",
      "  346  347  348  349  350  351  352  353  354  355  356  357  358  359\n",
      "  360  361  362  363  364  365  366  367  368  369  370  846  847  848\n",
      "  849  850  851  852  853  854  855  856  857  858  859  860  861  862\n",
      "  863  864  865  866  867  868  869  870  871  872  873  874  875  876\n",
      "  877  878  879  880  881  882  883  884  885  886  887  888  889  890\n",
      "  891  892  893  894  895  896  897  898 1375 1376 1377 1378 1379 1380\n",
      " 1381 1382 1383 1384 1385 1386 1387 1388 1389 1390 1391 1392 1393 1394\n",
      " 1395 1396 1397 1398 1399 1400 1401 1402 1403 1404 1405 1406 1407 1408\n",
      " 1409 1410 1411 1412 1413 1414 1415 1416 1417 1418 1419 1420 1421 1422\n",
      " 1423 1424 1425 1426 1427 1904 1905 1906 1907 1908 1909 1910 1911 1912\n",
      " 1913 1914 1915 1916 1917 1918 1919 1920 1921 1922 1923 1924 1925 1926\n",
      " 1927 1928 1929 1930 1931 1932 1933 1934 1935 1936 1937 1938 1939 1940\n",
      " 1941 1942 1943 1944 1945 1946 1947 1948 1949 1950 1951 1952 1953 1954\n",
      " 1955 1956 2433 2434 2435 2436 2437 2438 2439 2440 2441 2442 2443 2444\n",
      " 2445 2446 2447 2448 2449 2450 2451 2452 2453 2454 2455 2456 2457 2458\n",
      " 2459 2460 2461 2462 2463 2464 2465 2466 2467 2468 2469 2470 2471 2472\n",
      " 2473 2474 2475 2476 2477 2478 2479 2480 2481 2482 2483 2484 2485 2962\n",
      " 2963 2964 2965 2966 2967 2968 2969 2970 2971 2972 2973 2974 2975 2976\n",
      " 2977 2978 2979 2980 2981 2982 2983 2984 2985 2986 2987 2988 2989 2990\n",
      " 2991 2992 2993 2994 2995 2996 2997 2998 2999 3000 3001 3002 3003 3004\n",
      " 3005 3006 3007 3008 3009 3010 3011 3012 3013 3014]\n"
     ]
    },
    {
     "name": "stderr",
     "output_type": "stream",
     "text": [
      "C:\\Users\\ankit\\Anaconda3\\lib\\site-packages\\ipykernel_launcher.py:25: DeprecationWarning: time.clock has been deprecated in Python 3.3 and will be removed from Python 3.8: use time.perf_counter or time.process_time instead\n",
      "C:\\Users\\ankit\\Anaconda3\\lib\\site-packages\\ipykernel_launcher.py:27: DeprecationWarning: time.clock has been deprecated in Python 3.3 and will be removed from Python 3.8: use time.perf_counter or time.process_time instead\n"
     ]
    },
    {
     "name": "stdout",
     "output_type": "stream",
     "text": [
      "trained Gradient Boosting Classifier in 93.25 s\n"
     ]
    },
    {
     "name": "stderr",
     "output_type": "stream",
     "text": [
      "C:\\Users\\ankit\\Anaconda3\\lib\\site-packages\\ipykernel_launcher.py:25: DeprecationWarning: time.clock has been deprecated in Python 3.3 and will be removed from Python 3.8: use time.perf_counter or time.process_time instead\n",
      "C:\\Users\\ankit\\Anaconda3\\lib\\site-packages\\ipykernel_launcher.py:27: DeprecationWarning: time.clock has been deprecated in Python 3.3 and will be removed from Python 3.8: use time.perf_counter or time.process_time instead\n",
      "C:\\Users\\ankit\\Anaconda3\\lib\\site-packages\\ipykernel_launcher.py:25: DeprecationWarning: time.clock has been deprecated in Python 3.3 and will be removed from Python 3.8: use time.perf_counter or time.process_time instead\n",
      "C:\\Users\\ankit\\Anaconda3\\lib\\site-packages\\sklearn\\linear_model\\logistic.py:432: FutureWarning: Default solver will be changed to 'lbfgs' in 0.22. Specify a solver to silence this warning.\n",
      "  FutureWarning)\n",
      "C:\\Users\\ankit\\Anaconda3\\lib\\site-packages\\sklearn\\linear_model\\logistic.py:469: FutureWarning: Default multi_class will be changed to 'auto' in 0.22. Specify the multi_class option to silence this warning.\n",
      "  \"this warning.\", FutureWarning)\n"
     ]
    },
    {
     "name": "stdout",
     "output_type": "stream",
     "text": [
      "trained Random Forest in 0.66 s\n"
     ]
    },
    {
     "name": "stderr",
     "output_type": "stream",
     "text": [
      "C:\\Users\\ankit\\Anaconda3\\lib\\site-packages\\ipykernel_launcher.py:27: DeprecationWarning: time.clock has been deprecated in Python 3.3 and will be removed from Python 3.8: use time.perf_counter or time.process_time instead\n",
      "C:\\Users\\ankit\\Anaconda3\\lib\\site-packages\\ipykernel_launcher.py:25: DeprecationWarning: time.clock has been deprecated in Python 3.3 and will be removed from Python 3.8: use time.perf_counter or time.process_time instead\n",
      "C:\\Users\\ankit\\Anaconda3\\lib\\site-packages\\ipykernel_launcher.py:27: DeprecationWarning: time.clock has been deprecated in Python 3.3 and will be removed from Python 3.8: use time.perf_counter or time.process_time instead\n"
     ]
    },
    {
     "name": "stdout",
     "output_type": "stream",
     "text": [
      "trained Logistic Regression in 16.32 s\n",
      "trained Nearest Neighbors in 0.09 s\n"
     ]
    },
    {
     "name": "stderr",
     "output_type": "stream",
     "text": [
      "C:\\Users\\ankit\\Anaconda3\\lib\\site-packages\\ipykernel_launcher.py:25: DeprecationWarning: time.clock has been deprecated in Python 3.3 and will be removed from Python 3.8: use time.perf_counter or time.process_time instead\n",
      "C:\\Users\\ankit\\Anaconda3\\lib\\site-packages\\ipykernel_launcher.py:27: DeprecationWarning: time.clock has been deprecated in Python 3.3 and will be removed from Python 3.8: use time.perf_counter or time.process_time instead\n",
      "C:\\Users\\ankit\\Anaconda3\\lib\\site-packages\\ipykernel_launcher.py:25: DeprecationWarning: time.clock has been deprecated in Python 3.3 and will be removed from Python 3.8: use time.perf_counter or time.process_time instead\n",
      "C:\\Users\\ankit\\Anaconda3\\lib\\site-packages\\sklearn\\svm\\base.py:193: FutureWarning: The default value of gamma will change from 'auto' to 'scale' in version 0.22 to account better for unscaled features. Set gamma explicitly to 'auto' or 'scale' to avoid this warning.\n",
      "  \"avoid this warning.\", FutureWarning)\n"
     ]
    },
    {
     "name": "stdout",
     "output_type": "stream",
     "text": [
      "trained Decision Tree in 1.91 s\n"
     ]
    },
    {
     "name": "stderr",
     "output_type": "stream",
     "text": [
      "C:\\Users\\ankit\\Anaconda3\\lib\\site-packages\\ipykernel_launcher.py:27: DeprecationWarning: time.clock has been deprecated in Python 3.3 and will be removed from Python 3.8: use time.perf_counter or time.process_time instead\n"
     ]
    },
    {
     "name": "stdout",
     "output_type": "stream",
     "text": [
      "trained Linear SVM in 11.68 s\n"
     ]
    },
    {
     "name": "stderr",
     "output_type": "stream",
     "text": [
      "C:\\Users\\ankit\\Anaconda3\\lib\\site-packages\\ipykernel_launcher.py:25: DeprecationWarning: time.clock has been deprecated in Python 3.3 and will be removed from Python 3.8: use time.perf_counter or time.process_time instead\n",
      "C:\\Users\\ankit\\Anaconda3\\lib\\site-packages\\ipykernel_launcher.py:27: DeprecationWarning: time.clock has been deprecated in Python 3.3 and will be removed from Python 3.8: use time.perf_counter or time.process_time instead\n",
      "C:\\Users\\ankit\\Anaconda3\\lib\\site-packages\\ipykernel_launcher.py:25: DeprecationWarning: time.clock has been deprecated in Python 3.3 and will be removed from Python 3.8: use time.perf_counter or time.process_time instead\n",
      "C:\\Users\\ankit\\Anaconda3\\lib\\site-packages\\ipykernel_launcher.py:27: DeprecationWarning: time.clock has been deprecated in Python 3.3 and will be removed from Python 3.8: use time.perf_counter or time.process_time instead\n",
      "C:\\Users\\ankit\\Anaconda3\\lib\\site-packages\\ipykernel_launcher.py:25: DeprecationWarning: time.clock has been deprecated in Python 3.3 and will be removed from Python 3.8: use time.perf_counter or time.process_time instead\n"
     ]
    },
    {
     "name": "stdout",
     "output_type": "stream",
     "text": [
      "trained Neural Net in 5.80 s\n",
      "trained Naive Bayes in 0.03 s\n"
     ]
    },
    {
     "name": "stderr",
     "output_type": "stream",
     "text": [
      "C:\\Users\\ankit\\Anaconda3\\lib\\site-packages\\ipykernel_launcher.py:27: DeprecationWarning: time.clock has been deprecated in Python 3.3 and will be removed from Python 3.8: use time.perf_counter or time.process_time instead\n"
     ]
    },
    {
     "name": "stdout",
     "output_type": "stream",
     "text": [
      "trained AdaBoost in 9.72 s\n"
     ]
    },
    {
     "name": "stderr",
     "output_type": "stream",
     "text": [
      "C:\\Users\\ankit\\Anaconda3\\lib\\site-packages\\ipykernel_launcher.py:25: DeprecationWarning: time.clock has been deprecated in Python 3.3 and will be removed from Python 3.8: use time.perf_counter or time.process_time instead\n",
      "C:\\Users\\ankit\\Anaconda3\\lib\\site-packages\\ipykernel_launcher.py:27: DeprecationWarning: time.clock has been deprecated in Python 3.3 and will be removed from Python 3.8: use time.perf_counter or time.process_time instead\n"
     ]
    },
    {
     "name": "stdout",
     "output_type": "stream",
     "text": [
      "trained Gaussian Process in 108.54 s\n"
     ]
    },
    {
     "data": {
      "text/html": [
       "<div>\n",
       "<style scoped>\n",
       "    .dataframe tbody tr th:only-of-type {\n",
       "        vertical-align: middle;\n",
       "    }\n",
       "\n",
       "    .dataframe tbody tr th {\n",
       "        vertical-align: top;\n",
       "    }\n",
       "\n",
       "    .dataframe thead th {\n",
       "        text-align: right;\n",
       "    }\n",
       "</style>\n",
       "<table border=\"1\" class=\"dataframe\">\n",
       "  <thead>\n",
       "    <tr style=\"text-align: right;\">\n",
       "      <th></th>\n",
       "      <th>classifier</th>\n",
       "      <th>train_score</th>\n",
       "      <th>test_score</th>\n",
       "      <th>train_time</th>\n",
       "    </tr>\n",
       "  </thead>\n",
       "  <tbody>\n",
       "    <tr>\n",
       "      <td>0</td>\n",
       "      <td>Gradient Boosting Classifier</td>\n",
       "      <td>0.999650</td>\n",
       "      <td>0.893082</td>\n",
       "      <td>93.251630</td>\n",
       "    </tr>\n",
       "    <tr>\n",
       "      <td>2</td>\n",
       "      <td>Logistic Regression</td>\n",
       "      <td>0.880560</td>\n",
       "      <td>0.855346</td>\n",
       "      <td>16.322399</td>\n",
       "    </tr>\n",
       "    <tr>\n",
       "      <td>1</td>\n",
       "      <td>Random Forest</td>\n",
       "      <td>0.997898</td>\n",
       "      <td>0.845912</td>\n",
       "      <td>0.664283</td>\n",
       "    </tr>\n",
       "    <tr>\n",
       "      <td>6</td>\n",
       "      <td>Neural Net</td>\n",
       "      <td>0.894571</td>\n",
       "      <td>0.842767</td>\n",
       "      <td>5.803897</td>\n",
       "    </tr>\n",
       "    <tr>\n",
       "      <td>4</td>\n",
       "      <td>Decision Tree</td>\n",
       "      <td>1.000000</td>\n",
       "      <td>0.767296</td>\n",
       "      <td>1.905052</td>\n",
       "    </tr>\n",
       "    <tr>\n",
       "      <td>3</td>\n",
       "      <td>Nearest Neighbors</td>\n",
       "      <td>0.832574</td>\n",
       "      <td>0.764151</td>\n",
       "      <td>0.090286</td>\n",
       "    </tr>\n",
       "    <tr>\n",
       "      <td>8</td>\n",
       "      <td>AdaBoost</td>\n",
       "      <td>0.617513</td>\n",
       "      <td>0.619497</td>\n",
       "      <td>9.715931</td>\n",
       "    </tr>\n",
       "    <tr>\n",
       "      <td>7</td>\n",
       "      <td>Naive Bayes</td>\n",
       "      <td>0.587391</td>\n",
       "      <td>0.594340</td>\n",
       "      <td>0.028060</td>\n",
       "    </tr>\n",
       "    <tr>\n",
       "      <td>5</td>\n",
       "      <td>Linear SVM</td>\n",
       "      <td>1.000000</td>\n",
       "      <td>0.588050</td>\n",
       "      <td>11.676717</td>\n",
       "    </tr>\n",
       "    <tr>\n",
       "      <td>9</td>\n",
       "      <td>Gaussian Process</td>\n",
       "      <td>1.000000</td>\n",
       "      <td>0.166667</td>\n",
       "      <td>108.541502</td>\n",
       "    </tr>\n",
       "  </tbody>\n",
       "</table>\n",
       "</div>"
      ],
      "text/plain": [
       "                     classifier  train_score  test_score  train_time\n",
       "0  Gradient Boosting Classifier     0.999650    0.893082   93.251630\n",
       "2           Logistic Regression     0.880560    0.855346   16.322399\n",
       "1                 Random Forest     0.997898    0.845912    0.664283\n",
       "6                    Neural Net     0.894571    0.842767    5.803897\n",
       "4                 Decision Tree     1.000000    0.767296    1.905052\n",
       "3             Nearest Neighbors     0.832574    0.764151    0.090286\n",
       "8                      AdaBoost     0.617513    0.619497    9.715931\n",
       "7                   Naive Bayes     0.587391    0.594340    0.028060\n",
       "5                    Linear SVM     1.000000    0.588050   11.676717\n",
       "9              Gaussian Process     1.000000    0.166667  108.541502"
      ]
     },
     "metadata": {},
     "output_type": "display_data"
    },
    {
     "name": "stdout",
     "output_type": "stream",
     "text": [
      "Train: [   0    1    2 ... 3170 3171 3172] Validation: [ 371  372  373  374  375  376  377  378  379  380  381  382  383  384\n",
      "  385  386  387  388  389  390  391  392  393  394  395  396  397  398\n",
      "  399  400  401  402  403  404  405  406  407  408  409  410  411  412\n",
      "  413  414  415  416  417  418  419  420  421  422  423  899  900  901\n",
      "  902  903  904  905  906  907  908  909  910  911  912  913  914  915\n",
      "  916  917  918  919  920  921  922  923  924  925  926  927  928  929\n",
      "  930  931  932  933  934  935  936  937  938  939  940  941  942  943\n",
      "  944  945  946  947  948  949  950  951 1428 1429 1430 1431 1432 1433\n",
      " 1434 1435 1436 1437 1438 1439 1440 1441 1442 1443 1444 1445 1446 1447\n",
      " 1448 1449 1450 1451 1452 1453 1454 1455 1456 1457 1458 1459 1460 1461\n",
      " 1462 1463 1464 1465 1466 1467 1468 1469 1470 1471 1472 1473 1474 1475\n",
      " 1476 1477 1478 1479 1480 1957 1958 1959 1960 1961 1962 1963 1964 1965\n",
      " 1966 1967 1968 1969 1970 1971 1972 1973 1974 1975 1976 1977 1978 1979\n",
      " 1980 1981 1982 1983 1984 1985 1986 1987 1988 1989 1990 1991 1992 1993\n",
      " 1994 1995 1996 1997 1998 1999 2000 2001 2002 2003 2004 2005 2006 2007\n",
      " 2008 2009 2486 2487 2488 2489 2490 2491 2492 2493 2494 2495 2496 2497\n",
      " 2498 2499 2500 2501 2502 2503 2504 2505 2506 2507 2508 2509 2510 2511\n",
      " 2512 2513 2514 2515 2516 2517 2518 2519 2520 2521 2522 2523 2524 2525\n",
      " 2526 2527 2528 2529 2530 2531 2532 2533 2534 2535 2536 2537 2538 3015\n",
      " 3016 3017 3018 3019 3020 3021 3022 3023 3024 3025 3026 3027 3028 3029\n",
      " 3030 3031 3032 3033 3034 3035 3036 3037 3038 3039 3040 3041 3042 3043\n",
      " 3044 3045 3046 3047 3048 3049 3050 3051 3052 3053 3054 3055 3056 3057\n",
      " 3058 3059 3060 3061 3062 3063 3064 3065 3066 3067]\n"
     ]
    },
    {
     "name": "stderr",
     "output_type": "stream",
     "text": [
      "C:\\Users\\ankit\\Anaconda3\\lib\\site-packages\\ipykernel_launcher.py:25: DeprecationWarning: time.clock has been deprecated in Python 3.3 and will be removed from Python 3.8: use time.perf_counter or time.process_time instead\n",
      "C:\\Users\\ankit\\Anaconda3\\lib\\site-packages\\ipykernel_launcher.py:27: DeprecationWarning: time.clock has been deprecated in Python 3.3 and will be removed from Python 3.8: use time.perf_counter or time.process_time instead\n",
      "C:\\Users\\ankit\\Anaconda3\\lib\\site-packages\\ipykernel_launcher.py:25: DeprecationWarning: time.clock has been deprecated in Python 3.3 and will be removed from Python 3.8: use time.perf_counter or time.process_time instead\n"
     ]
    },
    {
     "name": "stdout",
     "output_type": "stream",
     "text": [
      "trained Gradient Boosting Classifier in 83.83 s\n"
     ]
    },
    {
     "name": "stderr",
     "output_type": "stream",
     "text": [
      "C:\\Users\\ankit\\Anaconda3\\lib\\site-packages\\ipykernel_launcher.py:27: DeprecationWarning: time.clock has been deprecated in Python 3.3 and will be removed from Python 3.8: use time.perf_counter or time.process_time instead\n",
      "C:\\Users\\ankit\\Anaconda3\\lib\\site-packages\\ipykernel_launcher.py:25: DeprecationWarning: time.clock has been deprecated in Python 3.3 and will be removed from Python 3.8: use time.perf_counter or time.process_time instead\n",
      "C:\\Users\\ankit\\Anaconda3\\lib\\site-packages\\sklearn\\linear_model\\logistic.py:432: FutureWarning: Default solver will be changed to 'lbfgs' in 0.22. Specify a solver to silence this warning.\n",
      "  FutureWarning)\n",
      "C:\\Users\\ankit\\Anaconda3\\lib\\site-packages\\sklearn\\linear_model\\logistic.py:469: FutureWarning: Default multi_class will be changed to 'auto' in 0.22. Specify the multi_class option to silence this warning.\n",
      "  \"this warning.\", FutureWarning)\n"
     ]
    },
    {
     "name": "stdout",
     "output_type": "stream",
     "text": [
      "trained Random Forest in 0.61 s\n"
     ]
    },
    {
     "name": "stderr",
     "output_type": "stream",
     "text": [
      "C:\\Users\\ankit\\Anaconda3\\lib\\site-packages\\ipykernel_launcher.py:27: DeprecationWarning: time.clock has been deprecated in Python 3.3 and will be removed from Python 3.8: use time.perf_counter or time.process_time instead\n",
      "C:\\Users\\ankit\\Anaconda3\\lib\\site-packages\\ipykernel_launcher.py:25: DeprecationWarning: time.clock has been deprecated in Python 3.3 and will be removed from Python 3.8: use time.perf_counter or time.process_time instead\n",
      "C:\\Users\\ankit\\Anaconda3\\lib\\site-packages\\ipykernel_launcher.py:27: DeprecationWarning: time.clock has been deprecated in Python 3.3 and will be removed from Python 3.8: use time.perf_counter or time.process_time instead\n"
     ]
    },
    {
     "name": "stdout",
     "output_type": "stream",
     "text": [
      "trained Logistic Regression in 14.80 s\n",
      "trained Nearest Neighbors in 0.08 s\n"
     ]
    },
    {
     "name": "stderr",
     "output_type": "stream",
     "text": [
      "C:\\Users\\ankit\\Anaconda3\\lib\\site-packages\\ipykernel_launcher.py:25: DeprecationWarning: time.clock has been deprecated in Python 3.3 and will be removed from Python 3.8: use time.perf_counter or time.process_time instead\n",
      "C:\\Users\\ankit\\Anaconda3\\lib\\site-packages\\ipykernel_launcher.py:27: DeprecationWarning: time.clock has been deprecated in Python 3.3 and will be removed from Python 3.8: use time.perf_counter or time.process_time instead\n",
      "C:\\Users\\ankit\\Anaconda3\\lib\\site-packages\\ipykernel_launcher.py:25: DeprecationWarning: time.clock has been deprecated in Python 3.3 and will be removed from Python 3.8: use time.perf_counter or time.process_time instead\n",
      "C:\\Users\\ankit\\Anaconda3\\lib\\site-packages\\sklearn\\svm\\base.py:193: FutureWarning: The default value of gamma will change from 'auto' to 'scale' in version 0.22 to account better for unscaled features. Set gamma explicitly to 'auto' or 'scale' to avoid this warning.\n",
      "  \"avoid this warning.\", FutureWarning)\n"
     ]
    },
    {
     "name": "stdout",
     "output_type": "stream",
     "text": [
      "trained Decision Tree in 1.77 s\n"
     ]
    },
    {
     "name": "stderr",
     "output_type": "stream",
     "text": [
      "C:\\Users\\ankit\\Anaconda3\\lib\\site-packages\\ipykernel_launcher.py:27: DeprecationWarning: time.clock has been deprecated in Python 3.3 and will be removed from Python 3.8: use time.perf_counter or time.process_time instead\n"
     ]
    },
    {
     "name": "stdout",
     "output_type": "stream",
     "text": [
      "trained Linear SVM in 11.96 s\n"
     ]
    },
    {
     "name": "stderr",
     "output_type": "stream",
     "text": [
      "C:\\Users\\ankit\\Anaconda3\\lib\\site-packages\\ipykernel_launcher.py:25: DeprecationWarning: time.clock has been deprecated in Python 3.3 and will be removed from Python 3.8: use time.perf_counter or time.process_time instead\n",
      "C:\\Users\\ankit\\Anaconda3\\lib\\site-packages\\ipykernel_launcher.py:27: DeprecationWarning: time.clock has been deprecated in Python 3.3 and will be removed from Python 3.8: use time.perf_counter or time.process_time instead\n",
      "C:\\Users\\ankit\\Anaconda3\\lib\\site-packages\\ipykernel_launcher.py:25: DeprecationWarning: time.clock has been deprecated in Python 3.3 and will be removed from Python 3.8: use time.perf_counter or time.process_time instead\n",
      "C:\\Users\\ankit\\Anaconda3\\lib\\site-packages\\ipykernel_launcher.py:27: DeprecationWarning: time.clock has been deprecated in Python 3.3 and will be removed from Python 3.8: use time.perf_counter or time.process_time instead\n"
     ]
    },
    {
     "name": "stdout",
     "output_type": "stream",
     "text": [
      "trained Neural Net in 10.53 s\n",
      "trained Naive Bayes in 0.05 s\n"
     ]
    },
    {
     "name": "stderr",
     "output_type": "stream",
     "text": [
      "C:\\Users\\ankit\\Anaconda3\\lib\\site-packages\\ipykernel_launcher.py:25: DeprecationWarning: time.clock has been deprecated in Python 3.3 and will be removed from Python 3.8: use time.perf_counter or time.process_time instead\n",
      "C:\\Users\\ankit\\Anaconda3\\lib\\site-packages\\ipykernel_launcher.py:27: DeprecationWarning: time.clock has been deprecated in Python 3.3 and will be removed from Python 3.8: use time.perf_counter or time.process_time instead\n"
     ]
    },
    {
     "name": "stdout",
     "output_type": "stream",
     "text": [
      "trained AdaBoost in 9.19 s\n"
     ]
    },
    {
     "name": "stderr",
     "output_type": "stream",
     "text": [
      "C:\\Users\\ankit\\Anaconda3\\lib\\site-packages\\ipykernel_launcher.py:25: DeprecationWarning: time.clock has been deprecated in Python 3.3 and will be removed from Python 3.8: use time.perf_counter or time.process_time instead\n",
      "C:\\Users\\ankit\\Anaconda3\\lib\\site-packages\\ipykernel_launcher.py:27: DeprecationWarning: time.clock has been deprecated in Python 3.3 and will be removed from Python 3.8: use time.perf_counter or time.process_time instead\n"
     ]
    },
    {
     "name": "stdout",
     "output_type": "stream",
     "text": [
      "trained Gaussian Process in 97.61 s\n"
     ]
    },
    {
     "data": {
      "text/html": [
       "<div>\n",
       "<style scoped>\n",
       "    .dataframe tbody tr th:only-of-type {\n",
       "        vertical-align: middle;\n",
       "    }\n",
       "\n",
       "    .dataframe tbody tr th {\n",
       "        vertical-align: top;\n",
       "    }\n",
       "\n",
       "    .dataframe thead th {\n",
       "        text-align: right;\n",
       "    }\n",
       "</style>\n",
       "<table border=\"1\" class=\"dataframe\">\n",
       "  <thead>\n",
       "    <tr style=\"text-align: right;\">\n",
       "      <th></th>\n",
       "      <th>classifier</th>\n",
       "      <th>train_score</th>\n",
       "      <th>test_score</th>\n",
       "      <th>train_time</th>\n",
       "    </tr>\n",
       "  </thead>\n",
       "  <tbody>\n",
       "    <tr>\n",
       "      <td>0</td>\n",
       "      <td>Gradient Boosting Classifier</td>\n",
       "      <td>0.999299</td>\n",
       "      <td>0.896226</td>\n",
       "      <td>83.828295</td>\n",
       "    </tr>\n",
       "    <tr>\n",
       "      <td>1</td>\n",
       "      <td>Random Forest</td>\n",
       "      <td>0.995447</td>\n",
       "      <td>0.845912</td>\n",
       "      <td>0.609452</td>\n",
       "    </tr>\n",
       "    <tr>\n",
       "      <td>2</td>\n",
       "      <td>Logistic Regression</td>\n",
       "      <td>0.887566</td>\n",
       "      <td>0.839623</td>\n",
       "      <td>14.795322</td>\n",
       "    </tr>\n",
       "    <tr>\n",
       "      <td>6</td>\n",
       "      <td>Neural Net</td>\n",
       "      <td>0.936252</td>\n",
       "      <td>0.817610</td>\n",
       "      <td>10.527314</td>\n",
       "    </tr>\n",
       "    <tr>\n",
       "      <td>4</td>\n",
       "      <td>Decision Tree</td>\n",
       "      <td>1.000000</td>\n",
       "      <td>0.757862</td>\n",
       "      <td>1.765906</td>\n",
       "    </tr>\n",
       "    <tr>\n",
       "      <td>3</td>\n",
       "      <td>Nearest Neighbors</td>\n",
       "      <td>0.832574</td>\n",
       "      <td>0.751572</td>\n",
       "      <td>0.081504</td>\n",
       "    </tr>\n",
       "    <tr>\n",
       "      <td>8</td>\n",
       "      <td>AdaBoost</td>\n",
       "      <td>0.654291</td>\n",
       "      <td>0.650943</td>\n",
       "      <td>9.190072</td>\n",
       "    </tr>\n",
       "    <tr>\n",
       "      <td>7</td>\n",
       "      <td>Naive Bayes</td>\n",
       "      <td>0.593345</td>\n",
       "      <td>0.584906</td>\n",
       "      <td>0.052292</td>\n",
       "    </tr>\n",
       "    <tr>\n",
       "      <td>5</td>\n",
       "      <td>Linear SVM</td>\n",
       "      <td>1.000000</td>\n",
       "      <td>0.581761</td>\n",
       "      <td>11.955891</td>\n",
       "    </tr>\n",
       "    <tr>\n",
       "      <td>9</td>\n",
       "      <td>Gaussian Process</td>\n",
       "      <td>1.000000</td>\n",
       "      <td>0.166667</td>\n",
       "      <td>97.613723</td>\n",
       "    </tr>\n",
       "  </tbody>\n",
       "</table>\n",
       "</div>"
      ],
      "text/plain": [
       "                     classifier  train_score  test_score  train_time\n",
       "0  Gradient Boosting Classifier     0.999299    0.896226   83.828295\n",
       "1                 Random Forest     0.995447    0.845912    0.609452\n",
       "2           Logistic Regression     0.887566    0.839623   14.795322\n",
       "6                    Neural Net     0.936252    0.817610   10.527314\n",
       "4                 Decision Tree     1.000000    0.757862    1.765906\n",
       "3             Nearest Neighbors     0.832574    0.751572    0.081504\n",
       "8                      AdaBoost     0.654291    0.650943    9.190072\n",
       "7                   Naive Bayes     0.593345    0.584906    0.052292\n",
       "5                    Linear SVM     1.000000    0.581761   11.955891\n",
       "9              Gaussian Process     1.000000    0.166667   97.613723"
      ]
     },
     "metadata": {},
     "output_type": "display_data"
    },
    {
     "name": "stdout",
     "output_type": "stream",
     "text": [
      "Train: [   0    1    2 ... 3170 3171 3172] Validation: [ 424  425  426  427  428  429  430  431  432  433  434  435  436  437\n",
      "  438  439  440  441  442  443  444  445  446  447  448  449  450  451\n",
      "  452  453  454  455  456  457  458  459  460  461  462  463  464  465\n",
      "  466  467  468  469  470  471  472  473  474  475  952  953  954  955\n",
      "  956  957  958  959  960  961  962  963  964  965  966  967  968  969\n",
      "  970  971  972  973  974  975  976  977  978  979  980  981  982  983\n",
      "  984  985  986  987  988  989  990  991  992  993  994  995  996  997\n",
      "  998  999 1000 1001 1002 1003 1004 1481 1482 1483 1484 1485 1486 1487\n",
      " 1488 1489 1490 1491 1492 1493 1494 1495 1496 1497 1498 1499 1500 1501\n",
      " 1502 1503 1504 1505 1506 1507 1508 1509 1510 1511 1512 1513 1514 1515\n",
      " 1516 1517 1518 1519 1520 1521 1522 1523 1524 1525 1526 1527 1528 1529\n",
      " 1530 1531 1532 1533 2010 2011 2012 2013 2014 2015 2016 2017 2018 2019\n",
      " 2020 2021 2022 2023 2024 2025 2026 2027 2028 2029 2030 2031 2032 2033\n",
      " 2034 2035 2036 2037 2038 2039 2040 2041 2042 2043 2044 2045 2046 2047\n",
      " 2048 2049 2050 2051 2052 2053 2054 2055 2056 2057 2058 2059 2060 2061\n",
      " 2062 2539 2540 2541 2542 2543 2544 2545 2546 2547 2548 2549 2550 2551\n",
      " 2552 2553 2554 2555 2556 2557 2558 2559 2560 2561 2562 2563 2564 2565\n",
      " 2566 2567 2568 2569 2570 2571 2572 2573 2574 2575 2576 2577 2578 2579\n",
      " 2580 2581 2582 2583 2584 2585 2586 2587 2588 2589 2590 2591 3068 3069\n",
      " 3070 3071 3072 3073 3074 3075 3076 3077 3078 3079 3080 3081 3082 3083\n",
      " 3084 3085 3086 3087 3088 3089 3090 3091 3092 3093 3094 3095 3096 3097\n",
      " 3098 3099 3100 3101 3102 3103 3104 3105 3106 3107 3108 3109 3110 3111\n",
      " 3112 3113 3114 3115 3116 3117 3118 3119 3120]\n"
     ]
    },
    {
     "name": "stderr",
     "output_type": "stream",
     "text": [
      "C:\\Users\\ankit\\Anaconda3\\lib\\site-packages\\ipykernel_launcher.py:25: DeprecationWarning: time.clock has been deprecated in Python 3.3 and will be removed from Python 3.8: use time.perf_counter or time.process_time instead\n",
      "C:\\Users\\ankit\\Anaconda3\\lib\\site-packages\\ipykernel_launcher.py:27: DeprecationWarning: time.clock has been deprecated in Python 3.3 and will be removed from Python 3.8: use time.perf_counter or time.process_time instead\n",
      "C:\\Users\\ankit\\Anaconda3\\lib\\site-packages\\ipykernel_launcher.py:25: DeprecationWarning: time.clock has been deprecated in Python 3.3 and will be removed from Python 3.8: use time.perf_counter or time.process_time instead\n"
     ]
    },
    {
     "name": "stdout",
     "output_type": "stream",
     "text": [
      "trained Gradient Boosting Classifier in 85.67 s\n"
     ]
    },
    {
     "name": "stderr",
     "output_type": "stream",
     "text": [
      "C:\\Users\\ankit\\Anaconda3\\lib\\site-packages\\ipykernel_launcher.py:27: DeprecationWarning: time.clock has been deprecated in Python 3.3 and will be removed from Python 3.8: use time.perf_counter or time.process_time instead\n",
      "C:\\Users\\ankit\\Anaconda3\\lib\\site-packages\\ipykernel_launcher.py:25: DeprecationWarning: time.clock has been deprecated in Python 3.3 and will be removed from Python 3.8: use time.perf_counter or time.process_time instead\n",
      "C:\\Users\\ankit\\Anaconda3\\lib\\site-packages\\sklearn\\linear_model\\logistic.py:432: FutureWarning: Default solver will be changed to 'lbfgs' in 0.22. Specify a solver to silence this warning.\n",
      "  FutureWarning)\n",
      "C:\\Users\\ankit\\Anaconda3\\lib\\site-packages\\sklearn\\linear_model\\logistic.py:469: FutureWarning: Default multi_class will be changed to 'auto' in 0.22. Specify the multi_class option to silence this warning.\n",
      "  \"this warning.\", FutureWarning)\n"
     ]
    },
    {
     "name": "stdout",
     "output_type": "stream",
     "text": [
      "trained Random Forest in 0.53 s\n"
     ]
    },
    {
     "name": "stderr",
     "output_type": "stream",
     "text": [
      "C:\\Users\\ankit\\Anaconda3\\lib\\site-packages\\ipykernel_launcher.py:27: DeprecationWarning: time.clock has been deprecated in Python 3.3 and will be removed from Python 3.8: use time.perf_counter or time.process_time instead\n",
      "C:\\Users\\ankit\\Anaconda3\\lib\\site-packages\\ipykernel_launcher.py:25: DeprecationWarning: time.clock has been deprecated in Python 3.3 and will be removed from Python 3.8: use time.perf_counter or time.process_time instead\n",
      "C:\\Users\\ankit\\Anaconda3\\lib\\site-packages\\ipykernel_launcher.py:27: DeprecationWarning: time.clock has been deprecated in Python 3.3 and will be removed from Python 3.8: use time.perf_counter or time.process_time instead\n"
     ]
    },
    {
     "name": "stdout",
     "output_type": "stream",
     "text": [
      "trained Logistic Regression in 15.73 s\n",
      "trained Nearest Neighbors in 0.08 s\n"
     ]
    },
    {
     "name": "stderr",
     "output_type": "stream",
     "text": [
      "C:\\Users\\ankit\\Anaconda3\\lib\\site-packages\\ipykernel_launcher.py:25: DeprecationWarning: time.clock has been deprecated in Python 3.3 and will be removed from Python 3.8: use time.perf_counter or time.process_time instead\n",
      "C:\\Users\\ankit\\Anaconda3\\lib\\site-packages\\ipykernel_launcher.py:27: DeprecationWarning: time.clock has been deprecated in Python 3.3 and will be removed from Python 3.8: use time.perf_counter or time.process_time instead\n",
      "C:\\Users\\ankit\\Anaconda3\\lib\\site-packages\\ipykernel_launcher.py:25: DeprecationWarning: time.clock has been deprecated in Python 3.3 and will be removed from Python 3.8: use time.perf_counter or time.process_time instead\n",
      "C:\\Users\\ankit\\Anaconda3\\lib\\site-packages\\sklearn\\svm\\base.py:193: FutureWarning: The default value of gamma will change from 'auto' to 'scale' in version 0.22 to account better for unscaled features. Set gamma explicitly to 'auto' or 'scale' to avoid this warning.\n",
      "  \"avoid this warning.\", FutureWarning)\n"
     ]
    },
    {
     "name": "stdout",
     "output_type": "stream",
     "text": [
      "trained Decision Tree in 1.66 s\n"
     ]
    },
    {
     "name": "stderr",
     "output_type": "stream",
     "text": [
      "C:\\Users\\ankit\\Anaconda3\\lib\\site-packages\\ipykernel_launcher.py:27: DeprecationWarning: time.clock has been deprecated in Python 3.3 and will be removed from Python 3.8: use time.perf_counter or time.process_time instead\n"
     ]
    },
    {
     "name": "stdout",
     "output_type": "stream",
     "text": [
      "trained Linear SVM in 11.55 s\n"
     ]
    },
    {
     "name": "stderr",
     "output_type": "stream",
     "text": [
      "C:\\Users\\ankit\\Anaconda3\\lib\\site-packages\\ipykernel_launcher.py:25: DeprecationWarning: time.clock has been deprecated in Python 3.3 and will be removed from Python 3.8: use time.perf_counter or time.process_time instead\n",
      "C:\\Users\\ankit\\Anaconda3\\lib\\site-packages\\ipykernel_launcher.py:27: DeprecationWarning: time.clock has been deprecated in Python 3.3 and will be removed from Python 3.8: use time.perf_counter or time.process_time instead\n",
      "C:\\Users\\ankit\\Anaconda3\\lib\\site-packages\\ipykernel_launcher.py:25: DeprecationWarning: time.clock has been deprecated in Python 3.3 and will be removed from Python 3.8: use time.perf_counter or time.process_time instead\n",
      "C:\\Users\\ankit\\Anaconda3\\lib\\site-packages\\ipykernel_launcher.py:27: DeprecationWarning: time.clock has been deprecated in Python 3.3 and will be removed from Python 3.8: use time.perf_counter or time.process_time instead\n"
     ]
    },
    {
     "name": "stdout",
     "output_type": "stream",
     "text": [
      "trained Neural Net in 8.14 s\n",
      "trained Naive Bayes in 0.03 s\n"
     ]
    },
    {
     "name": "stderr",
     "output_type": "stream",
     "text": [
      "C:\\Users\\ankit\\Anaconda3\\lib\\site-packages\\ipykernel_launcher.py:25: DeprecationWarning: time.clock has been deprecated in Python 3.3 and will be removed from Python 3.8: use time.perf_counter or time.process_time instead\n",
      "C:\\Users\\ankit\\Anaconda3\\lib\\site-packages\\ipykernel_launcher.py:27: DeprecationWarning: time.clock has been deprecated in Python 3.3 and will be removed from Python 3.8: use time.perf_counter or time.process_time instead\n"
     ]
    },
    {
     "name": "stdout",
     "output_type": "stream",
     "text": [
      "trained AdaBoost in 9.97 s\n"
     ]
    },
    {
     "name": "stderr",
     "output_type": "stream",
     "text": [
      "C:\\Users\\ankit\\Anaconda3\\lib\\site-packages\\ipykernel_launcher.py:25: DeprecationWarning: time.clock has been deprecated in Python 3.3 and will be removed from Python 3.8: use time.perf_counter or time.process_time instead\n",
      "C:\\Users\\ankit\\Anaconda3\\lib\\site-packages\\ipykernel_launcher.py:27: DeprecationWarning: time.clock has been deprecated in Python 3.3 and will be removed from Python 3.8: use time.perf_counter or time.process_time instead\n"
     ]
    },
    {
     "name": "stdout",
     "output_type": "stream",
     "text": [
      "trained Gaussian Process in 101.80 s\n"
     ]
    },
    {
     "data": {
      "text/html": [
       "<div>\n",
       "<style scoped>\n",
       "    .dataframe tbody tr th:only-of-type {\n",
       "        vertical-align: middle;\n",
       "    }\n",
       "\n",
       "    .dataframe tbody tr th {\n",
       "        vertical-align: top;\n",
       "    }\n",
       "\n",
       "    .dataframe thead th {\n",
       "        text-align: right;\n",
       "    }\n",
       "</style>\n",
       "<table border=\"1\" class=\"dataframe\">\n",
       "  <thead>\n",
       "    <tr style=\"text-align: right;\">\n",
       "      <th></th>\n",
       "      <th>classifier</th>\n",
       "      <th>train_score</th>\n",
       "      <th>test_score</th>\n",
       "      <th>train_time</th>\n",
       "    </tr>\n",
       "  </thead>\n",
       "  <tbody>\n",
       "    <tr>\n",
       "      <td>0</td>\n",
       "      <td>Gradient Boosting Classifier</td>\n",
       "      <td>1.000000</td>\n",
       "      <td>0.911672</td>\n",
       "      <td>85.671913</td>\n",
       "    </tr>\n",
       "    <tr>\n",
       "      <td>2</td>\n",
       "      <td>Logistic Regression</td>\n",
       "      <td>0.883053</td>\n",
       "      <td>0.842271</td>\n",
       "      <td>15.734913</td>\n",
       "    </tr>\n",
       "    <tr>\n",
       "      <td>6</td>\n",
       "      <td>Neural Net</td>\n",
       "      <td>0.899860</td>\n",
       "      <td>0.823344</td>\n",
       "      <td>8.139750</td>\n",
       "    </tr>\n",
       "    <tr>\n",
       "      <td>1</td>\n",
       "      <td>Random Forest</td>\n",
       "      <td>0.997549</td>\n",
       "      <td>0.798107</td>\n",
       "      <td>0.529677</td>\n",
       "    </tr>\n",
       "    <tr>\n",
       "      <td>3</td>\n",
       "      <td>Nearest Neighbors</td>\n",
       "      <td>0.834034</td>\n",
       "      <td>0.766562</td>\n",
       "      <td>0.078935</td>\n",
       "    </tr>\n",
       "    <tr>\n",
       "      <td>4</td>\n",
       "      <td>Decision Tree</td>\n",
       "      <td>1.000000</td>\n",
       "      <td>0.728707</td>\n",
       "      <td>1.656817</td>\n",
       "    </tr>\n",
       "    <tr>\n",
       "      <td>8</td>\n",
       "      <td>AdaBoost</td>\n",
       "      <td>0.599090</td>\n",
       "      <td>0.621451</td>\n",
       "      <td>9.972028</td>\n",
       "    </tr>\n",
       "    <tr>\n",
       "      <td>7</td>\n",
       "      <td>Naive Bayes</td>\n",
       "      <td>0.594888</td>\n",
       "      <td>0.602524</td>\n",
       "      <td>0.031706</td>\n",
       "    </tr>\n",
       "    <tr>\n",
       "      <td>5</td>\n",
       "      <td>Linear SVM</td>\n",
       "      <td>1.000000</td>\n",
       "      <td>0.583596</td>\n",
       "      <td>11.552373</td>\n",
       "    </tr>\n",
       "    <tr>\n",
       "      <td>9</td>\n",
       "      <td>Gaussian Process</td>\n",
       "      <td>1.000000</td>\n",
       "      <td>0.167192</td>\n",
       "      <td>101.802277</td>\n",
       "    </tr>\n",
       "  </tbody>\n",
       "</table>\n",
       "</div>"
      ],
      "text/plain": [
       "                     classifier  train_score  test_score  train_time\n",
       "0  Gradient Boosting Classifier     1.000000    0.911672   85.671913\n",
       "2           Logistic Regression     0.883053    0.842271   15.734913\n",
       "6                    Neural Net     0.899860    0.823344    8.139750\n",
       "1                 Random Forest     0.997549    0.798107    0.529677\n",
       "3             Nearest Neighbors     0.834034    0.766562    0.078935\n",
       "4                 Decision Tree     1.000000    0.728707    1.656817\n",
       "8                      AdaBoost     0.599090    0.621451    9.972028\n",
       "7                   Naive Bayes     0.594888    0.602524    0.031706\n",
       "5                    Linear SVM     1.000000    0.583596   11.552373\n",
       "9              Gaussian Process     1.000000    0.167192  101.802277"
      ]
     },
     "metadata": {},
     "output_type": "display_data"
    },
    {
     "name": "stdout",
     "output_type": "stream",
     "text": [
      "Train: [   0    1    2 ... 3118 3119 3120] Validation: [ 476  477  478  479  480  481  482  483  484  485  486  487  488  489\n",
      "  490  491  492  493  494  495  496  497  498  499  500  501  502  503\n",
      "  504  505  506  507  508  509  510  511  512  513  514  515  516  517\n",
      "  518  519  520  521  522  523  524  525  526  527 1005 1006 1007 1008\n",
      " 1009 1010 1011 1012 1013 1014 1015 1016 1017 1018 1019 1020 1021 1022\n",
      " 1023 1024 1025 1026 1027 1028 1029 1030 1031 1032 1033 1034 1035 1036\n",
      " 1037 1038 1039 1040 1041 1042 1043 1044 1045 1046 1047 1048 1049 1050\n",
      " 1051 1052 1053 1054 1055 1056 1534 1535 1536 1537 1538 1539 1540 1541\n",
      " 1542 1543 1544 1545 1546 1547 1548 1549 1550 1551 1552 1553 1554 1555\n",
      " 1556 1557 1558 1559 1560 1561 1562 1563 1564 1565 1566 1567 1568 1569\n",
      " 1570 1571 1572 1573 1574 1575 1576 1577 1578 1579 1580 1581 1582 1583\n",
      " 1584 1585 2063 2064 2065 2066 2067 2068 2069 2070 2071 2072 2073 2074\n",
      " 2075 2076 2077 2078 2079 2080 2081 2082 2083 2084 2085 2086 2087 2088\n",
      " 2089 2090 2091 2092 2093 2094 2095 2096 2097 2098 2099 2100 2101 2102\n",
      " 2103 2104 2105 2106 2107 2108 2109 2110 2111 2112 2113 2114 2592 2593\n",
      " 2594 2595 2596 2597 2598 2599 2600 2601 2602 2603 2604 2605 2606 2607\n",
      " 2608 2609 2610 2611 2612 2613 2614 2615 2616 2617 2618 2619 2620 2621\n",
      " 2622 2623 2624 2625 2626 2627 2628 2629 2630 2631 2632 2633 2634 2635\n",
      " 2636 2637 2638 2639 2640 2641 2642 2643 3121 3122 3123 3124 3125 3126\n",
      " 3127 3128 3129 3130 3131 3132 3133 3134 3135 3136 3137 3138 3139 3140\n",
      " 3141 3142 3143 3144 3145 3146 3147 3148 3149 3150 3151 3152 3153 3154\n",
      " 3155 3156 3157 3158 3159 3160 3161 3162 3163 3164 3165 3166 3167 3168\n",
      " 3169 3170 3171 3172]\n"
     ]
    },
    {
     "name": "stderr",
     "output_type": "stream",
     "text": [
      "C:\\Users\\ankit\\Anaconda3\\lib\\site-packages\\ipykernel_launcher.py:25: DeprecationWarning: time.clock has been deprecated in Python 3.3 and will be removed from Python 3.8: use time.perf_counter or time.process_time instead\n",
      "C:\\Users\\ankit\\Anaconda3\\lib\\site-packages\\ipykernel_launcher.py:27: DeprecationWarning: time.clock has been deprecated in Python 3.3 and will be removed from Python 3.8: use time.perf_counter or time.process_time instead\n",
      "C:\\Users\\ankit\\Anaconda3\\lib\\site-packages\\ipykernel_launcher.py:25: DeprecationWarning: time.clock has been deprecated in Python 3.3 and will be removed from Python 3.8: use time.perf_counter or time.process_time instead\n"
     ]
    },
    {
     "name": "stdout",
     "output_type": "stream",
     "text": [
      "trained Gradient Boosting Classifier in 91.61 s\n"
     ]
    },
    {
     "name": "stderr",
     "output_type": "stream",
     "text": [
      "C:\\Users\\ankit\\Anaconda3\\lib\\site-packages\\ipykernel_launcher.py:27: DeprecationWarning: time.clock has been deprecated in Python 3.3 and will be removed from Python 3.8: use time.perf_counter or time.process_time instead\n",
      "C:\\Users\\ankit\\Anaconda3\\lib\\site-packages\\ipykernel_launcher.py:25: DeprecationWarning: time.clock has been deprecated in Python 3.3 and will be removed from Python 3.8: use time.perf_counter or time.process_time instead\n",
      "C:\\Users\\ankit\\Anaconda3\\lib\\site-packages\\sklearn\\linear_model\\logistic.py:432: FutureWarning: Default solver will be changed to 'lbfgs' in 0.22. Specify a solver to silence this warning.\n",
      "  FutureWarning)\n",
      "C:\\Users\\ankit\\Anaconda3\\lib\\site-packages\\sklearn\\linear_model\\logistic.py:469: FutureWarning: Default multi_class will be changed to 'auto' in 0.22. Specify the multi_class option to silence this warning.\n",
      "  \"this warning.\", FutureWarning)\n"
     ]
    },
    {
     "name": "stdout",
     "output_type": "stream",
     "text": [
      "trained Random Forest in 0.61 s\n"
     ]
    },
    {
     "name": "stderr",
     "output_type": "stream",
     "text": [
      "C:\\Users\\ankit\\Anaconda3\\lib\\site-packages\\ipykernel_launcher.py:27: DeprecationWarning: time.clock has been deprecated in Python 3.3 and will be removed from Python 3.8: use time.perf_counter or time.process_time instead\n",
      "C:\\Users\\ankit\\Anaconda3\\lib\\site-packages\\ipykernel_launcher.py:25: DeprecationWarning: time.clock has been deprecated in Python 3.3 and will be removed from Python 3.8: use time.perf_counter or time.process_time instead\n",
      "C:\\Users\\ankit\\Anaconda3\\lib\\site-packages\\ipykernel_launcher.py:27: DeprecationWarning: time.clock has been deprecated in Python 3.3 and will be removed from Python 3.8: use time.perf_counter or time.process_time instead\n"
     ]
    },
    {
     "name": "stdout",
     "output_type": "stream",
     "text": [
      "trained Logistic Regression in 17.91 s\n",
      "trained Nearest Neighbors in 0.08 s\n"
     ]
    },
    {
     "name": "stderr",
     "output_type": "stream",
     "text": [
      "C:\\Users\\ankit\\Anaconda3\\lib\\site-packages\\ipykernel_launcher.py:25: DeprecationWarning: time.clock has been deprecated in Python 3.3 and will be removed from Python 3.8: use time.perf_counter or time.process_time instead\n",
      "C:\\Users\\ankit\\Anaconda3\\lib\\site-packages\\ipykernel_launcher.py:27: DeprecationWarning: time.clock has been deprecated in Python 3.3 and will be removed from Python 3.8: use time.perf_counter or time.process_time instead\n",
      "C:\\Users\\ankit\\Anaconda3\\lib\\site-packages\\ipykernel_launcher.py:25: DeprecationWarning: time.clock has been deprecated in Python 3.3 and will be removed from Python 3.8: use time.perf_counter or time.process_time instead\n",
      "C:\\Users\\ankit\\Anaconda3\\lib\\site-packages\\sklearn\\svm\\base.py:193: FutureWarning: The default value of gamma will change from 'auto' to 'scale' in version 0.22 to account better for unscaled features. Set gamma explicitly to 'auto' or 'scale' to avoid this warning.\n",
      "  \"avoid this warning.\", FutureWarning)\n"
     ]
    },
    {
     "name": "stdout",
     "output_type": "stream",
     "text": [
      "trained Decision Tree in 2.20 s\n"
     ]
    },
    {
     "name": "stderr",
     "output_type": "stream",
     "text": [
      "C:\\Users\\ankit\\Anaconda3\\lib\\site-packages\\ipykernel_launcher.py:27: DeprecationWarning: time.clock has been deprecated in Python 3.3 and will be removed from Python 3.8: use time.perf_counter or time.process_time instead\n"
     ]
    },
    {
     "name": "stdout",
     "output_type": "stream",
     "text": [
      "trained Linear SVM in 11.19 s\n"
     ]
    },
    {
     "name": "stderr",
     "output_type": "stream",
     "text": [
      "C:\\Users\\ankit\\Anaconda3\\lib\\site-packages\\ipykernel_launcher.py:25: DeprecationWarning: time.clock has been deprecated in Python 3.3 and will be removed from Python 3.8: use time.perf_counter or time.process_time instead\n",
      "C:\\Users\\ankit\\Anaconda3\\lib\\site-packages\\ipykernel_launcher.py:27: DeprecationWarning: time.clock has been deprecated in Python 3.3 and will be removed from Python 3.8: use time.perf_counter or time.process_time instead\n",
      "C:\\Users\\ankit\\Anaconda3\\lib\\site-packages\\ipykernel_launcher.py:25: DeprecationWarning: time.clock has been deprecated in Python 3.3 and will be removed from Python 3.8: use time.perf_counter or time.process_time instead\n",
      "C:\\Users\\ankit\\Anaconda3\\lib\\site-packages\\ipykernel_launcher.py:27: DeprecationWarning: time.clock has been deprecated in Python 3.3 and will be removed from Python 3.8: use time.perf_counter or time.process_time instead\n",
      "C:\\Users\\ankit\\Anaconda3\\lib\\site-packages\\ipykernel_launcher.py:25: DeprecationWarning: time.clock has been deprecated in Python 3.3 and will be removed from Python 3.8: use time.perf_counter or time.process_time instead\n"
     ]
    },
    {
     "name": "stdout",
     "output_type": "stream",
     "text": [
      "trained Neural Net in 6.69 s\n",
      "trained Naive Bayes in 0.03 s\n"
     ]
    },
    {
     "name": "stderr",
     "output_type": "stream",
     "text": [
      "C:\\Users\\ankit\\Anaconda3\\lib\\site-packages\\ipykernel_launcher.py:27: DeprecationWarning: time.clock has been deprecated in Python 3.3 and will be removed from Python 3.8: use time.perf_counter or time.process_time instead\n"
     ]
    },
    {
     "name": "stdout",
     "output_type": "stream",
     "text": [
      "trained AdaBoost in 10.54 s\n"
     ]
    },
    {
     "name": "stderr",
     "output_type": "stream",
     "text": [
      "C:\\Users\\ankit\\Anaconda3\\lib\\site-packages\\ipykernel_launcher.py:25: DeprecationWarning: time.clock has been deprecated in Python 3.3 and will be removed from Python 3.8: use time.perf_counter or time.process_time instead\n",
      "C:\\Users\\ankit\\Anaconda3\\lib\\site-packages\\ipykernel_launcher.py:27: DeprecationWarning: time.clock has been deprecated in Python 3.3 and will be removed from Python 3.8: use time.perf_counter or time.process_time instead\n"
     ]
    },
    {
     "name": "stdout",
     "output_type": "stream",
     "text": [
      "trained Gaussian Process in 78.40 s\n"
     ]
    },
    {
     "data": {
      "text/html": [
       "<div>\n",
       "<style scoped>\n",
       "    .dataframe tbody tr th:only-of-type {\n",
       "        vertical-align: middle;\n",
       "    }\n",
       "\n",
       "    .dataframe tbody tr th {\n",
       "        vertical-align: top;\n",
       "    }\n",
       "\n",
       "    .dataframe thead th {\n",
       "        text-align: right;\n",
       "    }\n",
       "</style>\n",
       "<table border=\"1\" class=\"dataframe\">\n",
       "  <thead>\n",
       "    <tr style=\"text-align: right;\">\n",
       "      <th></th>\n",
       "      <th>classifier</th>\n",
       "      <th>train_score</th>\n",
       "      <th>test_score</th>\n",
       "      <th>train_time</th>\n",
       "    </tr>\n",
       "  </thead>\n",
       "  <tbody>\n",
       "    <tr>\n",
       "      <td>0</td>\n",
       "      <td>Gradient Boosting Classifier</td>\n",
       "      <td>0.998951</td>\n",
       "      <td>0.881410</td>\n",
       "      <td>91.611499</td>\n",
       "    </tr>\n",
       "    <tr>\n",
       "      <td>2</td>\n",
       "      <td>Logistic Regression</td>\n",
       "      <td>0.882908</td>\n",
       "      <td>0.868590</td>\n",
       "      <td>17.911432</td>\n",
       "    </tr>\n",
       "    <tr>\n",
       "      <td>1</td>\n",
       "      <td>Random Forest</td>\n",
       "      <td>0.996854</td>\n",
       "      <td>0.833333</td>\n",
       "      <td>0.613865</td>\n",
       "    </tr>\n",
       "    <tr>\n",
       "      <td>6</td>\n",
       "      <td>Neural Net</td>\n",
       "      <td>0.912967</td>\n",
       "      <td>0.823718</td>\n",
       "      <td>6.691010</td>\n",
       "    </tr>\n",
       "    <tr>\n",
       "      <td>3</td>\n",
       "      <td>Nearest Neighbors</td>\n",
       "      <td>0.839567</td>\n",
       "      <td>0.756410</td>\n",
       "      <td>0.080913</td>\n",
       "    </tr>\n",
       "    <tr>\n",
       "      <td>4</td>\n",
       "      <td>Decision Tree</td>\n",
       "      <td>1.000000</td>\n",
       "      <td>0.756410</td>\n",
       "      <td>2.204478</td>\n",
       "    </tr>\n",
       "    <tr>\n",
       "      <td>5</td>\n",
       "      <td>Linear SVM</td>\n",
       "      <td>1.000000</td>\n",
       "      <td>0.634615</td>\n",
       "      <td>11.193816</td>\n",
       "    </tr>\n",
       "    <tr>\n",
       "      <td>8</td>\n",
       "      <td>AdaBoost</td>\n",
       "      <td>0.653967</td>\n",
       "      <td>0.596154</td>\n",
       "      <td>10.539535</td>\n",
       "    </tr>\n",
       "    <tr>\n",
       "      <td>7</td>\n",
       "      <td>Naive Bayes</td>\n",
       "      <td>0.588256</td>\n",
       "      <td>0.560897</td>\n",
       "      <td>0.030939</td>\n",
       "    </tr>\n",
       "    <tr>\n",
       "      <td>9</td>\n",
       "      <td>Gaussian Process</td>\n",
       "      <td>1.000000</td>\n",
       "      <td>0.166667</td>\n",
       "      <td>78.397532</td>\n",
       "    </tr>\n",
       "  </tbody>\n",
       "</table>\n",
       "</div>"
      ],
      "text/plain": [
       "                     classifier  train_score  test_score  train_time\n",
       "0  Gradient Boosting Classifier     0.998951    0.881410   91.611499\n",
       "2           Logistic Regression     0.882908    0.868590   17.911432\n",
       "1                 Random Forest     0.996854    0.833333    0.613865\n",
       "6                    Neural Net     0.912967    0.823718    6.691010\n",
       "3             Nearest Neighbors     0.839567    0.756410    0.080913\n",
       "4                 Decision Tree     1.000000    0.756410    2.204478\n",
       "5                    Linear SVM     1.000000    0.634615   11.193816\n",
       "8                      AdaBoost     0.653967    0.596154   10.539535\n",
       "7                   Naive Bayes     0.588256    0.560897    0.030939\n",
       "9              Gaussian Process     1.000000    0.166667   78.397532"
      ]
     },
     "metadata": {},
     "output_type": "display_data"
    }
   ],
   "source": [
    "waveletname = 'db8'\n",
    "skf = StratifiedKFold(n_splits=10, random_state=None)\n",
    "# X is the feature set and y is the target\n",
    "for train_index, test_index in skf.split(x_train,y_train): \n",
    "    print(\"Train:\", train_index, \"Validation:\", test_index) \n",
    "    signals_train, signals_test = x_train[train_index], x_train[test_index] \n",
    "    labels_train, labels_test = y_train[train_index], y_train[test_index]    \n",
    "    X_train, Y_train = get_uci_har_features(signals_train, labels_train, waveletname)\n",
    "    X_test, Y_test = get_uci_har_features(signals_test, labels_test, waveletname)\n",
    "    models = batch_classify(X_train, Y_train, X_test, Y_test)\n",
    "    display_dict_models(models)"
   ]
  },
  {
   "cell_type": "code",
   "execution_count": null,
   "metadata": {},
   "outputs": [],
   "source": []
  },
  {
   "cell_type": "code",
   "execution_count": 58,
   "metadata": {},
   "outputs": [],
   "source": [
    "from sklearn.model_selection import cross_val_score\n",
    "from sklearn.model_selection import RepeatedKFold"
   ]
  },
  {
   "cell_type": "code",
   "execution_count": 62,
   "metadata": {},
   "outputs": [
    {
     "name": "stderr",
     "output_type": "stream",
     "text": [
      "C:\\Users\\ankit\\Anaconda3\\lib\\site-packages\\ipykernel_launcher.py:25: DeprecationWarning: time.clock has been deprecated in Python 3.3 and will be removed from Python 3.8: use time.perf_counter or time.process_time instead\n",
      "C:\\Users\\ankit\\Anaconda3\\lib\\site-packages\\ipykernel_launcher.py:27: DeprecationWarning: time.clock has been deprecated in Python 3.3 and will be removed from Python 3.8: use time.perf_counter or time.process_time instead\n",
      "C:\\Users\\ankit\\Anaconda3\\lib\\site-packages\\ipykernel_launcher.py:25: DeprecationWarning: time.clock has been deprecated in Python 3.3 and will be removed from Python 3.8: use time.perf_counter or time.process_time instead\n"
     ]
    },
    {
     "name": "stdout",
     "output_type": "stream",
     "text": [
      "trained Gradient Boosting Classifier in 74.51 s\n"
     ]
    },
    {
     "name": "stderr",
     "output_type": "stream",
     "text": [
      "C:\\Users\\ankit\\Anaconda3\\lib\\site-packages\\ipykernel_launcher.py:27: DeprecationWarning: time.clock has been deprecated in Python 3.3 and will be removed from Python 3.8: use time.perf_counter or time.process_time instead\n",
      "C:\\Users\\ankit\\Anaconda3\\lib\\site-packages\\ipykernel_launcher.py:25: DeprecationWarning: time.clock has been deprecated in Python 3.3 and will be removed from Python 3.8: use time.perf_counter or time.process_time instead\n",
      "C:\\Users\\ankit\\Anaconda3\\lib\\site-packages\\sklearn\\linear_model\\logistic.py:432: FutureWarning: Default solver will be changed to 'lbfgs' in 0.22. Specify a solver to silence this warning.\n",
      "  FutureWarning)\n",
      "C:\\Users\\ankit\\Anaconda3\\lib\\site-packages\\sklearn\\linear_model\\logistic.py:469: FutureWarning: Default multi_class will be changed to 'auto' in 0.22. Specify the multi_class option to silence this warning.\n",
      "  \"this warning.\", FutureWarning)\n"
     ]
    },
    {
     "name": "stdout",
     "output_type": "stream",
     "text": [
      "trained Random Forest in 0.43 s\n"
     ]
    },
    {
     "name": "stderr",
     "output_type": "stream",
     "text": [
      "C:\\Users\\ankit\\Anaconda3\\lib\\site-packages\\ipykernel_launcher.py:27: DeprecationWarning: time.clock has been deprecated in Python 3.3 and will be removed from Python 3.8: use time.perf_counter or time.process_time instead\n",
      "C:\\Users\\ankit\\Anaconda3\\lib\\site-packages\\ipykernel_launcher.py:25: DeprecationWarning: time.clock has been deprecated in Python 3.3 and will be removed from Python 3.8: use time.perf_counter or time.process_time instead\n",
      "C:\\Users\\ankit\\Anaconda3\\lib\\site-packages\\ipykernel_launcher.py:27: DeprecationWarning: time.clock has been deprecated in Python 3.3 and will be removed from Python 3.8: use time.perf_counter or time.process_time instead\n"
     ]
    },
    {
     "name": "stdout",
     "output_type": "stream",
     "text": [
      "trained Logistic Regression in 15.48 s\n",
      "trained Nearest Neighbors in 0.07 s\n"
     ]
    },
    {
     "name": "stderr",
     "output_type": "stream",
     "text": [
      "C:\\Users\\ankit\\Anaconda3\\lib\\site-packages\\ipykernel_launcher.py:25: DeprecationWarning: time.clock has been deprecated in Python 3.3 and will be removed from Python 3.8: use time.perf_counter or time.process_time instead\n",
      "C:\\Users\\ankit\\Anaconda3\\lib\\site-packages\\ipykernel_launcher.py:27: DeprecationWarning: time.clock has been deprecated in Python 3.3 and will be removed from Python 3.8: use time.perf_counter or time.process_time instead\n",
      "C:\\Users\\ankit\\Anaconda3\\lib\\site-packages\\ipykernel_launcher.py:25: DeprecationWarning: time.clock has been deprecated in Python 3.3 and will be removed from Python 3.8: use time.perf_counter or time.process_time instead\n",
      "C:\\Users\\ankit\\Anaconda3\\lib\\site-packages\\sklearn\\svm\\base.py:193: FutureWarning: The default value of gamma will change from 'auto' to 'scale' in version 0.22 to account better for unscaled features. Set gamma explicitly to 'auto' or 'scale' to avoid this warning.\n",
      "  \"avoid this warning.\", FutureWarning)\n"
     ]
    },
    {
     "name": "stdout",
     "output_type": "stream",
     "text": [
      "trained Decision Tree in 1.60 s\n"
     ]
    },
    {
     "name": "stderr",
     "output_type": "stream",
     "text": [
      "C:\\Users\\ankit\\Anaconda3\\lib\\site-packages\\ipykernel_launcher.py:27: DeprecationWarning: time.clock has been deprecated in Python 3.3 and will be removed from Python 3.8: use time.perf_counter or time.process_time instead\n"
     ]
    },
    {
     "name": "stdout",
     "output_type": "stream",
     "text": [
      "trained Linear SVM in 8.99 s\n"
     ]
    },
    {
     "name": "stderr",
     "output_type": "stream",
     "text": [
      "C:\\Users\\ankit\\Anaconda3\\lib\\site-packages\\ipykernel_launcher.py:25: DeprecationWarning: time.clock has been deprecated in Python 3.3 and will be removed from Python 3.8: use time.perf_counter or time.process_time instead\n",
      "C:\\Users\\ankit\\Anaconda3\\lib\\site-packages\\ipykernel_launcher.py:27: DeprecationWarning: time.clock has been deprecated in Python 3.3 and will be removed from Python 3.8: use time.perf_counter or time.process_time instead\n",
      "C:\\Users\\ankit\\Anaconda3\\lib\\site-packages\\ipykernel_launcher.py:25: DeprecationWarning: time.clock has been deprecated in Python 3.3 and will be removed from Python 3.8: use time.perf_counter or time.process_time instead\n",
      "C:\\Users\\ankit\\Anaconda3\\lib\\site-packages\\ipykernel_launcher.py:27: DeprecationWarning: time.clock has been deprecated in Python 3.3 and will be removed from Python 3.8: use time.perf_counter or time.process_time instead\n",
      "C:\\Users\\ankit\\Anaconda3\\lib\\site-packages\\ipykernel_launcher.py:25: DeprecationWarning: time.clock has been deprecated in Python 3.3 and will be removed from Python 3.8: use time.perf_counter or time.process_time instead\n"
     ]
    },
    {
     "name": "stdout",
     "output_type": "stream",
     "text": [
      "trained Neural Net in 12.25 s\n",
      "trained Naive Bayes in 0.02 s\n"
     ]
    },
    {
     "name": "stderr",
     "output_type": "stream",
     "text": [
      "C:\\Users\\ankit\\Anaconda3\\lib\\site-packages\\ipykernel_launcher.py:27: DeprecationWarning: time.clock has been deprecated in Python 3.3 and will be removed from Python 3.8: use time.perf_counter or time.process_time instead\n"
     ]
    },
    {
     "name": "stdout",
     "output_type": "stream",
     "text": [
      "trained AdaBoost in 8.20 s\n"
     ]
    },
    {
     "name": "stderr",
     "output_type": "stream",
     "text": [
      "C:\\Users\\ankit\\Anaconda3\\lib\\site-packages\\ipykernel_launcher.py:25: DeprecationWarning: time.clock has been deprecated in Python 3.3 and will be removed from Python 3.8: use time.perf_counter or time.process_time instead\n",
      "C:\\Users\\ankit\\Anaconda3\\lib\\site-packages\\ipykernel_launcher.py:27: DeprecationWarning: time.clock has been deprecated in Python 3.3 and will be removed from Python 3.8: use time.perf_counter or time.process_time instead\n"
     ]
    },
    {
     "name": "stdout",
     "output_type": "stream",
     "text": [
      "trained Gaussian Process in 77.39 s\n"
     ]
    },
    {
     "ename": "TypeError",
     "evalue": "cross_val_score() got an unexpected keyword argument 'kf'",
     "output_type": "error",
     "traceback": [
      "\u001b[1;31m---------------------------------------------------------------------------\u001b[0m",
      "\u001b[1;31mTypeError\u001b[0m                                 Traceback (most recent call last)",
      "\u001b[1;32m<ipython-input-62-dbf7e45bfb2e>\u001b[0m in \u001b[0;36m<module>\u001b[1;34m\u001b[0m\n\u001b[0;32m      9\u001b[0m     \u001b[0mX_test\u001b[0m\u001b[1;33m,\u001b[0m \u001b[0mY_test\u001b[0m \u001b[1;33m=\u001b[0m \u001b[0mget_uci_har_features\u001b[0m\u001b[1;33m(\u001b[0m\u001b[0msignals_test\u001b[0m\u001b[1;33m,\u001b[0m \u001b[0mlabels_test\u001b[0m\u001b[1;33m,\u001b[0m \u001b[0mwaveletname\u001b[0m\u001b[1;33m)\u001b[0m\u001b[1;33m\u001b[0m\u001b[1;33m\u001b[0m\u001b[0m\n\u001b[0;32m     10\u001b[0m     \u001b[0mmodels\u001b[0m \u001b[1;33m=\u001b[0m \u001b[0mbatch_classify\u001b[0m\u001b[1;33m(\u001b[0m\u001b[0mX_train\u001b[0m\u001b[1;33m,\u001b[0m \u001b[0mY_train\u001b[0m\u001b[1;33m,\u001b[0m \u001b[0mX_test\u001b[0m\u001b[1;33m,\u001b[0m \u001b[0mY_test\u001b[0m\u001b[1;33m)\u001b[0m\u001b[1;33m\u001b[0m\u001b[1;33m\u001b[0m\u001b[0m\n\u001b[1;32m---> 11\u001b[1;33m     \u001b[0mscores\u001b[0m \u001b[1;33m=\u001b[0m \u001b[0mcross_val_score\u001b[0m\u001b[1;33m(\u001b[0m\u001b[0mmodels\u001b[0m\u001b[1;33m,\u001b[0m \u001b[0mX_test\u001b[0m\u001b[1;33m,\u001b[0m \u001b[0mY_test\u001b[0m\u001b[1;33m,\u001b[0m \u001b[0mscoring\u001b[0m\u001b[1;33m=\u001b[0m\u001b[1;34m'accuracy'\u001b[0m\u001b[1;33m,\u001b[0m \u001b[0mkf\u001b[0m\u001b[1;33m=\u001b[0m\u001b[0mkf\u001b[0m\u001b[1;33m,\u001b[0m \u001b[0mn_jobs\u001b[0m\u001b[1;33m=\u001b[0m\u001b[1;33m-\u001b[0m\u001b[1;36m1\u001b[0m\u001b[1;33m)\u001b[0m\u001b[1;33m\u001b[0m\u001b[1;33m\u001b[0m\u001b[0m\n\u001b[0m\u001b[0;32m     12\u001b[0m     \u001b[0mprint\u001b[0m\u001b[1;33m(\u001b[0m\u001b[1;34m'Accuracy: %.3f (%.3f)'\u001b[0m \u001b[1;33m%\u001b[0m \u001b[1;33m(\u001b[0m\u001b[0mmean\u001b[0m\u001b[1;33m(\u001b[0m\u001b[0mscores\u001b[0m\u001b[1;33m)\u001b[0m\u001b[1;33m,\u001b[0m \u001b[0mstd\u001b[0m\u001b[1;33m(\u001b[0m\u001b[0mscores\u001b[0m\u001b[1;33m)\u001b[0m\u001b[1;33m)\u001b[0m\u001b[1;33m)\u001b[0m\u001b[1;33m\u001b[0m\u001b[1;33m\u001b[0m\u001b[0m\n\u001b[0;32m     13\u001b[0m     \u001b[0mdisplay_dict_models\u001b[0m\u001b[1;33m(\u001b[0m\u001b[0mmodels\u001b[0m\u001b[1;33m)\u001b[0m\u001b[1;33m\u001b[0m\u001b[1;33m\u001b[0m\u001b[0m\n",
      "\u001b[1;31mTypeError\u001b[0m: cross_val_score() got an unexpected keyword argument 'kf'"
     ]
    }
   ],
   "source": [
    "waveletname = 'db8'\n",
    "kf = RepeatedKFold(n_splits=5, n_repeats=10, random_state=None) \n",
    "\n",
    "for train_index, test_index in kf.split(x_train):\n",
    "#     print(\"Train:\", train_index, \"Validation:\",test_index)\n",
    "    signals_train, signals_test = x_train[train_index], x_train[test_index] \n",
    "    labels_train, labels_test = y_train[train_index], y_train[test_index]    \n",
    "    X_train, Y_train = get_uci_har_features(signals_train, labels_train, waveletname)\n",
    "    X_test, Y_test = get_uci_har_features(signals_test, labels_test, waveletname)\n",
    "    models = batch_classify(X_train, Y_train, X_test, Y_test)\n",
    "    scores = cross_val_score(models, X_test, Y_test, scoring='accuracy', kf=kf, n_jobs=-1)\n",
    "    print('Accuracy: %.3f (%.3f)' % (mean(scores), std(scores)))\n",
    "    display_dict_models(models)\n",
    "#       X_train, X_test = X[train_index], X[test_index] \n",
    "#       y_train, y_test = y[train_index], y[test_index]"
   ]
  },
  {
   "cell_type": "code",
   "execution_count": null,
   "metadata": {},
   "outputs": [],
   "source": [
    "scores = cross_val_score(model, X, y, scoring='accuracy', kf=kf, n_jobs=-1)"
   ]
  },
  {
   "cell_type": "code",
   "execution_count": null,
   "metadata": {},
   "outputs": [],
   "source": [
    "print(\"done\")"
   ]
  },
  {
   "cell_type": "code",
   "execution_count": null,
   "metadata": {},
   "outputs": [],
   "source": []
  },
  {
   "cell_type": "code",
   "execution_count": 75,
   "metadata": {},
   "outputs": [],
   "source": [
    "signals_train, labels_train = randomize(x_train, y_train)\n",
    "signals_test, labels_test = randomize(x_test, y_test) "
   ]
  },
  {
   "cell_type": "code",
   "execution_count": 80,
   "metadata": {},
   "outputs": [],
   "source": [
    "waveletname = 'db8'\n",
    "X_train, Y_train = get_uci_har_features(signals_train, labels_train, waveletname)\n",
    "X_test, Y_test = get_uci_har_features(signals_test, labels_test, waveletname)"
   ]
  },
  {
   "cell_type": "code",
   "execution_count": 81,
   "metadata": {},
   "outputs": [
    {
     "name": "stderr",
     "output_type": "stream",
     "text": [
      "C:\\Users\\ankit\\Anaconda3\\lib\\site-packages\\ipykernel_launcher.py:25: DeprecationWarning: time.clock has been deprecated in Python 3.3 and will be removed from Python 3.8: use time.perf_counter or time.process_time instead\n",
      "C:\\Users\\ankit\\Anaconda3\\lib\\site-packages\\ipykernel_launcher.py:27: DeprecationWarning: time.clock has been deprecated in Python 3.3 and will be removed from Python 3.8: use time.perf_counter or time.process_time instead\n"
     ]
    },
    {
     "name": "stdout",
     "output_type": "stream",
     "text": [
      "trained Gradient Boosting Classifier in 98.66 s\n"
     ]
    },
    {
     "name": "stderr",
     "output_type": "stream",
     "text": [
      "C:\\Users\\ankit\\Anaconda3\\lib\\site-packages\\ipykernel_launcher.py:25: DeprecationWarning: time.clock has been deprecated in Python 3.3 and will be removed from Python 3.8: use time.perf_counter or time.process_time instead\n",
      "C:\\Users\\ankit\\Anaconda3\\lib\\site-packages\\sklearn\\ensemble\\forest.py:245: FutureWarning: The default value of n_estimators will change from 10 in version 0.20 to 100 in 0.22.\n",
      "  \"10 in version 0.20 to 100 in 0.22.\", FutureWarning)\n",
      "C:\\Users\\ankit\\Anaconda3\\lib\\site-packages\\ipykernel_launcher.py:27: DeprecationWarning: time.clock has been deprecated in Python 3.3 and will be removed from Python 3.8: use time.perf_counter or time.process_time instead\n",
      "C:\\Users\\ankit\\Anaconda3\\lib\\site-packages\\ipykernel_launcher.py:25: DeprecationWarning: time.clock has been deprecated in Python 3.3 and will be removed from Python 3.8: use time.perf_counter or time.process_time instead\n",
      "C:\\Users\\ankit\\Anaconda3\\lib\\site-packages\\sklearn\\linear_model\\logistic.py:432: FutureWarning: Default solver will be changed to 'lbfgs' in 0.22. Specify a solver to silence this warning.\n",
      "  FutureWarning)\n",
      "C:\\Users\\ankit\\Anaconda3\\lib\\site-packages\\sklearn\\linear_model\\logistic.py:469: FutureWarning: Default multi_class will be changed to 'auto' in 0.22. Specify the multi_class option to silence this warning.\n",
      "  \"this warning.\", FutureWarning)\n"
     ]
    },
    {
     "name": "stdout",
     "output_type": "stream",
     "text": [
      "trained Random Forest in 0.70 s\n"
     ]
    },
    {
     "name": "stderr",
     "output_type": "stream",
     "text": [
      "C:\\Users\\ankit\\Anaconda3\\lib\\site-packages\\ipykernel_launcher.py:27: DeprecationWarning: time.clock has been deprecated in Python 3.3 and will be removed from Python 3.8: use time.perf_counter or time.process_time instead\n",
      "C:\\Users\\ankit\\Anaconda3\\lib\\site-packages\\ipykernel_launcher.py:25: DeprecationWarning: time.clock has been deprecated in Python 3.3 and will be removed from Python 3.8: use time.perf_counter or time.process_time instead\n",
      "C:\\Users\\ankit\\Anaconda3\\lib\\site-packages\\ipykernel_launcher.py:27: DeprecationWarning: time.clock has been deprecated in Python 3.3 and will be removed from Python 3.8: use time.perf_counter or time.process_time instead\n"
     ]
    },
    {
     "name": "stdout",
     "output_type": "stream",
     "text": [
      "trained Logistic Regression in 21.29 s\n",
      "trained Nearest Neighbors in 0.09 s\n"
     ]
    },
    {
     "name": "stderr",
     "output_type": "stream",
     "text": [
      "C:\\Users\\ankit\\Anaconda3\\lib\\site-packages\\ipykernel_launcher.py:25: DeprecationWarning: time.clock has been deprecated in Python 3.3 and will be removed from Python 3.8: use time.perf_counter or time.process_time instead\n",
      "C:\\Users\\ankit\\Anaconda3\\lib\\site-packages\\ipykernel_launcher.py:27: DeprecationWarning: time.clock has been deprecated in Python 3.3 and will be removed from Python 3.8: use time.perf_counter or time.process_time instead\n",
      "C:\\Users\\ankit\\Anaconda3\\lib\\site-packages\\ipykernel_launcher.py:25: DeprecationWarning: time.clock has been deprecated in Python 3.3 and will be removed from Python 3.8: use time.perf_counter or time.process_time instead\n",
      "C:\\Users\\ankit\\Anaconda3\\lib\\site-packages\\sklearn\\svm\\base.py:193: FutureWarning: The default value of gamma will change from 'auto' to 'scale' in version 0.22 to account better for unscaled features. Set gamma explicitly to 'auto' or 'scale' to avoid this warning.\n",
      "  \"avoid this warning.\", FutureWarning)\n"
     ]
    },
    {
     "name": "stdout",
     "output_type": "stream",
     "text": [
      "trained Decision Tree in 2.03 s\n"
     ]
    },
    {
     "name": "stderr",
     "output_type": "stream",
     "text": [
      "C:\\Users\\ankit\\Anaconda3\\lib\\site-packages\\ipykernel_launcher.py:27: DeprecationWarning: time.clock has been deprecated in Python 3.3 and will be removed from Python 3.8: use time.perf_counter or time.process_time instead\n"
     ]
    },
    {
     "name": "stdout",
     "output_type": "stream",
     "text": [
      "trained Linear SVM in 15.92 s\n"
     ]
    },
    {
     "name": "stderr",
     "output_type": "stream",
     "text": [
      "C:\\Users\\ankit\\Anaconda3\\lib\\site-packages\\ipykernel_launcher.py:25: DeprecationWarning: time.clock has been deprecated in Python 3.3 and will be removed from Python 3.8: use time.perf_counter or time.process_time instead\n",
      "C:\\Users\\ankit\\Anaconda3\\lib\\site-packages\\ipykernel_launcher.py:27: DeprecationWarning: time.clock has been deprecated in Python 3.3 and will be removed from Python 3.8: use time.perf_counter or time.process_time instead\n",
      "C:\\Users\\ankit\\Anaconda3\\lib\\site-packages\\ipykernel_launcher.py:25: DeprecationWarning: time.clock has been deprecated in Python 3.3 and will be removed from Python 3.8: use time.perf_counter or time.process_time instead\n",
      "C:\\Users\\ankit\\Anaconda3\\lib\\site-packages\\ipykernel_launcher.py:27: DeprecationWarning: time.clock has been deprecated in Python 3.3 and will be removed from Python 3.8: use time.perf_counter or time.process_time instead\n"
     ]
    },
    {
     "name": "stdout",
     "output_type": "stream",
     "text": [
      "trained Neural Net in 12.15 s\n",
      "trained Naive Bayes in 0.04 s\n"
     ]
    },
    {
     "name": "stderr",
     "output_type": "stream",
     "text": [
      "C:\\Users\\ankit\\Anaconda3\\lib\\site-packages\\ipykernel_launcher.py:25: DeprecationWarning: time.clock has been deprecated in Python 3.3 and will be removed from Python 3.8: use time.perf_counter or time.process_time instead\n",
      "C:\\Users\\ankit\\Anaconda3\\lib\\site-packages\\ipykernel_launcher.py:27: DeprecationWarning: time.clock has been deprecated in Python 3.3 and will be removed from Python 3.8: use time.perf_counter or time.process_time instead\n"
     ]
    },
    {
     "name": "stdout",
     "output_type": "stream",
     "text": [
      "trained AdaBoost in 11.35 s\n"
     ]
    },
    {
     "name": "stderr",
     "output_type": "stream",
     "text": [
      "C:\\Users\\ankit\\Anaconda3\\lib\\site-packages\\ipykernel_launcher.py:25: DeprecationWarning: time.clock has been deprecated in Python 3.3 and will be removed from Python 3.8: use time.perf_counter or time.process_time instead\n",
      "C:\\Users\\ankit\\Anaconda3\\lib\\site-packages\\ipykernel_launcher.py:27: DeprecationWarning: time.clock has been deprecated in Python 3.3 and will be removed from Python 3.8: use time.perf_counter or time.process_time instead\n"
     ]
    },
    {
     "name": "stdout",
     "output_type": "stream",
     "text": [
      "trained Gaussian Process in 132.94 s\n"
     ]
    },
    {
     "data": {
      "text/html": [
       "<div>\n",
       "<style scoped>\n",
       "    .dataframe tbody tr th:only-of-type {\n",
       "        vertical-align: middle;\n",
       "    }\n",
       "\n",
       "    .dataframe tbody tr th {\n",
       "        vertical-align: top;\n",
       "    }\n",
       "\n",
       "    .dataframe thead th {\n",
       "        text-align: right;\n",
       "    }\n",
       "</style>\n",
       "<table border=\"1\" class=\"dataframe\">\n",
       "  <thead>\n",
       "    <tr style=\"text-align: right;\">\n",
       "      <th></th>\n",
       "      <th>classifier</th>\n",
       "      <th>train_score</th>\n",
       "      <th>test_score</th>\n",
       "      <th>train_time</th>\n",
       "    </tr>\n",
       "  </thead>\n",
       "  <tbody>\n",
       "    <tr>\n",
       "      <td>0</td>\n",
       "      <td>Gradient Boosting Classifier</td>\n",
       "      <td>0.997164</td>\n",
       "      <td>0.890522</td>\n",
       "      <td>98.661732</td>\n",
       "    </tr>\n",
       "    <tr>\n",
       "      <td>1</td>\n",
       "      <td>Random Forest</td>\n",
       "      <td>0.995273</td>\n",
       "      <td>0.849375</td>\n",
       "      <td>0.701507</td>\n",
       "    </tr>\n",
       "    <tr>\n",
       "      <td>2</td>\n",
       "      <td>Logistic Regression</td>\n",
       "      <td>0.889379</td>\n",
       "      <td>0.828068</td>\n",
       "      <td>21.292451</td>\n",
       "    </tr>\n",
       "    <tr>\n",
       "      <td>6</td>\n",
       "      <td>Neural Net</td>\n",
       "      <td>0.925307</td>\n",
       "      <td>0.818516</td>\n",
       "      <td>12.149683</td>\n",
       "    </tr>\n",
       "    <tr>\n",
       "      <td>3</td>\n",
       "      <td>Nearest Neighbors</td>\n",
       "      <td>0.840845</td>\n",
       "      <td>0.768553</td>\n",
       "      <td>0.093753</td>\n",
       "    </tr>\n",
       "    <tr>\n",
       "      <td>4</td>\n",
       "      <td>Decision Tree</td>\n",
       "      <td>1.000000</td>\n",
       "      <td>0.764144</td>\n",
       "      <td>2.033783</td>\n",
       "    </tr>\n",
       "    <tr>\n",
       "      <td>8</td>\n",
       "      <td>AdaBoost</td>\n",
       "      <td>0.645446</td>\n",
       "      <td>0.648053</td>\n",
       "      <td>11.353185</td>\n",
       "    </tr>\n",
       "    <tr>\n",
       "      <td>5</td>\n",
       "      <td>Linear SVM</td>\n",
       "      <td>1.000000</td>\n",
       "      <td>0.591477</td>\n",
       "      <td>15.919015</td>\n",
       "    </tr>\n",
       "    <tr>\n",
       "      <td>7</td>\n",
       "      <td>Naive Bayes</td>\n",
       "      <td>0.576741</td>\n",
       "      <td>0.574578</td>\n",
       "      <td>0.036206</td>\n",
       "    </tr>\n",
       "    <tr>\n",
       "      <td>9</td>\n",
       "      <td>Gaussian Process</td>\n",
       "      <td>1.000000</td>\n",
       "      <td>0.166789</td>\n",
       "      <td>132.935192</td>\n",
       "    </tr>\n",
       "  </tbody>\n",
       "</table>\n",
       "</div>"
      ],
      "text/plain": [
       "                     classifier  train_score  test_score  train_time\n",
       "0  Gradient Boosting Classifier     0.997164    0.890522   98.661732\n",
       "1                 Random Forest     0.995273    0.849375    0.701507\n",
       "2           Logistic Regression     0.889379    0.828068   21.292451\n",
       "6                    Neural Net     0.925307    0.818516   12.149683\n",
       "3             Nearest Neighbors     0.840845    0.768553    0.093753\n",
       "4                 Decision Tree     1.000000    0.764144    2.033783\n",
       "8                      AdaBoost     0.645446    0.648053   11.353185\n",
       "5                    Linear SVM     1.000000    0.591477   15.919015\n",
       "7                   Naive Bayes     0.576741    0.574578    0.036206\n",
       "9              Gaussian Process     1.000000    0.166789  132.935192"
      ]
     },
     "metadata": {},
     "output_type": "display_data"
    }
   ],
   "source": [
    "models = batch_classify(X_train, Y_train, X_test, Y_test)\n",
    "display_dict_models(models)"
   ]
  },
  {
   "cell_type": "code",
   "execution_count": null,
   "metadata": {},
   "outputs": [],
   "source": []
  }
 ],
 "metadata": {
  "kernelspec": {
   "display_name": "Python 3",
   "language": "python",
   "name": "python3"
  },
  "language_info": {
   "codemirror_mode": {
    "name": "ipython",
    "version": 3
   },
   "file_extension": ".py",
   "mimetype": "text/x-python",
   "name": "python",
   "nbconvert_exporter": "python",
   "pygments_lexer": "ipython3",
   "version": "3.7.4"
  }
 },
 "nbformat": 4,
 "nbformat_minor": 2
}
